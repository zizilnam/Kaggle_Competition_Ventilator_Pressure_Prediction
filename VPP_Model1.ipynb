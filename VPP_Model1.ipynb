{
  "nbformat": 4,
  "nbformat_minor": 0,
  "metadata": {
    "colab": {
      "name": "VPP_Model1",
      "provenance": [],
      "mount_file_id": "1CFZYzxINZTXSZAZU6ISgy8zhPAX46tr7",
      "authorship_tag": "ABX9TyOMGCuqSO+HI7/VA2yqsFvG",
      "include_colab_link": true
    },
    "kernelspec": {
      "name": "python3",
      "display_name": "Python 3"
    },
    "language_info": {
      "name": "python"
    }
  },
  "cells": [
    {
      "cell_type": "markdown",
      "metadata": {
        "id": "view-in-github",
        "colab_type": "text"
      },
      "source": [
        "<a href=\"https://colab.research.google.com/github/zizilnam/Kaggle_Ventilator_Pressure_Prediction/blob/main/VPP_Model1.ipynb\" target=\"_parent\"><img src=\"https://colab.research.google.com/assets/colab-badge.svg\" alt=\"Open In Colab\"/></a>"
      ]
    },
    {
      "cell_type": "code",
      "metadata": {
        "colab": {
          "base_uri": "https://localhost:8080/"
        },
        "id": "iFavxSthm2BC",
        "outputId": "b9f32d9f-0249-4b95-bc9e-35d8f66a5967"
      },
      "source": [
        "pip install bayesian-optimization"
      ],
      "execution_count": null,
      "outputs": [
        {
          "output_type": "stream",
          "name": "stdout",
          "text": [
            "Collecting bayesian-optimization\n",
            "  Downloading bayesian-optimization-1.2.0.tar.gz (14 kB)\n",
            "Requirement already satisfied: numpy>=1.9.0 in /usr/local/lib/python3.7/dist-packages (from bayesian-optimization) (1.19.5)\n",
            "Requirement already satisfied: scipy>=0.14.0 in /usr/local/lib/python3.7/dist-packages (from bayesian-optimization) (1.4.1)\n",
            "Requirement already satisfied: scikit-learn>=0.18.0 in /usr/local/lib/python3.7/dist-packages (from bayesian-optimization) (0.22.2.post1)\n",
            "Requirement already satisfied: joblib>=0.11 in /usr/local/lib/python3.7/dist-packages (from scikit-learn>=0.18.0->bayesian-optimization) (1.0.1)\n",
            "Building wheels for collected packages: bayesian-optimization\n",
            "  Building wheel for bayesian-optimization (setup.py) ... \u001b[?25l\u001b[?25hdone\n",
            "  Created wheel for bayesian-optimization: filename=bayesian_optimization-1.2.0-py3-none-any.whl size=11685 sha256=b271feaf3b13b9681dc7b22b6ef1bb013738b5d18bc593027a606a80aba3f171\n",
            "  Stored in directory: /root/.cache/pip/wheels/fd/9b/71/f127d694e02eb40bcf18c7ae9613b88a6be4470f57a8528c5b\n",
            "Successfully built bayesian-optimization\n",
            "Installing collected packages: bayesian-optimization\n",
            "Successfully installed bayesian-optimization-1.2.0\n"
          ]
        }
      ]
    },
    {
      "cell_type": "code",
      "metadata": {
        "id": "wFSAIxgsnh3E"
      },
      "source": [
        "import pandas as pd\n",
        "import numpy as np\n",
        "import matplotlib.pyplot as plt\n",
        "import seaborn as sns\n",
        "\n",
        "from sklearn.preprocessing import MinMaxScaler\n",
        "\n",
        "from sklearn.model_selection import GridSearchCV\n",
        "from sklearn.model_selection import RandomizedSearchCV\n",
        "from sklearn.model_selection import train_test_split\n",
        "from sklearn.model_selection import StratifiedKFold, RepeatedKFold, KFold\n",
        "\n",
        "from sklearn.tree import DecisionTreeRegressor\n",
        "from sklearn.linear_model import LinearRegression\n",
        "from sklearn.linear_model import SGDRegressor\n",
        "from sklearn.ensemble import RandomForestRegressor\n",
        "\n",
        "from mlxtend.regressor import StackingCVRegressor\n",
        "from sklearn.ensemble import StackingRegressor\n",
        "from bayes_opt import BayesianOptimization\n",
        "from sklearn.linear_model import BayesianRidge\n",
        "\n",
        "import lightgbm as lgb\n",
        "\n",
        "from sklearn.metrics import mean_absolute_error\n",
        "from math import sqrt\n",
        "\n",
        "import joblib\n",
        "import pickle\n",
        "\n",
        "from tqdm import tqdm_notebook as tqdm\n",
        "import time\n",
        "import gc\n",
        "import warnings\n",
        "warnings.filterwarnings('ignore')"
      ],
      "execution_count": null,
      "outputs": []
    },
    {
      "cell_type": "code",
      "metadata": {
        "colab": {
          "base_uri": "https://localhost:8080/"
        },
        "id": "ORHNT4HEnkSz",
        "outputId": "7213185a-810e-4b3c-a36a-2e460f459b01"
      },
      "source": [
        "%cd /content/drive/MyDrive/Ventilator Pressure Prediction"
      ],
      "execution_count": null,
      "outputs": [
        {
          "output_type": "stream",
          "name": "stdout",
          "text": [
            "/content/drive/MyDrive/Ventilator Pressure Prediction\n"
          ]
        }
      ]
    },
    {
      "cell_type": "code",
      "metadata": {
        "id": "2tO_Swrunuj0"
      },
      "source": [
        "train = pd.read_csv('first_processed_train_df.csv')\n",
        "test = pd.read_csv('first_processed_test_df.csv')"
      ],
      "execution_count": null,
      "outputs": []
    },
    {
      "cell_type": "code",
      "metadata": {
        "id": "sgQ80aHjyYAp"
      },
      "source": [
        "train.drop(columns=['u_in_diff', 'u_out_diff'], inplace=True, axis=1)\n",
        "test.drop(columns=['u_in_diff', 'u_out_diff'], inplace=True, axis=1)"
      ],
      "execution_count": null,
      "outputs": []
    },
    {
      "cell_type": "code",
      "metadata": {
        "id": "YJs9we00n9_x"
      },
      "source": [
        "y_train = train['pressure']\n",
        "train_ids = train['id']\n",
        "train.drop(columns=['id','breath_id', 'pressure'], inplace=True, axis=1)\n",
        "X_train = train"
      ],
      "execution_count": null,
      "outputs": []
    },
    {
      "cell_type": "code",
      "metadata": {
        "id": "dJIN9nluoIWc"
      },
      "source": [
        "ids = test['id']\n",
        "test.drop(columns=['id','breath_id'], inplace=True, axis=1)"
      ],
      "execution_count": null,
      "outputs": []
    },
    {
      "cell_type": "code",
      "metadata": {
        "id": "SOFRBkvtrpfi"
      },
      "source": [
        "columns = train.columns"
      ],
      "execution_count": null,
      "outputs": []
    },
    {
      "cell_type": "code",
      "metadata": {
        "id": "ErPX-nCwwvvh"
      },
      "source": [
        "X_train, X_test, y_train, y_test = train_test_split(X_train, y_train, test_size = 0.2)"
      ],
      "execution_count": null,
      "outputs": []
    },
    {
      "cell_type": "code",
      "metadata": {
        "colab": {
          "base_uri": "https://localhost:8080/"
        },
        "id": "5szlN_TnwQLj",
        "outputId": "19e2a3f2-9823-45d1-b00d-8b0b86d7a7e1"
      },
      "source": [
        "model = LinearRegression()\n",
        "model.fit(X_train, y_train)"
      ],
      "execution_count": null,
      "outputs": [
        {
          "output_type": "execute_result",
          "data": {
            "text/plain": [
              "LinearRegression(copy_X=True, fit_intercept=True, n_jobs=None, normalize=False)"
            ]
          },
          "metadata": {},
          "execution_count": 10
        }
      ]
    },
    {
      "cell_type": "code",
      "metadata": {
        "colab": {
          "base_uri": "https://localhost:8080/"
        },
        "id": "UC1d13fnwTYg",
        "outputId": "7d3e7e6d-b8e3-46b1-aa80-59262767e0d4"
      },
      "source": [
        "y_pred_train = model.predict(X_train)\n",
        "y_pred_test = model.predict(X_test)\n",
        "train_mae =mean_absolute_error(y_train, y_pred_train)\n",
        "test_mae = mean_absolute_error(y_test, y_pred_test)\n",
        "print(\"Train MAE: {:2.5f}\".format(train_mae))\n",
        "print(\"Test MAE: {:2.5f}\".format(test_mae))"
      ],
      "execution_count": null,
      "outputs": [
        {
          "output_type": "stream",
          "name": "stdout",
          "text": [
            "Train MAE: 3.07075\n",
            "Test MAE: 3.07221\n"
          ]
        }
      ]
    },
    {
      "cell_type": "code",
      "metadata": {
        "id": "nlIoVNX-xMRg"
      },
      "source": [
        "alpha = [0.000001, 0.00001, 0.0001, 0.001, 0.01, 0.1, 1, 10, 100, 1000, 10000, 100000]\n",
        "params = {'alpha': alpha}\n",
        "\n",
        "model=SGDRegressor()\n",
        "grid_search = GridSearchCV(model, params, scoring = 'neg_mean_absolute_error', cv = 5)\n",
        "grid_search.fit(X_train, y_train)\n",
        "grid_search.best_params_"
      ],
      "execution_count": null,
      "outputs": []
    },
    {
      "cell_type": "code",
      "metadata": {
        "colab": {
          "base_uri": "https://localhost:8080/"
        },
        "id": "V9KWZ7ohxXpq",
        "outputId": "aa206d0d-a5bf-4825-e80f-05855878e7d9"
      },
      "source": [
        "model = SGDRegressor(alpha=0.0001)\n",
        "model.fit(X_train, y_train)\n",
        "\n",
        "y_pred_train = model.predict(X_train)\n",
        "y_pred_test = model.predict(X_test)\n",
        "\n",
        "train_mae =mean_absolute_error(y_train, y_pred_train)\n",
        "test_mae = mean_absolute_error(y_test, y_pred_test)\n",
        "\n",
        "print(\"Train MAE: {:2.5f}\".format(train_mae))\n",
        "print(\"Test MAE: {:2.5f}\".format(test_mae))"
      ],
      "execution_count": null,
      "outputs": [
        {
          "output_type": "stream",
          "name": "stdout",
          "text": [
            "Train MAE: 11328940461895.34961\n",
            "Test MAE: 11319976717520.04883\n"
          ]
        }
      ]
    },
    {
      "cell_type": "code",
      "metadata": {
        "id": "vAbZqkTm7WMj"
      },
      "source": [
        "params = {\n",
        "            'n_estimators': [10, 50, 100, 150, 250, 500],\n",
        "            'max_depth': [2, 4, 6, 8, 10],\n",
        "            #'col_sample_rate': [0.5, 0.6, 0.7, 0.8, 0.9, 1],\n",
        "            'min_samples_split': [2, 4, 6, 8, 10],\n",
        "            \n",
        "}\n",
        "\n",
        "model=RandomForestRegressor(n_jobs=-1)\n",
        "random_search = GridSearchCV(model, params, scoring = 'neg_mean_absolute_error', cv = 5)\n",
        "random_search.fit(X_train, y_train)\n",
        "random_search.best_params_"
      ],
      "execution_count": null,
      "outputs": []
    },
    {
      "cell_type": "code",
      "metadata": {
        "id": "1mQFyD8T7jWD"
      },
      "source": [
        "model = RandomForestRegressor(n_jobs=-1, n_estimators = 500, min_samples_split = 8, max_depth = 10)\n",
        "model.fit(X_train, y_train)\n",
        "\n",
        "y_pred_train = model.predict(X_train)\n",
        "y_pred_test = model.predict(X_test)\n",
        "\n",
        "train_rmse = sqrt(mean_squared_error(y_train, y_pred_train))\n",
        "test_rmse = sqrt(mean_squared_error(y_test, y_pred_test))\n",
        "\n",
        "print(\"Train RMSE: {:2.5f}\".format(train_rmse))\n",
        "print(\"Test RMSE: {:2.5f}\".format(test_rmse))"
      ],
      "execution_count": null,
      "outputs": []
    }
  ]
}