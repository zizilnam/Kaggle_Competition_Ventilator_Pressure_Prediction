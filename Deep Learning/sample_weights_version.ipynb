{
  "nbformat": 4,
  "nbformat_minor": 0,
  "metadata": {
    "kernelspec": {
      "language": "python",
      "display_name": "Python 3",
      "name": "python3"
    },
    "language_info": {
      "name": "python",
      "version": "3.7.10",
      "mimetype": "text/x-python",
      "codemirror_mode": {
        "name": "ipython",
        "version": 3
      },
      "pygments_lexer": "ipython3",
      "nbconvert_exporter": "python",
      "file_extension": ".py"
    },
    "colab": {
      "name": "sample-weights-version.ipynb",
      "provenance": [],
      "include_colab_link": true
    }
  },
  "cells": [
    {
      "cell_type": "markdown",
      "metadata": {
        "id": "view-in-github",
        "colab_type": "text"
      },
      "source": [
        "<a href=\"https://colab.research.google.com/github/zizilnam/Kaggle_Competition_Ventilator_Pressure_Prediction/blob/main/sample_weights_version.ipynb\" target=\"_parent\"><img src=\"https://colab.research.google.com/assets/colab-badge.svg\" alt=\"Open In Colab\"/></a>"
      ]
    },
    {
      "cell_type": "markdown",
      "metadata": {
        "id": "R9fDXHpSkTT2"
      },
      "source": [
        "# Bi-LSTM with GRU (TPU) \n",
        " - source: https://www.kaggle.com/hrshuvo/dnn-lstm-tpu \n",
        " - just added reduce memory codes for Saving RAM"
      ]
    },
    {
      "cell_type": "code",
      "metadata": {
        "execution": {
          "iopub.status.busy": "2021-11-03T08:06:36.723320Z",
          "iopub.execute_input": "2021-11-03T08:06:36.723674Z",
          "iopub.status.idle": "2021-11-03T08:06:36.753367Z",
          "shell.execute_reply.started": "2021-11-03T08:06:36.723584Z",
          "shell.execute_reply": "2021-11-03T08:06:36.752584Z"
        },
        "trusted": true,
        "id": "ETYBVpjokTT7"
      },
      "source": [
        "## base_path \n",
        "base_path = '../input/ventilator-pressure-prediction/'"
      ],
      "execution_count": null,
      "outputs": []
    },
    {
      "cell_type": "markdown",
      "metadata": {
        "id": "39tCpujCkTT9"
      },
      "source": [
        "## Import & base_path"
      ]
    },
    {
      "cell_type": "code",
      "metadata": {
        "_uuid": "8f2839f25d086af736a60e9eeb907d3b93b6e0e5",
        "_cell_guid": "b1076dfc-b9ad-4769-8c92-a6c4dae69d19",
        "execution": {
          "iopub.status.busy": "2021-11-03T08:06:36.754922Z",
          "iopub.execute_input": "2021-11-03T08:06:36.755167Z",
          "iopub.status.idle": "2021-11-03T08:06:43.798531Z",
          "shell.execute_reply.started": "2021-11-03T08:06:36.755141Z",
          "shell.execute_reply": "2021-11-03T08:06:43.797442Z"
        },
        "trusted": true,
        "id": "1wFIHQV9kTT9"
      },
      "source": [
        "import numpy as np\n",
        "import pandas as pd\n",
        "import gc\n",
        "import os\n",
        "\n",
        "from sklearn.model_selection import KFold\n",
        "from sklearn.preprocessing import RobustScaler, normalize\n",
        "from sklearn.metrics import mean_absolute_error\n",
        "\n",
        "import tensorflow as tf\n",
        "print(tf.__version__)\n",
        "\n",
        "from tensorflow.keras.callbacks import EarlyStopping, LearningRateScheduler, ModelCheckpoint, ReduceLROnPlateau\n",
        "from tensorflow.keras.optimizers.schedules import ExponentialDecay\n",
        "from tensorflow.keras.models import Model, load_model\n",
        "from tensorflow.keras.utils import plot_model\n",
        "from tensorflow.keras.layers import Bidirectional, LSTM, Multiply, Dense, Dropout, Input, Concatenate, Add, GRU, BatchNormalization\n",
        "\n",
        "from scipy.signal import butter, filtfilt\n",
        "from pickle import dump\n",
        "\n",
        "from IPython.display import display\n",
        "from warnings import filterwarnings\n",
        "filterwarnings('ignore')\n",
        "\n"
      ],
      "execution_count": null,
      "outputs": []
    },
    {
      "cell_type": "code",
      "metadata": {
        "execution": {
          "iopub.status.busy": "2021-11-03T08:06:43.799911Z",
          "iopub.execute_input": "2021-11-03T08:06:43.800196Z",
          "iopub.status.idle": "2021-11-03T08:06:43.809224Z",
          "shell.execute_reply.started": "2021-11-03T08:06:43.800167Z",
          "shell.execute_reply": "2021-11-03T08:06:43.808031Z"
        },
        "trusted": true,
        "id": "QrSWWzDakTT-"
      },
      "source": [
        "num_workers = os.cpu_count()\n",
        "num_workers"
      ],
      "execution_count": null,
      "outputs": []
    },
    {
      "cell_type": "markdown",
      "metadata": {
        "id": "ORmAOlB1kTT-"
      },
      "source": [
        "## Data "
      ]
    },
    {
      "cell_type": "code",
      "metadata": {
        "execution": {
          "iopub.status.busy": "2021-11-03T08:06:43.811780Z",
          "iopub.execute_input": "2021-11-03T08:06:43.812634Z",
          "iopub.status.idle": "2021-11-03T08:06:57.340416Z",
          "shell.execute_reply.started": "2021-11-03T08:06:43.812580Z",
          "shell.execute_reply": "2021-11-03T08:06:57.339499Z"
        },
        "trusted": true,
        "id": "SA5U5SB1kTT_"
      },
      "source": [
        "## data\n",
        "train_org = pd.read_csv(base_path + 'train.csv')\n",
        "test_org = pd.read_csv(base_path + 'test.csv')"
      ],
      "execution_count": null,
      "outputs": []
    },
    {
      "cell_type": "markdown",
      "metadata": {
        "id": "LssvGhGkkTUA"
      },
      "source": [
        "## Save RAM"
      ]
    },
    {
      "cell_type": "code",
      "metadata": {
        "execution": {
          "iopub.status.busy": "2021-11-03T08:06:57.341682Z",
          "iopub.execute_input": "2021-11-03T08:06:57.341893Z",
          "iopub.status.idle": "2021-11-03T08:06:57.356356Z",
          "shell.execute_reply.started": "2021-11-03T08:06:57.341869Z",
          "shell.execute_reply": "2021-11-03T08:06:57.355234Z"
        },
        "trusted": true,
        "id": "1EIBvm8ekTUB"
      },
      "source": [
        "## save ram\n",
        "# https://www.kaggle.com/dmitryuarov/tps-soft-voting-xgb-cb-lgbm#Basic-information\n",
        "# https://www.kaggle.com/rinnqd/reduce-memory-usage\n",
        "\n",
        "def save_ram(df, verbose=True):\n",
        "    numerics = ['int16', 'int32', 'int64', 'float16', 'float32', 'float64']\n",
        "    start_mem = df.memory_usage().sum() / 1024**2\n",
        "    for col in df.columns:\n",
        "        col_type = df[col].dtypes\n",
        "        if col_type in numerics:\n",
        "            c_min = df[col].min()\n",
        "            c_max = df[col].max()\n",
        "            if str(col_type)[:3] == 'int':\n",
        "                if c_min > np.iinfo(np.int8).min and c_max < np.iinfo(np.int8).max:\n",
        "                    df[col] = df[col].astype(np.int8)\n",
        "                elif c_min > np.iinfo(np.int16).min and c_max < np.iinfo(np.int16).max:\n",
        "                    df[col] = df[col].astype(np.int16)\n",
        "                elif c_min > np.iinfo(np.int32).min and c_max < np.iinfo(np.int32).max:\n",
        "                    df[col] = df[col].astype(np.int32)\n",
        "                elif c_min > np.iinfo(np.int64).min and c_max < np.iinfo(np.int64).max:\n",
        "                    df[col] = df[col].astype(np.int64)\n",
        "            else:\n",
        "                if c_min > np.finfo(np.float16).min and c_max < np.finfo(np.float16).max:\n",
        "                    df[col] = df[col].astype(np.float16)\n",
        "                elif c_min > np.finfo(np.float32).min and c_max < np.finfo(np.float32).max:\n",
        "                    df[col] = df[col].astype(np.float32)\n",
        "                else:\n",
        "                    df[col] = df[col].astype(np.float64)\n",
        "\n",
        "    end_mem = df.memory_usage().sum() / 1024**2\n",
        "\n",
        "    print(f\"After Diet: {round(end_mem, 2)}MB\")\n",
        "    print(f\"Percentage of How much Reduced: {round(100*(start_mem - end_mem)/(start_mem), 2)}%\")\n",
        "\n",
        "    return df"
      ],
      "execution_count": null,
      "outputs": []
    },
    {
      "cell_type": "markdown",
      "metadata": {
        "id": "3FmaO9kwkTUC"
      },
      "source": [
        "## add_features"
      ]
    },
    {
      "cell_type": "code",
      "metadata": {
        "execution": {
          "iopub.status.busy": "2021-11-03T08:06:57.357984Z",
          "iopub.execute_input": "2021-11-03T08:06:57.358346Z",
          "iopub.status.idle": "2021-11-03T08:06:57.392749Z",
          "shell.execute_reply.started": "2021-11-03T08:06:57.358311Z",
          "shell.execute_reply": "2021-11-03T08:06:57.391834Z"
        },
        "trusted": true,
        "id": "7iqGqG4CkTUC"
      },
      "source": [
        "## add_features\n",
        "\n",
        "def add_features(df):\n",
        "    df['cross']= df['u_in'] * df['u_out']\n",
        "    df['cross2']= df['time_step'] * df['u_out']\n",
        "    df['area'] = df['time_step'] * df['u_in']\n",
        "    df['area'] = df.groupby('breath_id')['area'].cumsum()\n",
        "    df['time_step_cumsum'] = df.groupby(['breath_id'])['time_step'].cumsum()\n",
        "    df['u_in_cumsum'] = (df['u_in']).groupby(df['breath_id']).cumsum()\n",
        "    print(\"Step-1 Completed\")\n",
        "    \n",
        "    df['u_in_lag1'] = df.groupby('breath_id')['u_in'].shift(1)\n",
        "    df['u_out_lag1'] = df.groupby('breath_id')['u_out'].shift(1)\n",
        "    df['u_in_lag_back1'] = df.groupby('breath_id')['u_in'].shift(-1)\n",
        "    df['u_out_lag_back1'] = df.groupby('breath_id')['u_out'].shift(-1)\n",
        "    df['u_in_lag2'] = df.groupby('breath_id')['u_in'].shift(2)\n",
        "    df['u_out_lag2'] = df.groupby('breath_id')['u_out'].shift(2)\n",
        "    df['u_in_lag_back2'] = df.groupby('breath_id')['u_in'].shift(-2)\n",
        "    df['u_out_lag_back2'] = df.groupby('breath_id')['u_out'].shift(-2)\n",
        "    df['u_in_lag3'] = df.groupby('breath_id')['u_in'].shift(3)\n",
        "    df['u_out_lag3'] = df.groupby('breath_id')['u_out'].shift(3)\n",
        "    df['u_in_lag_back3'] = df.groupby('breath_id')['u_in'].shift(-3)\n",
        "    df['u_out_lag_back3'] = df.groupby('breath_id')['u_out'].shift(-3)\n",
        "    df['u_in_lag4'] = df.groupby('breath_id')['u_in'].shift(4)\n",
        "    df['u_out_lag4'] = df.groupby('breath_id')['u_out'].shift(4)\n",
        "    df['u_in_lag_back4'] = df.groupby('breath_id')['u_in'].shift(-4)\n",
        "    df['u_out_lag_back4'] = df.groupby('breath_id')['u_out'].shift(-4)\n",
        "    df = df.fillna(0)\n",
        "    print(\"Step-2 Completed\")\n",
        "\n",
        "    df['breath_id__u_in__max'] = df.groupby(['breath_id'])['u_in'].transform('max')\n",
        "    df['breath_id__u_in__mean'] = df.groupby(['breath_id'])['u_in'].transform('mean')\n",
        "    df['breath_id__u_in__diffmax'] = df.groupby(['breath_id'])['u_in'].transform('max') - df['u_in']\n",
        "    df['breath_id__u_in__diffmean'] = df.groupby(['breath_id'])['u_in'].transform('mean') - df['u_in']\n",
        "    print(\"Step-3 Completed\")\n",
        "    \n",
        "    df['u_in_diff1'] = df['u_in'] - df['u_in_lag1']\n",
        "    df['u_out_diff1'] = df['u_out'] - df['u_out_lag1']\n",
        "    df['u_in_diff2'] = df['u_in'] - df['u_in_lag2']\n",
        "    df['u_out_diff2'] = df['u_out'] - df['u_out_lag2']\n",
        "    df['u_in_diff3'] = df['u_in'] - df['u_in_lag3']\n",
        "    df['u_out_diff3'] = df['u_out'] - df['u_out_lag3']\n",
        "    df['u_in_diff4'] = df['u_in'] - df['u_in_lag4']\n",
        "    df['u_out_diff4'] = df['u_out'] - df['u_out_lag4']\n",
        "    print(\"Step-4 Completed\")\n",
        "    \n",
        "    df['one'] = 1\n",
        "    df['count'] = (df['one']).groupby(df['breath_id']).cumsum()\n",
        "    df['u_in_cummean'] =df['u_in_cumsum'] /df['count']\n",
        "\n",
        "    df['breath_id_lag']=df['breath_id'].shift(1).fillna(0)\n",
        "    df['breath_id_lag2']=df['breath_id'].shift(2).fillna(0)\n",
        "    df['breath_id_lagsame']=np.select([df['breath_id_lag']==df['breath_id']],[1],0)\n",
        "    df['breath_id_lag2same']=np.select([df['breath_id_lag2']==df['breath_id']],[1],0)\n",
        "    df['breath_id__u_in_lag'] = df['u_in'].shift(1).fillna(0)\n",
        "    df['breath_id__u_in_lag'] = df['breath_id__u_in_lag'] * df['breath_id_lagsame']\n",
        "    df['breath_id__u_in_lag2'] = df['u_in'].shift(2).fillna(0)\n",
        "    df['breath_id__u_in_lag2'] = df['breath_id__u_in_lag2'] * df['breath_id_lag2same']\n",
        "    print(\"Step-5 Completed\")\n",
        "    \n",
        "    df['time_step_diff'] = df.groupby('breath_id')['time_step'].diff().fillna(0)\n",
        "\n",
        "    g = df.groupby('breath_id')['u_in'].apply(pd.Series)\n",
        "    \n",
        "    df['ewm_u_in_mean'] = g.ewm(halflife=9).mean()\\\n",
        "                           .reset_index(level=0, drop=True)\n",
        "    \n",
        "    df[[\"15_in_sum\",\"15_in_min\",\"15_in_max\",\"15_in_mean\"]] = (df\\\n",
        "                                                              .groupby('breath_id')['u_in']\\\n",
        "                                                              .rolling(window=15,min_periods=1)\\\n",
        "                                                              .agg({\"15_in_sum\":\"sum\",\n",
        "                                                                    \"15_in_min\":\"min\",\n",
        "                                                                    \"15_in_max\":\"max\",\n",
        "                                                                    \"15_in_mean\":\"mean\"})\\\n",
        "                                                               .reset_index(level=0,drop=True))\n",
        "    print(\"Step-6 Completed\")\n",
        "    \n",
        "    df['u_in_lagback_diff1'] = df['u_in'] - df['u_in_lag_back1']\n",
        "    df['u_out_lagback_diff1'] = df['u_out'] - df['u_out_lag_back1']\n",
        "    df['u_in_lagback_diff2'] = df['u_in'] - df['u_in_lag_back2']\n",
        "    df['u_out_lagback_diff2'] = df['u_out'] - df['u_out_lag_back2']\n",
        "    print(\"Step-7 Completed\")\n",
        "\n",
        "    df['R'] = df['R'].astype(str)\n",
        "    df['C'] = df['C'].astype(str)\n",
        "    df['R__C'] = df[\"R\"].astype(str) + '__' + df[\"C\"].astype(str)\n",
        "    df = pd.get_dummies(df)\n",
        "    print(\"All Completed\")\n",
        "    \n",
        "    return df"
      ],
      "execution_count": null,
      "outputs": []
    },
    {
      "cell_type": "code",
      "metadata": {
        "execution": {
          "iopub.status.busy": "2021-11-03T08:06:57.394102Z",
          "iopub.execute_input": "2021-11-03T08:06:57.394539Z",
          "iopub.status.idle": "2021-11-03T08:09:33.794991Z",
          "shell.execute_reply.started": "2021-11-03T08:06:57.394496Z",
          "shell.execute_reply": "2021-11-03T08:09:33.793962Z"
        },
        "trusted": true,
        "id": "tvzrs3a0kTUE"
      },
      "source": [
        "train = add_features(train_org)\n",
        "test  = add_features(test_org)\n",
        "\n",
        "print(train.shape, test.shape)\n",
        "del train_org, test_org"
      ],
      "execution_count": null,
      "outputs": []
    },
    {
      "cell_type": "markdown",
      "metadata": {
        "id": "yQVA7B54kTUE"
      },
      "source": [
        "## data on diet"
      ]
    },
    {
      "cell_type": "code",
      "metadata": {
        "execution": {
          "iopub.status.busy": "2021-11-03T08:09:33.796610Z",
          "iopub.execute_input": "2021-11-03T08:09:33.797277Z",
          "iopub.status.idle": "2021-11-03T08:09:53.724361Z",
          "shell.execute_reply.started": "2021-11-03T08:09:33.797232Z",
          "shell.execute_reply": "2021-11-03T08:09:53.723786Z"
        },
        "trusted": true,
        "id": "Y3xuGZ6DkTUE"
      },
      "source": [
        "train = save_ram(train, verbose=True)"
      ],
      "execution_count": null,
      "outputs": []
    },
    {
      "cell_type": "code",
      "metadata": {
        "execution": {
          "iopub.status.busy": "2021-11-03T08:09:53.725231Z",
          "iopub.execute_input": "2021-11-03T08:09:53.726000Z",
          "iopub.status.idle": "2021-11-03T08:09:53.756357Z",
          "shell.execute_reply.started": "2021-11-03T08:09:53.725967Z",
          "shell.execute_reply": "2021-11-03T08:09:53.755576Z"
        },
        "trusted": true,
        "id": "qvGe3JmYkTUF"
      },
      "source": [
        "train.head()"
      ],
      "execution_count": null,
      "outputs": []
    },
    {
      "cell_type": "code",
      "metadata": {
        "execution": {
          "iopub.status.busy": "2021-11-03T08:09:53.759157Z",
          "iopub.execute_input": "2021-11-03T08:09:53.759407Z",
          "iopub.status.idle": "2021-11-03T08:10:03.652280Z",
          "shell.execute_reply.started": "2021-11-03T08:09:53.759368Z",
          "shell.execute_reply": "2021-11-03T08:10:03.651234Z"
        },
        "trusted": true,
        "id": "iZNkO5WVkTUF"
      },
      "source": [
        "test = save_ram(test)"
      ],
      "execution_count": null,
      "outputs": []
    },
    {
      "cell_type": "code",
      "metadata": {
        "execution": {
          "iopub.status.busy": "2021-11-03T08:10:03.653401Z",
          "iopub.execute_input": "2021-11-03T08:10:03.653830Z",
          "iopub.status.idle": "2021-11-03T08:10:03.680974Z",
          "shell.execute_reply.started": "2021-11-03T08:10:03.653797Z",
          "shell.execute_reply": "2021-11-03T08:10:03.680168Z"
        },
        "trusted": true,
        "id": "ezDvcTYqkTUF"
      },
      "source": [
        "test.head()"
      ],
      "execution_count": null,
      "outputs": []
    },
    {
      "cell_type": "markdown",
      "metadata": {
        "id": "ieR-VDqKkTUF"
      },
      "source": [
        "## Drop useless features "
      ]
    },
    {
      "cell_type": "code",
      "metadata": {
        "execution": {
          "iopub.status.busy": "2021-11-03T08:10:03.682201Z",
          "iopub.execute_input": "2021-11-03T08:10:03.682558Z",
          "iopub.status.idle": "2021-11-03T08:10:04.336693Z",
          "shell.execute_reply.started": "2021-11-03T08:10:03.682524Z",
          "shell.execute_reply": "2021-11-03T08:10:04.335857Z"
        },
        "trusted": true,
        "id": "yKZpGITIkTUG"
      },
      "source": [
        "## target\n",
        "targets = train[['pressure']].to_numpy().reshape(-1, 80)\n",
        "targets.shape"
      ],
      "execution_count": null,
      "outputs": []
    },
    {
      "cell_type": "code",
      "metadata": {
        "execution": {
          "iopub.status.busy": "2021-11-03T08:10:04.337883Z",
          "iopub.execute_input": "2021-11-03T08:10:04.338129Z",
          "iopub.status.idle": "2021-11-03T08:10:05.774037Z",
          "shell.execute_reply.started": "2021-11-03T08:10:04.338101Z",
          "shell.execute_reply": "2021-11-03T08:10:05.772897Z"
        },
        "trusted": true,
        "id": "WRmL2DYrkTUG"
      },
      "source": [
        "## train\n",
        "train.drop(['pressure', 'id', 'breath_id','one','count','breath_id_lag','breath_id_lag2','breath_id_lagsame',\n",
        "            'breath_id_lag2same'], axis=1, inplace=True)"
      ],
      "execution_count": null,
      "outputs": []
    },
    {
      "cell_type": "code",
      "metadata": {
        "execution": {
          "iopub.status.busy": "2021-11-03T08:10:05.775458Z",
          "iopub.execute_input": "2021-11-03T08:10:05.775806Z",
          "iopub.status.idle": "2021-11-03T08:10:05.798936Z",
          "shell.execute_reply.started": "2021-11-03T08:10:05.775766Z",
          "shell.execute_reply": "2021-11-03T08:10:05.798076Z"
        },
        "trusted": true,
        "id": "gUykXRZqkTUG"
      },
      "source": [
        "print(train.shape)\n",
        "train.head(1)"
      ],
      "execution_count": null,
      "outputs": []
    },
    {
      "cell_type": "code",
      "metadata": {
        "execution": {
          "iopub.status.busy": "2021-11-03T08:10:05.800100Z",
          "iopub.execute_input": "2021-11-03T08:10:05.800366Z",
          "iopub.status.idle": "2021-11-03T08:10:07.165505Z",
          "shell.execute_reply.started": "2021-11-03T08:10:05.800337Z",
          "shell.execute_reply": "2021-11-03T08:10:07.164644Z"
        },
        "trusted": true,
        "id": "fJL8EgS9kTUH"
      },
      "source": [
        "## Test\n",
        "test = test.drop(['id', 'breath_id','one','count','breath_id_lag','breath_id_lag2','breath_id_lagsame',\n",
        "                  'breath_id_lag2same'], axis=1)"
      ],
      "execution_count": null,
      "outputs": []
    },
    {
      "cell_type": "code",
      "metadata": {
        "execution": {
          "iopub.status.busy": "2021-11-03T08:10:07.168151Z",
          "iopub.execute_input": "2021-11-03T08:10:07.168437Z",
          "iopub.status.idle": "2021-11-03T08:10:07.192479Z",
          "shell.execute_reply.started": "2021-11-03T08:10:07.168407Z",
          "shell.execute_reply": "2021-11-03T08:10:07.191539Z"
        },
        "trusted": true,
        "id": "GOsJ9AOAkTUH"
      },
      "source": [
        "print(test.shape)\n",
        "test.head(1)"
      ],
      "execution_count": null,
      "outputs": []
    },
    {
      "cell_type": "code",
      "metadata": {
        "id": "guP43EQ7kTUH"
      },
      "source": [
        "## 출처: https://www.kaggle.com/jmcslk/hybrid-cnn-enc-dec-sample-weights"
      ],
      "execution_count": null,
      "outputs": []
    },
    {
      "cell_type": "markdown",
      "metadata": {
        "id": "LuA0s0oLkTUH"
      },
      "source": [
        "## Sample Weights Code\n"
      ]
    },
    {
      "cell_type": "code",
      "metadata": {
        "execution": {
          "iopub.status.busy": "2021-11-03T08:10:07.193556Z",
          "iopub.execute_input": "2021-11-03T08:10:07.193772Z",
          "iopub.status.idle": "2021-11-03T08:10:07.227040Z",
          "shell.execute_reply.started": "2021-11-03T08:10:07.193748Z",
          "shell.execute_reply": "2021-11-03T08:10:07.226227Z"
        },
        "trusted": true,
        "id": "PhKpZenKkTUI"
      },
      "source": [
        "### SAMPLE WEIGHTS ###\n",
        "def get_sample_weight_param(train, targets, u_out_1_weight):\n",
        "    cols = train.columns.tolist()\n",
        "    u_out_index = cols.index(\"u_out\")\n",
        "    cols = cols[u_out_index]\n",
        "    x_train = train[[cols]].values.reshape((-1, 80, len([cols])))\n",
        "\n",
        "    # GET SAMPLE WEIGHT\n",
        "    U_OUT_IDX = cols.index(\"u_out\")\n",
        "    y_weight = np.ones_like(targets)\n",
        "    u_out_values = x_train[:,:,U_OUT_IDX]\n",
        "\n",
        "    #DEFINE U_out == 1 samples weights, if 1 => sampling is turned off\n",
        "    y_weight[u_out_values==1] = u_out_1_weight\n",
        "    del x_train\n",
        "    return y_weight\n",
        "\n",
        "#set True to do sample weighting during training\n",
        "do_sample_weights = True\n",
        "\n",
        "if do_sample_weights == True:\n",
        "    y_weight = get_sample_weight_param(train, targets, 0.1)\n",
        "else:\n",
        "    pass"
      ],
      "execution_count": null,
      "outputs": []
    },
    {
      "cell_type": "markdown",
      "metadata": {
        "id": "2IyNnbHokTUI"
      },
      "source": [
        "## RobustScaler "
      ]
    },
    {
      "cell_type": "code",
      "metadata": {
        "execution": {
          "iopub.status.busy": "2021-11-03T08:10:07.228922Z",
          "iopub.execute_input": "2021-11-03T08:10:07.229235Z",
          "iopub.status.idle": "2021-11-03T08:10:46.768354Z",
          "shell.execute_reply.started": "2021-11-03T08:10:07.229194Z",
          "shell.execute_reply": "2021-11-03T08:10:46.767392Z"
        },
        "trusted": true,
        "id": "NlLi1bvykTUI"
      },
      "source": [
        "sc = RobustScaler()\n",
        "train = sc.fit_transform(train)\n",
        "test = sc.transform(test) ## np.ndarray"
      ],
      "execution_count": null,
      "outputs": []
    },
    {
      "cell_type": "code",
      "metadata": {
        "execution": {
          "iopub.status.busy": "2021-11-03T08:10:46.769506Z",
          "iopub.execute_input": "2021-11-03T08:10:46.769757Z",
          "iopub.status.idle": "2021-11-03T08:10:46.776249Z",
          "shell.execute_reply.started": "2021-11-03T08:10:46.769731Z",
          "shell.execute_reply": "2021-11-03T08:10:46.775352Z"
        },
        "trusted": true,
        "id": "0ICDHq2skTUI"
      },
      "source": [
        "train = train.reshape(-1, 80, train.shape[-1])\n",
        "train.shape"
      ],
      "execution_count": null,
      "outputs": []
    },
    {
      "cell_type": "code",
      "metadata": {
        "execution": {
          "iopub.status.busy": "2021-11-03T08:10:46.777763Z",
          "iopub.execute_input": "2021-11-03T08:10:46.778023Z",
          "iopub.status.idle": "2021-11-03T08:10:46.792770Z",
          "shell.execute_reply.started": "2021-11-03T08:10:46.777995Z",
          "shell.execute_reply": "2021-11-03T08:10:46.791860Z"
        },
        "trusted": true,
        "id": "bN9rR0eYkTUI"
      },
      "source": [
        "test = test.reshape(-1, 80, train.shape[-1])\n",
        "test.shape"
      ],
      "execution_count": null,
      "outputs": []
    },
    {
      "cell_type": "code",
      "metadata": {
        "execution": {
          "iopub.status.busy": "2021-11-03T08:10:46.794165Z",
          "iopub.execute_input": "2021-11-03T08:10:46.794405Z",
          "iopub.status.idle": "2021-11-03T08:10:46.807987Z",
          "shell.execute_reply.started": "2021-11-03T08:10:46.794366Z",
          "shell.execute_reply": "2021-11-03T08:10:46.806932Z"
        },
        "trusted": true,
        "id": "D3OITK17kTUI"
      },
      "source": [
        "targets.shape"
      ],
      "execution_count": null,
      "outputs": []
    },
    {
      "cell_type": "markdown",
      "metadata": {
        "id": "zGGx72jxkTUJ"
      },
      "source": [
        "## pressure"
      ]
    },
    {
      "cell_type": "code",
      "metadata": {
        "execution": {
          "iopub.status.busy": "2021-11-03T08:10:46.810079Z",
          "iopub.execute_input": "2021-11-03T08:10:46.810407Z",
          "iopub.status.idle": "2021-11-03T08:10:47.191173Z",
          "shell.execute_reply.started": "2021-11-03T08:10:46.810354Z",
          "shell.execute_reply": "2021-11-03T08:10:47.190534Z"
        },
        "trusted": true,
        "id": "lg82gwgBkTUJ"
      },
      "source": [
        "pressure = targets.squeeze().reshape(-1, 1).astype('float32')\n",
        "\n",
        "P_MIN = np.min(pressure)\n",
        "P_MAX = np.max(pressure)\n",
        "P_STEP = (pressure[1] -  pressure[0])[0]\n",
        "\n",
        "print(f\"MIN Pressure: {P_MIN}\")\n",
        "print(f\"MAX Pressure: {P_MAX}\")\n",
        "print(f\"Pressure step: {P_STEP}\")\n",
        "print(f\"Unique Values: {np.unique(pressure).shape[0]}\")"
      ],
      "execution_count": null,
      "outputs": []
    },
    {
      "cell_type": "code",
      "metadata": {
        "execution": {
          "iopub.status.busy": "2021-11-03T08:10:47.192244Z",
          "iopub.execute_input": "2021-11-03T08:10:47.192671Z",
          "iopub.status.idle": "2021-11-03T08:10:47.380228Z",
          "shell.execute_reply.started": "2021-11-03T08:10:47.192641Z",
          "shell.execute_reply": "2021-11-03T08:10:47.379201Z"
        },
        "trusted": true,
        "id": "aJcgZk2BkTUJ"
      },
      "source": [
        "del pressure\n",
        "gc.collect()"
      ],
      "execution_count": null,
      "outputs": []
    },
    {
      "cell_type": "markdown",
      "metadata": {
        "id": "9fmJssNokTUJ"
      },
      "source": [
        "## TPU or NOT"
      ]
    },
    {
      "cell_type": "code",
      "metadata": {
        "execution": {
          "iopub.status.busy": "2021-11-03T08:10:47.383343Z",
          "iopub.execute_input": "2021-11-03T08:10:47.383640Z",
          "iopub.status.idle": "2021-11-03T08:10:52.515748Z",
          "shell.execute_reply.started": "2021-11-03T08:10:47.383603Z",
          "shell.execute_reply": "2021-11-03T08:10:52.515009Z"
        },
        "trusted": true,
        "id": "OjHoBGWckTUJ"
      },
      "source": [
        "try:\n",
        "    tpu = tf.distribute.cluster_resolver.TPUClusterResolver()\n",
        "    tf.config.experimental_connect_to_cluster(tpu)\n",
        "    tf.tpu.experimental.initialize_tpu_system(tpu)\n",
        "    tpu_strategy = tf.distribute.experimental.TPUStrategy(tpu)\n",
        "    BATCH_SIZE = tpu_strategy.num_replicas_in_sync * 64\n",
        "    print(\"Running on TPU:\", tpu.master())\n",
        "    print(f\"Batch Size: {BATCH_SIZE}\")\n",
        "    \n",
        "except ValueError:\n",
        "    strategy = tf.distribute.get_strategy()\n",
        "    BATCH_SIZE = 512\n",
        "    print(f\"Running on {strategy.num_replicas_in_sync} replicas\")\n",
        "    print(f\"Batch Size: {BATCH_SIZE}\")"
      ],
      "execution_count": null,
      "outputs": []
    },
    {
      "cell_type": "markdown",
      "metadata": {
        "id": "yFU2wBOUkTUJ"
      },
      "source": [
        "## Define Model"
      ]
    },
    {
      "cell_type": "code",
      "metadata": {
        "execution": {
          "iopub.status.busy": "2021-11-03T08:10:52.516618Z",
          "iopub.execute_input": "2021-11-03T08:10:52.516835Z",
          "iopub.status.idle": "2021-11-03T08:10:52.529996Z",
          "shell.execute_reply.started": "2021-11-03T08:10:52.516810Z",
          "shell.execute_reply": "2021-11-03T08:10:52.529171Z"
        },
        "trusted": true,
        "id": "VQk6sNWhkTUK"
      },
      "source": [
        "def blgtpumodel():\n",
        "    \n",
        "    x_input = Input(shape=(train.shape[-2:]))\n",
        "    ## input: 80 * train.shape[-1]\n",
        "\n",
        "    x1 = Bidirectional(LSTM(units = 768, return_sequences = True))(x_input)\n",
        "    x2 = Bidirectional(LSTM(units = 512, return_sequences = True))(x1)\n",
        "\n",
        "    ## z2\n",
        "    x3 = Bidirectional(LSTM(units = 384, return_sequences = True))(x2)\n",
        "\n",
        "    ## z3\n",
        "    x4 = Bidirectional(LSTM(units = 256, return_sequences = True))(x3)\n",
        "\n",
        "    ## z4 \n",
        "    x5 = Bidirectional(LSTM(units=128, return_sequences=True))(x4)\n",
        "    \n",
        "    z2 = Bidirectional(GRU(units=384, return_sequences=True))(x2)\n",
        "    \n",
        "    z31 = Multiply()([x3, z2])\n",
        "    z31 = BatchNormalization()(z31)\n",
        "    z3 = Bidirectional(GRU(units=256, return_sequences=True))(z31)\n",
        "    \n",
        "    z41 = Multiply()([x4, z3])\n",
        "    z41 = BatchNormalization()(z41)\n",
        "    z4 = Bidirectional(GRU(units=128, return_sequences=True))(z41)\n",
        "    \n",
        "    z51 = Multiply()([x5, z4])\n",
        "    z51 = BatchNormalization()(z51)\n",
        "    z5 = Bidirectional(GRU(units=64, return_sequences=True))(z51)\n",
        "    \n",
        "    x = Concatenate(axis=2)([x5, z2, z3, z4, z5])\n",
        "    \n",
        "    x = Dense(units=128, activation='selu')(x)\n",
        "    \n",
        "    x_output = Dense(units=1)(x)\n",
        "\n",
        "    model = Model(inputs=x_input, outputs=x_output, name='BLG_Model')\n",
        "\n",
        "    return model"
      ],
      "execution_count": null,
      "outputs": []
    },
    {
      "cell_type": "markdown",
      "metadata": {
        "id": "WW9j_LWbkTUK"
      },
      "source": [
        "### Summary"
      ]
    },
    {
      "cell_type": "code",
      "metadata": {
        "execution": {
          "iopub.status.busy": "2021-11-03T08:10:52.531165Z",
          "iopub.execute_input": "2021-11-03T08:10:52.531418Z",
          "iopub.status.idle": "2021-11-03T08:11:00.620890Z",
          "shell.execute_reply.started": "2021-11-03T08:10:52.531364Z",
          "shell.execute_reply": "2021-11-03T08:11:00.619953Z"
        },
        "trusted": true,
        "id": "mdlW_et-kTUK"
      },
      "source": [
        "model = blgtpumodel()\n",
        "model.summary()"
      ],
      "execution_count": null,
      "outputs": []
    },
    {
      "cell_type": "markdown",
      "metadata": {
        "id": "AqkyRBklkTUK"
      },
      "source": [
        "## Run"
      ]
    },
    {
      "cell_type": "code",
      "metadata": {
        "execution": {
          "iopub.status.busy": "2021-11-03T08:11:50.464652Z",
          "iopub.execute_input": "2021-11-03T08:11:50.464941Z"
        },
        "trusted": true,
        "id": "GpOv7aUQkTUK"
      },
      "source": [
        "with tpu_strategy.scope():\n",
        "    \n",
        "    VERBOSE = 0\n",
        "    test_preds = []\n",
        "    kf = KFold(n_splits=7, shuffle=True, random_state=4401)\n",
        "    \n",
        "    for fold, (train_idx, test_idx) in enumerate(kf.split(train, targets)):\n",
        "        X_train, X_valid = train[train_idx], train[test_idx]\n",
        "        y_train, y_valid = targets[train_idx], targets[test_idx]\n",
        "\n",
        "        if do_sample_weights == True:\n",
        "            y_w_train, y_w_valid = y_weight[train_idx], y_weight[test_idx]\n",
        "            y_w_train = y_w_train.reshape(y_w_train.shape[0], y_w_train.shape[1], 1)\n",
        "            y_w_valid = y_w_valid.reshape(y_w_valid.shape[0], y_w_valid.shape[1], 1)\n",
        "            print(y_train.shape, y_w_train.shape)\n",
        "        else:\n",
        "                pass\n",
        "        \n",
        "        model = blgtpumodel()\n",
        "        model.compile(optimizer=\"adam\", loss=\"mae\")\n",
        "\n",
        "        lr = ReduceLROnPlateau(monitor=\"val_loss\", factor=0.85, \n",
        "                               patience=7, verbose=VERBOSE)\n",
        "        \n",
        "        save_locally = tf.saved_model.SaveOptions(experimental_io_device='/job:localhost')\n",
        "        chk_point = ModelCheckpoint(f'./Bidirect_LSTM_model_{fold+1}C.h5', options=save_locally, \n",
        "                                    monitor='val_loss', verbose=VERBOSE, \n",
        "                                    save_best_only=True, mode='min')\n",
        "\n",
        "        es = EarlyStopping(monitor=\"val_loss\", patience=30, \n",
        "                           verbose=VERBOSE, mode=\"min\", \n",
        "                           restore_best_weights=True)\n",
        "        \n",
        "        if do_sample_weights == True:\n",
        "            val_data = (X_valid, y_valid, y_w_valid)\n",
        "            sw = y_w_train\n",
        "        else:\n",
        "            val_data = (X_valid, y_valid)\n",
        "            sw = None\n",
        "\n",
        "        model.fit(X_train, y_train, \n",
        "                  validation_data=val_data, \n",
        "                  sample_weight=sw,\n",
        "                #   validation_data=(X_valid, y_valid), \n",
        "                  epochs=400,\n",
        "                  verbose=VERBOSE,\n",
        "                  batch_size=BATCH_SIZE, \n",
        "                  callbacks=[lr, chk_point, es])\n",
        "        \n",
        "        load_locally = tf.saved_model.LoadOptions(experimental_io_device='/job:localhost')\n",
        "        # model = load_model(f'./Bidirect_LSTM_model_{fold+1}C.h5', options=load_locally)\n",
        "        \n",
        "        y_true = y_valid.squeeze().reshape(-1, 1)\n",
        "        y_pred = model.predict(X_valid, batch_size=BATCH_SIZE).squeeze().reshape(-1, 1)\n",
        "        score = mean_absolute_error(y_true, y_pred)\n",
        "        print(f\"Fold-{fold+1} - Score: {score}\")\n",
        "        \n",
        "        test_preds.append(model.predict(test, batch_size=BATCH_SIZE).squeeze().reshape(-1, 1).squeeze())\n",
        "\n",
        "        # if fold >= 1:\n",
        "            # break"
      ],
      "execution_count": null,
      "outputs": []
    },
    {
      "cell_type": "markdown",
      "metadata": {
        "id": "bmaGwGL2kTUL"
      },
      "source": [
        "## Submit file"
      ]
    },
    {
      "cell_type": "code",
      "metadata": {
        "execution": {
          "iopub.status.busy": "2021-11-03T08:11:01.008257Z",
          "iopub.status.idle": "2021-11-03T08:11:01.008718Z",
          "shell.execute_reply.started": "2021-11-03T08:11:01.008538Z",
          "shell.execute_reply": "2021-11-03T08:11:01.008557Z"
        },
        "trusted": true,
        "id": "0FoQBnHhkTUL"
      },
      "source": [
        "## 이번에 오류가 안 나야하는 데 괜히\n",
        "## 17:10에 시작 "
      ],
      "execution_count": null,
      "outputs": []
    },
    {
      "cell_type": "code",
      "metadata": {
        "execution": {
          "iopub.status.busy": "2021-11-03T08:11:01.009645Z",
          "iopub.status.idle": "2021-11-03T08:11:01.010058Z",
          "shell.execute_reply.started": "2021-11-03T08:11:01.009898Z",
          "shell.execute_reply": "2021-11-03T08:11:01.009915Z"
        },
        "trusted": true,
        "id": "FqPVLra5kTUL"
      },
      "source": [
        "sss = pd.read_csv(base_path + 'sample_submission.csv')"
      ],
      "execution_count": null,
      "outputs": []
    },
    {
      "cell_type": "code",
      "metadata": {
        "execution": {
          "iopub.status.busy": "2021-11-03T08:11:01.010964Z",
          "iopub.status.idle": "2021-11-03T08:11:01.011840Z",
          "shell.execute_reply.started": "2021-11-03T08:11:01.011620Z",
          "shell.execute_reply": "2021-11-03T08:11:01.011647Z"
        },
        "trusted": true,
        "id": "jZvztVq5kTUL"
      },
      "source": [
        "sss.head()"
      ],
      "execution_count": null,
      "outputs": []
    },
    {
      "cell_type": "code",
      "metadata": {
        "execution": {
          "iopub.status.busy": "2021-11-03T08:11:01.012915Z",
          "iopub.status.idle": "2021-11-03T08:11:01.013792Z",
          "shell.execute_reply.started": "2021-11-03T08:11:01.013588Z",
          "shell.execute_reply": "2021-11-03T08:11:01.013621Z"
        },
        "trusted": true,
        "id": "cqhfkRyHkTUL"
      },
      "source": [
        "sss[\"pressure\"] = np.median(np.vstack(test_preds),axis=0)\n",
        "print(sss.shape)\n",
        "sss.head()"
      ],
      "execution_count": null,
      "outputs": []
    },
    {
      "cell_type": "code",
      "metadata": {
        "execution": {
          "iopub.status.busy": "2021-11-03T08:11:01.015214Z",
          "iopub.status.idle": "2021-11-03T08:11:01.015716Z",
          "shell.execute_reply.started": "2021-11-03T08:11:01.015511Z",
          "shell.execute_reply": "2021-11-03T08:11:01.015533Z"
        },
        "trusted": true,
        "id": "OHI1-jgqkTUL"
      },
      "source": [
        "sss[\"pressure\"] = np.round((sss.pressure - P_MIN)/P_STEP) * P_STEP + P_MIN\n",
        "print(sss.shape)\n",
        "sss.head()"
      ],
      "execution_count": null,
      "outputs": []
    },
    {
      "cell_type": "code",
      "metadata": {
        "execution": {
          "iopub.status.busy": "2021-11-03T08:11:01.016496Z",
          "iopub.status.idle": "2021-11-03T08:11:01.016814Z",
          "shell.execute_reply.started": "2021-11-03T08:11:01.016646Z",
          "shell.execute_reply": "2021-11-03T08:11:01.016666Z"
        },
        "trusted": true,
        "id": "mpUaQ9RBkTUM"
      },
      "source": [
        "sss[\"pressure\"] = np.clip(sss.pressure, P_MIN, P_MAX)\n",
        "print(sss.shape)\n",
        "sss.head()"
      ],
      "execution_count": null,
      "outputs": []
    },
    {
      "cell_type": "code",
      "metadata": {
        "execution": {
          "iopub.status.busy": "2021-11-03T08:11:01.018060Z",
          "iopub.status.idle": "2021-11-03T08:11:01.018434Z",
          "shell.execute_reply.started": "2021-11-03T08:11:01.018234Z",
          "shell.execute_reply": "2021-11-03T08:11:01.018256Z"
        },
        "trusted": true,
        "id": "rw_gIPQkkTUM"
      },
      "source": [
        "sss.to_csv('blg_tpu_median_submission.csv', index=False)\n",
        "sss.to_csv('blg_tpu_submission.csv', index=False)"
      ],
      "execution_count": null,
      "outputs": []
    },
    {
      "cell_type": "code",
      "metadata": {
        "id": "Nr3BQDjnkTUM"
      },
      "source": [
        ""
      ],
      "execution_count": null,
      "outputs": []
    },
    {
      "cell_type": "code",
      "metadata": {
        "id": "cHrU49hdkTUM"
      },
      "source": [
        ""
      ],
      "execution_count": null,
      "outputs": []
    },
    {
      "cell_type": "code",
      "metadata": {
        "id": "4q0p-HxzkTUM"
      },
      "source": [
        ""
      ],
      "execution_count": null,
      "outputs": []
    }
  ]
}
