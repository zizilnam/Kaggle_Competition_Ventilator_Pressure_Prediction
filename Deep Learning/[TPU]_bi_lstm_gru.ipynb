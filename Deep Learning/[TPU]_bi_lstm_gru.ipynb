{
  "nbformat": 4,
  "nbformat_minor": 0,
  "metadata": {
    "colab": {
      "name": "[TPU]_bi_lstm_gru_kibae",
      "provenance": [],
      "collapsed_sections": [],
      "machine_shape": "hm",
      "include_colab_link": true
    },
    "kernelspec": {
      "name": "python3",
      "display_name": "Python 3"
    },
    "language_info": {
      "name": "python"
    },
    "accelerator": "TPU"
  },
  "cells": [
    {
      "cell_type": "markdown",
      "metadata": {
        "id": "view-in-github",
        "colab_type": "text"
      },
      "source": [
        "<a href=\"https://colab.research.google.com/github/zizilnam/Kaggle_Competition_Ventilator_Pressure_Prediction/blob/main/%5BTPU%5D_bi_lstm_gru.ipynb\" target=\"_parent\"><img src=\"https://colab.research.google.com/assets/colab-badge.svg\" alt=\"Open In Colab\"/></a>"
      ]
    },
    {
      "cell_type": "markdown",
      "metadata": {
        "id": "F88l8xSBBhhR"
      },
      "source": [
        "# lstm GRU\n",
        "https://www.kaggle.com/hrshuvo/dnn-lstm-tpu\n"
      ]
    },
    {
      "cell_type": "code",
      "metadata": {
        "colab": {
          "base_uri": "https://localhost:8080/"
        },
        "id": "nOwpkL5Asy_Y",
        "outputId": "e7862e4d-820b-45c0-e082-305cd82c2f61"
      },
      "source": [
        "%cd /content/drive/MyDrive/Ventilator Pressure Prediction/bi_lstm_gru_kibae"
      ],
      "execution_count": null,
      "outputs": [
        {
          "output_type": "stream",
          "name": "stdout",
          "text": [
            "/content/drive/MyDrive/Ventilator Pressure Prediction/bi_lstm_gru_kibae\n"
          ]
        }
      ]
    },
    {
      "cell_type": "code",
      "metadata": {
        "colab": {
          "base_uri": "https://localhost:8080/"
        },
        "id": "bjTpxRDDTTx9",
        "outputId": "a0151c3d-824b-46a8-dfc1-50b952d8e176"
      },
      "source": [
        "### 참고 EDA \n",
        "## 01 To learn or not to learn? : https://www.kaggle.com/c/ventilator-pressure-prediction/discussion/278964\n",
        "print(\"01 To learn or not to learn?: \", \"https://www.kaggle.com/c/ventilator-pressure-prediction/discussion/278964\")\n",
        "print()\n",
        "\n",
        "## 01-1) PyTorch LSTM with TensorFlow-like initialization\n",
        "print(\"01-1) PyTorch LSTM with TensorFlow-like initialization\", \"https://www.kaggle.com/junkoda/pytorch-lstm-with-tensorflow-like-initialization\")\n",
        "print()\n",
        "\n",
        "## 01-2) [01-1의 오리진?] Ventilator Pressure | EDA | LSTM 0.189 🔥\n",
        "print(\"Ventilator Pressure | EDA | LSTM 0.189 🔥\", \"https://www.kaggle.com/dmitryuarov/ventilator-pressure-eda-lstm-0-189/notebook\")\n",
        "print()\n",
        "\n",
        "\n",
        "## 02-1) finetune of Tensorflow Bidirectional LSTM\n",
        "print(\"02-1) finetune of Tensorflow Bidirectional LSTM\", 'https://www.kaggle.com/tenffe/finetune-of-tensorflow-bidirectional-lstm')\n",
        "print()\n",
        "\n",
        "## 02-2 Ensemble Folds with MEDIAN - [0.153]\n",
        "print(\"02-2) Ensemble Folds with MEDIAN - [0.153]\", \"https://www.kaggle.com/cdeotte/ensemble-folds-with-median-0-153\")\n",
        "print()\n",
        "\n",
        "\n",
        "## 03 finetune of Tensorflow Bidirectional LSTM\n",
        "print(\"03. finetune of Tensorflow Bidirectional LSTM\", 'https://www.kaggle.com/tenffe/finetune-of-tensorflow-bidirectional-lstm')\n",
        "print()\n",
        "\n",
        "## 용담님 - Single Bi-LSTM Model Pressure Predict(GPU) [Infer] : https://www.kaggle.com/emphymachine/single-bi-lstm-model-pressure-predict-gpu-infer\n",
        "print(\"용담님 - Single Bi-LSTM Model Pressure Predict(GPU) [Infer]: \", \"https://www.kaggle.com/emphymachine/single-bi-lstm-model-pressure-predict-gpu-infer\")\n",
        "print()\n",
        "\n",
        "##  Google Ventilator LOFO Feature Importance\n",
        "print(\"Google Ventilator LOFO Feature Importance\", \"https://www.kaggle.com/aerdem4/google-ventilator-lofo-feature-importance\")\n",
        "print()"
      ],
      "execution_count": null,
      "outputs": [
        {
          "output_type": "stream",
          "name": "stdout",
          "text": [
            "01 To learn or not to learn?:  https://www.kaggle.com/c/ventilator-pressure-prediction/discussion/278964\n",
            "\n",
            "01-1) PyTorch LSTM with TensorFlow-like initialization https://www.kaggle.com/junkoda/pytorch-lstm-with-tensorflow-like-initialization\n",
            "\n",
            "Ventilator Pressure | EDA | LSTM 0.189 🔥 https://www.kaggle.com/dmitryuarov/ventilator-pressure-eda-lstm-0-189/notebook\n",
            "\n",
            "02-1) finetune of Tensorflow Bidirectional LSTM https://www.kaggle.com/tenffe/finetune-of-tensorflow-bidirectional-lstm\n",
            "\n",
            "02-2) Ensemble Folds with MEDIAN - [0.153] https://www.kaggle.com/cdeotte/ensemble-folds-with-median-0-153\n",
            "\n",
            "03. finetune of Tensorflow Bidirectional LSTM https://www.kaggle.com/tenffe/finetune-of-tensorflow-bidirectional-lstm\n",
            "\n",
            "용담님 - Single Bi-LSTM Model Pressure Predict(GPU) [Infer]:  https://www.kaggle.com/emphymachine/single-bi-lstm-model-pressure-predict-gpu-infer\n",
            "\n",
            "Google Ventilator LOFO Feature Importance https://www.kaggle.com/aerdem4/google-ventilator-lofo-feature-importance\n",
            "\n"
          ]
        }
      ]
    },
    {
      "cell_type": "markdown",
      "metadata": {
        "id": "abHybEhW7D5Z"
      },
      "source": [
        "## Preperation"
      ]
    },
    {
      "cell_type": "code",
      "metadata": {
        "colab": {
          "base_uri": "https://localhost:8080/"
        },
        "id": "KDcS5BDWBjy6",
        "outputId": "ba0cac98-25e6-473b-d09c-7e7e3f8b13b9"
      },
      "source": [
        "# Google Drive Mount\n",
        "from google.colab import drive\n",
        "drive.mount('/content/drive')"
      ],
      "execution_count": null,
      "outputs": [
        {
          "output_type": "stream",
          "name": "stdout",
          "text": [
            "Drive already mounted at /content/drive; to attempt to forcibly remount, call drive.mount(\"/content/drive\", force_remount=True).\n"
          ]
        }
      ]
    },
    {
      "cell_type": "markdown",
      "metadata": {
        "id": "tc8JXl_s7IAN"
      },
      "source": [
        "### Import 해야지?"
      ]
    },
    {
      "cell_type": "code",
      "metadata": {
        "id": "G12RStMjX1lZ",
        "colab": {
          "base_uri": "https://localhost:8080/"
        },
        "outputId": "5bebb40b-4f52-4b1f-b5e6-91fa2da472cf"
      },
      "source": [
        "## gpu 정보\n",
        "!nvidia-smi"
      ],
      "execution_count": null,
      "outputs": [
        {
          "output_type": "stream",
          "name": "stdout",
          "text": [
            "NVIDIA-SMI has failed because it couldn't communicate with the NVIDIA driver. Make sure that the latest NVIDIA driver is installed and running.\n",
            "\n"
          ]
        }
      ]
    },
    {
      "cell_type": "code",
      "metadata": {
        "colab": {
          "base_uri": "https://localhost:8080/"
        },
        "id": "pdQT_P_bB0CB",
        "outputId": "cf7e08c8-50c7-48f1-c4f4-c1672c86afa5"
      },
      "source": [
        "!pip install einops"
      ],
      "execution_count": null,
      "outputs": [
        {
          "output_type": "stream",
          "name": "stdout",
          "text": [
            "Requirement already satisfied: einops in /usr/local/lib/python3.7/dist-packages (0.3.2)\n"
          ]
        }
      ]
    },
    {
      "cell_type": "code",
      "metadata": {
        "id": "hmQIMwCHaQKZ",
        "colab": {
          "base_uri": "https://localhost:8080/"
        },
        "outputId": "ac7ae5b9-4b26-473c-f375-e5559c43f8a1"
      },
      "source": [
        "# Google Ventilaotr 내에서 마운트 및 로드 \n",
        "\n",
        "base_path = '/content/drive/MyDrive/Ventilator Pressure Prediction/'\n",
        "\n",
        "import numpy as np\n",
        "import pandas as pd\n",
        "import gc\n",
        "import os\n",
        "\n",
        "\n",
        "from einops.layers.keras import Rearrange\n",
        "\n",
        "from sklearn.model_selection import KFold\n",
        "from sklearn.preprocessing import RobustScaler, normalize\n",
        "from sklearn.metrics import mean_absolute_error\n",
        "\n",
        "import tensorflow as tf\n",
        "print(tf.__version__)\n",
        "\n",
        "from tensorflow.keras.callbacks import EarlyStopping, LearningRateScheduler, ModelCheckpoint, ReduceLROnPlateau\n",
        "from tensorflow.keras.optimizers.schedules import ExponentialDecay\n",
        "from tensorflow.keras.models import Model, load_model, Sequential\n",
        "from tensorflow.keras.utils import plot_model\n",
        "from tensorflow.keras.layers import Bidirectional, LayerNormalization, LSTM, Multiply, Dense, Dropout, Input, Concatenate, Add, GRU, BatchNormalization, Conv1D, Embedding\n",
        "\n",
        "from scipy.signal import butter, filtfilt\n",
        "from pickle import dump\n",
        "\n",
        "from IPython.display import display\n",
        "from warnings import filterwarnings\n",
        "filterwarnings('ignore')\n",
        "\n",
        "num_workers = os.cpu_count()\n",
        "num_workers"
      ],
      "execution_count": null,
      "outputs": [
        {
          "output_type": "stream",
          "name": "stdout",
          "text": [
            "2.6.0\n"
          ]
        },
        {
          "output_type": "execute_result",
          "data": {
            "text/plain": [
              "40"
            ]
          },
          "metadata": {},
          "execution_count": 5
        }
      ]
    },
    {
      "cell_type": "code",
      "metadata": {
        "colab": {
          "base_uri": "https://localhost:8080/"
        },
        "id": "8QYQ5AFrVqQL",
        "outputId": "bb1fdca5-8548-41b1-bc7e-a298fea9d5f5"
      },
      "source": [
        "from google.colab import drive\n",
        "drive.mount('/content/drive')"
      ],
      "execution_count": null,
      "outputs": [
        {
          "output_type": "stream",
          "name": "stdout",
          "text": [
            "Drive already mounted at /content/drive; to attempt to forcibly remount, call drive.mount(\"/content/drive\", force_remount=True).\n"
          ]
        }
      ]
    },
    {
      "cell_type": "code",
      "metadata": {
        "id": "Fgmb6QqhWHiK"
      },
      "source": [
        "debug = True\n",
        "n = 100 * 1024 if debug else None\n",
        "\n",
        "ss = pd.read_csv(base_path + 'sample_submission.csv', nrows= n)\n",
        "train_org = pd.read_csv(base_path + 'train.csv', nrows= n)\n",
        "test_org = pd.read_csv(base_path + 'test.csv', nrows= n)\n",
        "\n",
        "# ss = pd.read_csv(base_path + 'sample_submission.csv')\n",
        "# train_org = pd.read_csv(base_path + 'train.csv')\n",
        "# test_org = pd.read_csv(base_path + 'test.csv')"
      ],
      "execution_count": null,
      "outputs": []
    },
    {
      "cell_type": "code",
      "metadata": {
        "id": "J_Miwf0TX4wW"
      },
      "source": [
        "# train.shape, test.shape, ss.shape"
      ],
      "execution_count": null,
      "outputs": []
    },
    {
      "cell_type": "code",
      "metadata": {
        "id": "A08LelHcv7qK"
      },
      "source": [
        ""
      ],
      "execution_count": null,
      "outputs": []
    },
    {
      "cell_type": "markdown",
      "metadata": {
        "id": "dlrEwsztv8i5"
      },
      "source": [
        "## Save Memory"
      ]
    },
    {
      "cell_type": "code",
      "metadata": {
        "id": "gWtBrfSAv7nA"
      },
      "source": [
        "# 차오르는 RAM을 아껴볼까?\n",
        "# save_ram : 말 그대로 RAM을 아끼기 위해, 데이터 다이어트를 할 수 있는 코드이다. \n",
        "# 출처1:https://www.kaggle.com/dmitryuarov/tps-soft-voting-xgb-cb-lgbm#Basic-information\n",
        "# 출처2: https://www.kaggle.com/rinnqd/reduce-memory-usage\n",
        "# 지금 당장 쓰지 않을 것이다. \n",
        "# ㄴ사유: 데이터 타입으로 표현되는 숫자가 다르기 때문에, 스케일링 직후(표현되는 스케일이 비슷하기 때문에), 모델에 넣기 전에 하는 것이 적절하다. \n",
        "\n",
        "def save_ram(df, verbose=True):\n",
        "    numerics = ['int16', 'int32', 'int64', 'float16', 'float32', 'float64']\n",
        "    start_mem = df.memory_usage().sum() / 1024**2\n",
        "    for col in df.columns:\n",
        "        col_type = df[col].dtypes\n",
        "        if col_type in numerics:\n",
        "            c_min = df[col].min()\n",
        "            c_max = df[col].max()\n",
        "            if str(col_type)[:3] == 'int':\n",
        "                if c_min > np.iinfo(np.int8).min and c_max < np.iinfo(np.int8).max:\n",
        "                    df[col] = df[col].astype(np.int8)\n",
        "                elif c_min > np.iinfo(np.int16).min and c_max < np.iinfo(np.int16).max:\n",
        "                    df[col] = df[col].astype(np.int16)\n",
        "                elif c_min > np.iinfo(np.int32).min and c_max < np.iinfo(np.int32).max:\n",
        "                    df[col] = df[col].astype(np.int32)\n",
        "                elif c_min > np.iinfo(np.int64).min and c_max < np.iinfo(np.int64).max:\n",
        "                    df[col] = df[col].astype(np.int64)\n",
        "            else:\n",
        "                if c_min > np.finfo(np.float16).min and c_max < np.finfo(np.float16).max:\n",
        "                    df[col] = df[col].astype(np.float16)\n",
        "                elif c_min > np.finfo(np.float32).min and c_max < np.finfo(np.float32).max:\n",
        "                    df[col] = df[col].astype(np.float32)\n",
        "                else:\n",
        "                    df[col] = df[col].astype(np.float64)\n",
        "\n",
        "    end_mem = df.memory_usage().sum() / 1024**2\n",
        "\n",
        "    print(f\"최적화 이후 메모리 사용량: {round(end_mem, 2)}MB\")\n",
        "    print(f\"메모리 감소비율: {round(100*(start_mem - end_mem)/(start_mem), 2)}%\")\n",
        "\n",
        "    return df"
      ],
      "execution_count": null,
      "outputs": []
    },
    {
      "cell_type": "markdown",
      "metadata": {
        "id": "bKNYNi1SWYaU"
      },
      "source": [
        "## add_features"
      ]
    },
    {
      "cell_type": "code",
      "metadata": {
        "id": "DKgUDinoWYC3"
      },
      "source": [
        "def add_features(df):\n",
        "    df['cross']= df['u_in'] * df['u_out']\n",
        "    df['cross2']= df['time_step'] * df['u_out']\n",
        "    df['area'] = df['time_step'] * df['u_in']\n",
        "    df['area'] = df.groupby('breath_id')['area'].cumsum()\n",
        "    df['time_step_cumsum'] = df.groupby(['breath_id'])['time_step'].cumsum()\n",
        "    df['u_in_cumsum'] = (df['u_in']).groupby(df['breath_id']).cumsum()\n",
        "    print(\"Step-1...Completed\")\n",
        "    \n",
        "    df['u_in_lag1'] = df.groupby('breath_id')['u_in'].shift(1)\n",
        "    df['u_out_lag1'] = df.groupby('breath_id')['u_out'].shift(1)\n",
        "    df['u_in_lag_back1'] = df.groupby('breath_id')['u_in'].shift(-1)\n",
        "    df['u_out_lag_back1'] = df.groupby('breath_id')['u_out'].shift(-1)\n",
        "    df['u_in_lag2'] = df.groupby('breath_id')['u_in'].shift(2)\n",
        "    df['u_out_lag2'] = df.groupby('breath_id')['u_out'].shift(2)\n",
        "    df['u_in_lag_back2'] = df.groupby('breath_id')['u_in'].shift(-2)\n",
        "    df['u_out_lag_back2'] = df.groupby('breath_id')['u_out'].shift(-2)\n",
        "    df['u_in_lag3'] = df.groupby('breath_id')['u_in'].shift(3)\n",
        "    df['u_out_lag3'] = df.groupby('breath_id')['u_out'].shift(3)\n",
        "    df['u_in_lag_back3'] = df.groupby('breath_id')['u_in'].shift(-3)\n",
        "    df['u_out_lag_back3'] = df.groupby('breath_id')['u_out'].shift(-3)\n",
        "    df['u_in_lag4'] = df.groupby('breath_id')['u_in'].shift(4)\n",
        "    df['u_out_lag4'] = df.groupby('breath_id')['u_out'].shift(4)\n",
        "    df['u_in_lag_back4'] = df.groupby('breath_id')['u_in'].shift(-4)\n",
        "    df['u_out_lag_back4'] = df.groupby('breath_id')['u_out'].shift(-4)\n",
        "    df = df.fillna(0)\n",
        "    print(\"Step-2...Completed\")\n",
        "\n",
        "    df['breath_id__u_in__max'] = df.groupby(['breath_id'])['u_in'].transform('max')\n",
        "    df['breath_id__u_in__mean'] = df.groupby(['breath_id'])['u_in'].transform('mean')\n",
        "    df['breath_id__u_in__diffmax'] = df.groupby(['breath_id'])['u_in'].transform('max') - df['u_in']\n",
        "    df['breath_id__u_in__diffmean'] = df.groupby(['breath_id'])['u_in'].transform('mean') - df['u_in']\n",
        "    print(\"Step-3...Completed\")\n",
        "    \n",
        "    df['u_in_diff1'] = df['u_in'] - df['u_in_lag1']\n",
        "    df['u_out_diff1'] = df['u_out'] - df['u_out_lag1']\n",
        "    df['u_in_diff2'] = df['u_in'] - df['u_in_lag2']\n",
        "    df['u_out_diff2'] = df['u_out'] - df['u_out_lag2']\n",
        "    df['u_in_diff3'] = df['u_in'] - df['u_in_lag3']\n",
        "    df['u_out_diff3'] = df['u_out'] - df['u_out_lag3']\n",
        "    df['u_in_diff4'] = df['u_in'] - df['u_in_lag4']\n",
        "    df['u_out_diff4'] = df['u_out'] - df['u_out_lag4']\n",
        "    print(\"Step-4...Completed\")\n",
        "    \n",
        "    df['one'] = 1\n",
        "    df['count'] = (df['one']).groupby(df['breath_id']).cumsum()\n",
        "    df['u_in_cummean'] =df['u_in_cumsum'] /df['count']\n",
        "\n",
        "    df['breath_id_lag']=df['breath_id'].shift(1).fillna(0)\n",
        "    df['breath_id_lag2']=df['breath_id'].shift(2).fillna(0)\n",
        "    df['breath_id_lagsame']=np.select([df['breath_id_lag']==df['breath_id']],[1],0)\n",
        "    df['breath_id_lag2same']=np.select([df['breath_id_lag2']==df['breath_id']],[1],0)\n",
        "    df['breath_id__u_in_lag'] = df['u_in'].shift(1).fillna(0)\n",
        "    df['breath_id__u_in_lag'] = df['breath_id__u_in_lag'] * df['breath_id_lagsame']\n",
        "    df['breath_id__u_in_lag2'] = df['u_in'].shift(2).fillna(0)\n",
        "    df['breath_id__u_in_lag2'] = df['breath_id__u_in_lag2'] * df['breath_id_lag2same']\n",
        "    print(\"Step-5...Completed\")\n",
        "    \n",
        "    df['time_step_diff'] = df.groupby('breath_id')['time_step'].diff().fillna(0)\n",
        "\n",
        "    g = df.groupby('breath_id')['u_in'].apply(pd.Series)\n",
        "    \n",
        "    df['ewm_u_in_mean'] = g.ewm(halflife=9).mean()\\\n",
        "                           .reset_index(level=0, drop=True)\n",
        "                           \n",
        "\n",
        "    print(\"====add_more_features_Begins===\")\n",
        "    df['ewm_u_in_std'] = g.ewm(halflife=10).std()\\\n",
        "                          .reset_index(level=0, drop=True)\n",
        "    df['ewm_u_in_corr'] = g.ewm(halflife=10).corr()\\\n",
        "                           .reset_index(level=0, drop=True)\n",
        "    df['rolling_10_mean'] = g.rolling(window=10, min_periods=1).mean()\\\n",
        "                             .reset_index(level=0, drop=True)\n",
        "    df['rolling_10_max'] = g.rolling(window=10, min_periods=1).max()\\\n",
        "                            .reset_index(level=0, drop=True)\n",
        "    df['rolling_10_std'] = g.rolling(window=10, min_periods=1).std()\\\n",
        "                            .reset_index(level=0, drop=True)\n",
        "\n",
        "    df['expand_mean'] = g.expanding(2).mean()\\\n",
        "                         .reset_index(level=0, drop=True)\n",
        "    df['expand_max'] = g.expanding(2).max()\\\n",
        "                        .reset_index(level=0, drop=True)\n",
        "    df['expand_std'] = g.expanding(2).std()\\\n",
        "                        .reset_index(level=0, drop=True)\n",
        "    df['R_new'] = df[\"R\"].apply(lambda val: 1 / val**4)\n",
        "    \n",
        "    print(\"====add_more_features_Completed===\")\n",
        "    \n",
        "    df[[\"15_in_sum\",\"15_in_min\",\"15_in_max\",\"15_in_mean\"]] = (df\\\n",
        "                                                              .groupby('breath_id')['u_in']\\\n",
        "                                                              .rolling(window=15,min_periods=1)\\\n",
        "                                                              .agg({\"15_in_sum\":\"sum\",\n",
        "                                                                    \"15_in_min\":\"min\",\n",
        "                                                                    \"15_in_max\":\"max\",\n",
        "                                                                    \"15_in_mean\":\"mean\"})\\\n",
        "                                                               .reset_index(level=0,drop=True))\n",
        "    print(\"Step-6...Completed\")\n",
        "    \n",
        "    df['u_in_lagback_diff1'] = df['u_in'] - df['u_in_lag_back1']\n",
        "    df['u_out_lagback_diff1'] = df['u_out'] - df['u_out_lag_back1']\n",
        "    df['u_in_lagback_diff2'] = df['u_in'] - df['u_in_lag_back2']\n",
        "    df['u_out_lagback_diff2'] = df['u_out'] - df['u_out_lag_back2']\n",
        "    print(\"Step-7...Completed\")\n",
        "    #df['R_new']= df['R'] ##푸아죄유의 법칙 \n",
        "    df['R'] = df['R'].astype(str)\n",
        "    df['C'] = df['C'].astype(str)\n",
        "    df['R__C'] = df[\"R\"].astype(str) + '__' + df[\"C\"].astype(str)\n",
        "    df = pd.get_dummies(df)\n",
        "    print(\"Step-8...Completed\")\n",
        "    \n",
        "    return df"
      ],
      "execution_count": null,
      "outputs": []
    },
    {
      "cell_type": "code",
      "metadata": {
        "colab": {
          "base_uri": "https://localhost:8080/"
        },
        "id": "JJbv6EF0whkf",
        "outputId": "cfeb65f6-7160-4112-ec11-eb067b8d17d7"
      },
      "source": [
        "train = add_features(train_org)\n",
        "test  = add_features(test_org)\n",
        "\n",
        "print(train.shape, test.shape)\n",
        "del train_org, test_org"
      ],
      "execution_count": null,
      "outputs": [
        {
          "output_type": "stream",
          "name": "stdout",
          "text": [
            "Step-1...Completed\n",
            "Step-2...Completed\n",
            "Step-3...Completed\n",
            "Step-4...Completed\n",
            "Step-5...Completed\n",
            "====add_more_features_Begins===\n",
            "====add_more_features_Completed===\n",
            "Step-6...Completed\n",
            "Step-7...Completed\n",
            "Step-8...Completed\n",
            "Step-1...Completed\n",
            "Step-2...Completed\n",
            "Step-3...Completed\n",
            "Step-4...Completed\n",
            "Step-5...Completed\n",
            "====add_more_features_Begins===\n",
            "====add_more_features_Completed===\n",
            "Step-6...Completed\n",
            "Step-7...Completed\n",
            "Step-8...Completed\n",
            "(102400, 82) (102400, 81)\n"
          ]
        }
      ]
    },
    {
      "cell_type": "code",
      "metadata": {
        "colab": {
          "base_uri": "https://localhost:8080/"
        },
        "id": "qjbAAXk7W04f",
        "outputId": "feb5135a-69a2-41e2-9aa9-58bd1cbf76ee"
      },
      "source": [
        "train = save_ram(train, verbose=True)"
      ],
      "execution_count": null,
      "outputs": [
        {
          "output_type": "stream",
          "name": "stdout",
          "text": [
            "최적화 이후 메모리 사용량: 14.26MB\n",
            "메모리 감소비율: 73.5%\n"
          ]
        }
      ]
    },
    {
      "cell_type": "code",
      "metadata": {
        "colab": {
          "base_uri": "https://localhost:8080/",
          "height": 252
        },
        "id": "hPwGszjpww6h",
        "outputId": "9e8a8ce5-5b41-4e1e-fe56-bcca7404ca1b"
      },
      "source": [
        "train.head()"
      ],
      "execution_count": null,
      "outputs": [
        {
          "output_type": "execute_result",
          "data": {
            "text/html": [
              "<div>\n",
              "<style scoped>\n",
              "    .dataframe tbody tr th:only-of-type {\n",
              "        vertical-align: middle;\n",
              "    }\n",
              "\n",
              "    .dataframe tbody tr th {\n",
              "        vertical-align: top;\n",
              "    }\n",
              "\n",
              "    .dataframe thead th {\n",
              "        text-align: right;\n",
              "    }\n",
              "</style>\n",
              "<table border=\"1\" class=\"dataframe\">\n",
              "  <thead>\n",
              "    <tr style=\"text-align: right;\">\n",
              "      <th></th>\n",
              "      <th>id</th>\n",
              "      <th>breath_id</th>\n",
              "      <th>time_step</th>\n",
              "      <th>u_in</th>\n",
              "      <th>u_out</th>\n",
              "      <th>pressure</th>\n",
              "      <th>cross</th>\n",
              "      <th>cross2</th>\n",
              "      <th>area</th>\n",
              "      <th>time_step_cumsum</th>\n",
              "      <th>u_in_cumsum</th>\n",
              "      <th>u_in_lag1</th>\n",
              "      <th>u_out_lag1</th>\n",
              "      <th>u_in_lag_back1</th>\n",
              "      <th>u_out_lag_back1</th>\n",
              "      <th>u_in_lag2</th>\n",
              "      <th>u_out_lag2</th>\n",
              "      <th>u_in_lag_back2</th>\n",
              "      <th>u_out_lag_back2</th>\n",
              "      <th>u_in_lag3</th>\n",
              "      <th>u_out_lag3</th>\n",
              "      <th>u_in_lag_back3</th>\n",
              "      <th>u_out_lag_back3</th>\n",
              "      <th>u_in_lag4</th>\n",
              "      <th>u_out_lag4</th>\n",
              "      <th>u_in_lag_back4</th>\n",
              "      <th>u_out_lag_back4</th>\n",
              "      <th>breath_id__u_in__max</th>\n",
              "      <th>breath_id__u_in__mean</th>\n",
              "      <th>breath_id__u_in__diffmax</th>\n",
              "      <th>breath_id__u_in__diffmean</th>\n",
              "      <th>u_in_diff1</th>\n",
              "      <th>u_out_diff1</th>\n",
              "      <th>u_in_diff2</th>\n",
              "      <th>u_out_diff2</th>\n",
              "      <th>u_in_diff3</th>\n",
              "      <th>u_out_diff3</th>\n",
              "      <th>u_in_diff4</th>\n",
              "      <th>u_out_diff4</th>\n",
              "      <th>one</th>\n",
              "      <th>...</th>\n",
              "      <th>breath_id_lag</th>\n",
              "      <th>breath_id_lag2</th>\n",
              "      <th>breath_id_lagsame</th>\n",
              "      <th>breath_id_lag2same</th>\n",
              "      <th>breath_id__u_in_lag</th>\n",
              "      <th>breath_id__u_in_lag2</th>\n",
              "      <th>time_step_diff</th>\n",
              "      <th>ewm_u_in_mean</th>\n",
              "      <th>ewm_u_in_std</th>\n",
              "      <th>ewm_u_in_corr</th>\n",
              "      <th>rolling_10_mean</th>\n",
              "      <th>rolling_10_max</th>\n",
              "      <th>rolling_10_std</th>\n",
              "      <th>expand_mean</th>\n",
              "      <th>expand_max</th>\n",
              "      <th>expand_std</th>\n",
              "      <th>R_new</th>\n",
              "      <th>15_in_sum</th>\n",
              "      <th>15_in_min</th>\n",
              "      <th>15_in_max</th>\n",
              "      <th>15_in_mean</th>\n",
              "      <th>u_in_lagback_diff1</th>\n",
              "      <th>u_out_lagback_diff1</th>\n",
              "      <th>u_in_lagback_diff2</th>\n",
              "      <th>u_out_lagback_diff2</th>\n",
              "      <th>R_20</th>\n",
              "      <th>R_5</th>\n",
              "      <th>R_50</th>\n",
              "      <th>C_10</th>\n",
              "      <th>C_20</th>\n",
              "      <th>C_50</th>\n",
              "      <th>R__C_20__10</th>\n",
              "      <th>R__C_20__20</th>\n",
              "      <th>R__C_20__50</th>\n",
              "      <th>R__C_50__10</th>\n",
              "      <th>R__C_50__20</th>\n",
              "      <th>R__C_50__50</th>\n",
              "      <th>R__C_5__10</th>\n",
              "      <th>R__C_5__20</th>\n",
              "      <th>R__C_5__50</th>\n",
              "    </tr>\n",
              "  </thead>\n",
              "  <tbody>\n",
              "    <tr>\n",
              "      <th>0</th>\n",
              "      <td>1</td>\n",
              "      <td>1</td>\n",
              "      <td>0.000000</td>\n",
              "      <td>0.083313</td>\n",
              "      <td>0</td>\n",
              "      <td>5.835938</td>\n",
              "      <td>0.0</td>\n",
              "      <td>0.0</td>\n",
              "      <td>0.000000</td>\n",
              "      <td>0.000000</td>\n",
              "      <td>0.083313</td>\n",
              "      <td>0.000000</td>\n",
              "      <td>0.0</td>\n",
              "      <td>18.390625</td>\n",
              "      <td>0.0</td>\n",
              "      <td>0.000000</td>\n",
              "      <td>0.0</td>\n",
              "      <td>22.515625</td>\n",
              "      <td>0.0</td>\n",
              "      <td>0.000000</td>\n",
              "      <td>0.0</td>\n",
              "      <td>22.812500</td>\n",
              "      <td>0.0</td>\n",
              "      <td>0.000000</td>\n",
              "      <td>0.0</td>\n",
              "      <td>25.359375</td>\n",
              "      <td>0.0</td>\n",
              "      <td>28.3125</td>\n",
              "      <td>10.148438</td>\n",
              "      <td>28.234375</td>\n",
              "      <td>10.062500</td>\n",
              "      <td>0.083313</td>\n",
              "      <td>0.0</td>\n",
              "      <td>0.083313</td>\n",
              "      <td>0.0</td>\n",
              "      <td>0.083313</td>\n",
              "      <td>0.0</td>\n",
              "      <td>0.083313</td>\n",
              "      <td>0.0</td>\n",
              "      <td>1</td>\n",
              "      <td>...</td>\n",
              "      <td>0.0</td>\n",
              "      <td>0.0</td>\n",
              "      <td>0</td>\n",
              "      <td>0</td>\n",
              "      <td>0.000000</td>\n",
              "      <td>0.000000</td>\n",
              "      <td>0.000000</td>\n",
              "      <td>0.083313</td>\n",
              "      <td>NaN</td>\n",
              "      <td>NaN</td>\n",
              "      <td>0.083313</td>\n",
              "      <td>0.083313</td>\n",
              "      <td>NaN</td>\n",
              "      <td>NaN</td>\n",
              "      <td>NaN</td>\n",
              "      <td>NaN</td>\n",
              "      <td>0.000006</td>\n",
              "      <td>0.083313</td>\n",
              "      <td>0.083313</td>\n",
              "      <td>0.083313</td>\n",
              "      <td>0.083313</td>\n",
              "      <td>-18.296875</td>\n",
              "      <td>0.0</td>\n",
              "      <td>-22.421875</td>\n",
              "      <td>0.0</td>\n",
              "      <td>1</td>\n",
              "      <td>0</td>\n",
              "      <td>0</td>\n",
              "      <td>0</td>\n",
              "      <td>0</td>\n",
              "      <td>1</td>\n",
              "      <td>0</td>\n",
              "      <td>0</td>\n",
              "      <td>1</td>\n",
              "      <td>0</td>\n",
              "      <td>0</td>\n",
              "      <td>0</td>\n",
              "      <td>0</td>\n",
              "      <td>0</td>\n",
              "      <td>0</td>\n",
              "    </tr>\n",
              "    <tr>\n",
              "      <th>1</th>\n",
              "      <td>2</td>\n",
              "      <td>1</td>\n",
              "      <td>0.033661</td>\n",
              "      <td>18.390625</td>\n",
              "      <td>0</td>\n",
              "      <td>5.906250</td>\n",
              "      <td>0.0</td>\n",
              "      <td>0.0</td>\n",
              "      <td>0.618652</td>\n",
              "      <td>0.033661</td>\n",
              "      <td>18.468750</td>\n",
              "      <td>0.083313</td>\n",
              "      <td>0.0</td>\n",
              "      <td>22.515625</td>\n",
              "      <td>0.0</td>\n",
              "      <td>0.000000</td>\n",
              "      <td>0.0</td>\n",
              "      <td>22.812500</td>\n",
              "      <td>0.0</td>\n",
              "      <td>0.000000</td>\n",
              "      <td>0.0</td>\n",
              "      <td>25.359375</td>\n",
              "      <td>0.0</td>\n",
              "      <td>0.000000</td>\n",
              "      <td>0.0</td>\n",
              "      <td>27.265625</td>\n",
              "      <td>0.0</td>\n",
              "      <td>28.3125</td>\n",
              "      <td>10.148438</td>\n",
              "      <td>9.929688</td>\n",
              "      <td>-8.234375</td>\n",
              "      <td>18.296875</td>\n",
              "      <td>0.0</td>\n",
              "      <td>18.390625</td>\n",
              "      <td>0.0</td>\n",
              "      <td>18.390625</td>\n",
              "      <td>0.0</td>\n",
              "      <td>18.390625</td>\n",
              "      <td>0.0</td>\n",
              "      <td>1</td>\n",
              "      <td>...</td>\n",
              "      <td>1.0</td>\n",
              "      <td>0.0</td>\n",
              "      <td>1</td>\n",
              "      <td>0</td>\n",
              "      <td>0.083313</td>\n",
              "      <td>0.000000</td>\n",
              "      <td>0.033661</td>\n",
              "      <td>9.585938</td>\n",
              "      <td>12.937500</td>\n",
              "      <td>1.0</td>\n",
              "      <td>9.234375</td>\n",
              "      <td>18.390625</td>\n",
              "      <td>12.937500</td>\n",
              "      <td>9.234375</td>\n",
              "      <td>18.390625</td>\n",
              "      <td>12.937500</td>\n",
              "      <td>0.000006</td>\n",
              "      <td>18.468750</td>\n",
              "      <td>0.083313</td>\n",
              "      <td>18.390625</td>\n",
              "      <td>9.234375</td>\n",
              "      <td>-4.125000</td>\n",
              "      <td>0.0</td>\n",
              "      <td>-4.425781</td>\n",
              "      <td>0.0</td>\n",
              "      <td>1</td>\n",
              "      <td>0</td>\n",
              "      <td>0</td>\n",
              "      <td>0</td>\n",
              "      <td>0</td>\n",
              "      <td>1</td>\n",
              "      <td>0</td>\n",
              "      <td>0</td>\n",
              "      <td>1</td>\n",
              "      <td>0</td>\n",
              "      <td>0</td>\n",
              "      <td>0</td>\n",
              "      <td>0</td>\n",
              "      <td>0</td>\n",
              "      <td>0</td>\n",
              "    </tr>\n",
              "    <tr>\n",
              "      <th>2</th>\n",
              "      <td>3</td>\n",
              "      <td>1</td>\n",
              "      <td>0.067505</td>\n",
              "      <td>22.515625</td>\n",
              "      <td>0</td>\n",
              "      <td>7.875000</td>\n",
              "      <td>0.0</td>\n",
              "      <td>0.0</td>\n",
              "      <td>2.138672</td>\n",
              "      <td>0.101196</td>\n",
              "      <td>40.968750</td>\n",
              "      <td>18.390625</td>\n",
              "      <td>0.0</td>\n",
              "      <td>22.812500</td>\n",
              "      <td>0.0</td>\n",
              "      <td>0.083313</td>\n",
              "      <td>0.0</td>\n",
              "      <td>25.359375</td>\n",
              "      <td>0.0</td>\n",
              "      <td>0.000000</td>\n",
              "      <td>0.0</td>\n",
              "      <td>27.265625</td>\n",
              "      <td>0.0</td>\n",
              "      <td>0.000000</td>\n",
              "      <td>0.0</td>\n",
              "      <td>27.125000</td>\n",
              "      <td>0.0</td>\n",
              "      <td>28.3125</td>\n",
              "      <td>10.148438</td>\n",
              "      <td>5.804688</td>\n",
              "      <td>-12.359375</td>\n",
              "      <td>4.125000</td>\n",
              "      <td>0.0</td>\n",
              "      <td>22.421875</td>\n",
              "      <td>0.0</td>\n",
              "      <td>22.515625</td>\n",
              "      <td>0.0</td>\n",
              "      <td>22.515625</td>\n",
              "      <td>0.0</td>\n",
              "      <td>1</td>\n",
              "      <td>...</td>\n",
              "      <td>1.0</td>\n",
              "      <td>1.0</td>\n",
              "      <td>1</td>\n",
              "      <td>1</td>\n",
              "      <td>18.390625</td>\n",
              "      <td>0.083313</td>\n",
              "      <td>0.033875</td>\n",
              "      <td>14.226562</td>\n",
              "      <td>11.781250</td>\n",
              "      <td>1.0</td>\n",
              "      <td>13.656250</td>\n",
              "      <td>22.515625</td>\n",
              "      <td>11.937500</td>\n",
              "      <td>13.656250</td>\n",
              "      <td>22.515625</td>\n",
              "      <td>11.937500</td>\n",
              "      <td>0.000006</td>\n",
              "      <td>40.968750</td>\n",
              "      <td>0.083313</td>\n",
              "      <td>22.515625</td>\n",
              "      <td>13.656250</td>\n",
              "      <td>-0.299561</td>\n",
              "      <td>0.0</td>\n",
              "      <td>-2.845703</td>\n",
              "      <td>0.0</td>\n",
              "      <td>1</td>\n",
              "      <td>0</td>\n",
              "      <td>0</td>\n",
              "      <td>0</td>\n",
              "      <td>0</td>\n",
              "      <td>1</td>\n",
              "      <td>0</td>\n",
              "      <td>0</td>\n",
              "      <td>1</td>\n",
              "      <td>0</td>\n",
              "      <td>0</td>\n",
              "      <td>0</td>\n",
              "      <td>0</td>\n",
              "      <td>0</td>\n",
              "      <td>0</td>\n",
              "    </tr>\n",
              "    <tr>\n",
              "      <th>3</th>\n",
              "      <td>4</td>\n",
              "      <td>1</td>\n",
              "      <td>0.101562</td>\n",
              "      <td>22.812500</td>\n",
              "      <td>0</td>\n",
              "      <td>11.742188</td>\n",
              "      <td>0.0</td>\n",
              "      <td>0.0</td>\n",
              "      <td>4.453125</td>\n",
              "      <td>0.202759</td>\n",
              "      <td>63.781250</td>\n",
              "      <td>22.515625</td>\n",
              "      <td>0.0</td>\n",
              "      <td>25.359375</td>\n",
              "      <td>0.0</td>\n",
              "      <td>18.390625</td>\n",
              "      <td>0.0</td>\n",
              "      <td>27.265625</td>\n",
              "      <td>0.0</td>\n",
              "      <td>0.083313</td>\n",
              "      <td>0.0</td>\n",
              "      <td>27.125000</td>\n",
              "      <td>0.0</td>\n",
              "      <td>0.000000</td>\n",
              "      <td>0.0</td>\n",
              "      <td>26.812500</td>\n",
              "      <td>0.0</td>\n",
              "      <td>28.3125</td>\n",
              "      <td>10.148438</td>\n",
              "      <td>5.503906</td>\n",
              "      <td>-12.664062</td>\n",
              "      <td>0.299561</td>\n",
              "      <td>0.0</td>\n",
              "      <td>4.425781</td>\n",
              "      <td>0.0</td>\n",
              "      <td>22.718750</td>\n",
              "      <td>0.0</td>\n",
              "      <td>22.812500</td>\n",
              "      <td>0.0</td>\n",
              "      <td>1</td>\n",
              "      <td>...</td>\n",
              "      <td>1.0</td>\n",
              "      <td>1.0</td>\n",
              "      <td>1</td>\n",
              "      <td>1</td>\n",
              "      <td>22.515625</td>\n",
              "      <td>18.390625</td>\n",
              "      <td>0.034027</td>\n",
              "      <td>16.625000</td>\n",
              "      <td>10.445312</td>\n",
              "      <td>1.0</td>\n",
              "      <td>15.945312</td>\n",
              "      <td>22.812500</td>\n",
              "      <td>10.765625</td>\n",
              "      <td>15.945312</td>\n",
              "      <td>22.812500</td>\n",
              "      <td>10.765625</td>\n",
              "      <td>0.000006</td>\n",
              "      <td>63.781250</td>\n",
              "      <td>0.083313</td>\n",
              "      <td>22.812500</td>\n",
              "      <td>15.945312</td>\n",
              "      <td>-2.546875</td>\n",
              "      <td>0.0</td>\n",
              "      <td>-4.449219</td>\n",
              "      <td>0.0</td>\n",
              "      <td>1</td>\n",
              "      <td>0</td>\n",
              "      <td>0</td>\n",
              "      <td>0</td>\n",
              "      <td>0</td>\n",
              "      <td>1</td>\n",
              "      <td>0</td>\n",
              "      <td>0</td>\n",
              "      <td>1</td>\n",
              "      <td>0</td>\n",
              "      <td>0</td>\n",
              "      <td>0</td>\n",
              "      <td>0</td>\n",
              "      <td>0</td>\n",
              "      <td>0</td>\n",
              "    </tr>\n",
              "    <tr>\n",
              "      <th>4</th>\n",
              "      <td>5</td>\n",
              "      <td>1</td>\n",
              "      <td>0.135742</td>\n",
              "      <td>25.359375</td>\n",
              "      <td>0</td>\n",
              "      <td>12.234375</td>\n",
              "      <td>0.0</td>\n",
              "      <td>0.0</td>\n",
              "      <td>7.898438</td>\n",
              "      <td>0.338379</td>\n",
              "      <td>89.125000</td>\n",
              "      <td>22.812500</td>\n",
              "      <td>0.0</td>\n",
              "      <td>27.265625</td>\n",
              "      <td>0.0</td>\n",
              "      <td>22.515625</td>\n",
              "      <td>0.0</td>\n",
              "      <td>27.125000</td>\n",
              "      <td>0.0</td>\n",
              "      <td>18.390625</td>\n",
              "      <td>0.0</td>\n",
              "      <td>26.812500</td>\n",
              "      <td>0.0</td>\n",
              "      <td>0.083313</td>\n",
              "      <td>0.0</td>\n",
              "      <td>27.859375</td>\n",
              "      <td>0.0</td>\n",
              "      <td>28.3125</td>\n",
              "      <td>10.148438</td>\n",
              "      <td>2.957031</td>\n",
              "      <td>-15.210938</td>\n",
              "      <td>2.546875</td>\n",
              "      <td>0.0</td>\n",
              "      <td>2.845703</td>\n",
              "      <td>0.0</td>\n",
              "      <td>6.972656</td>\n",
              "      <td>0.0</td>\n",
              "      <td>25.265625</td>\n",
              "      <td>0.0</td>\n",
              "      <td>1</td>\n",
              "      <td>...</td>\n",
              "      <td>1.0</td>\n",
              "      <td>1.0</td>\n",
              "      <td>1</td>\n",
              "      <td>1</td>\n",
              "      <td>22.812500</td>\n",
              "      <td>22.515625</td>\n",
              "      <td>0.034210</td>\n",
              "      <td>18.656250</td>\n",
              "      <td>9.804688</td>\n",
              "      <td>1.0</td>\n",
              "      <td>17.828125</td>\n",
              "      <td>25.359375</td>\n",
              "      <td>10.226562</td>\n",
              "      <td>17.828125</td>\n",
              "      <td>25.359375</td>\n",
              "      <td>10.226562</td>\n",
              "      <td>0.000006</td>\n",
              "      <td>89.125000</td>\n",
              "      <td>0.083313</td>\n",
              "      <td>25.359375</td>\n",
              "      <td>17.828125</td>\n",
              "      <td>-1.904297</td>\n",
              "      <td>0.0</td>\n",
              "      <td>-1.771484</td>\n",
              "      <td>0.0</td>\n",
              "      <td>1</td>\n",
              "      <td>0</td>\n",
              "      <td>0</td>\n",
              "      <td>0</td>\n",
              "      <td>0</td>\n",
              "      <td>1</td>\n",
              "      <td>0</td>\n",
              "      <td>0</td>\n",
              "      <td>1</td>\n",
              "      <td>0</td>\n",
              "      <td>0</td>\n",
              "      <td>0</td>\n",
              "      <td>0</td>\n",
              "      <td>0</td>\n",
              "      <td>0</td>\n",
              "    </tr>\n",
              "  </tbody>\n",
              "</table>\n",
              "<p>5 rows × 82 columns</p>\n",
              "</div>"
            ],
            "text/plain": [
              "   id  breath_id  time_step  ...  R__C_5__10  R__C_5__20  R__C_5__50\n",
              "0   1          1   0.000000  ...           0           0           0\n",
              "1   2          1   0.033661  ...           0           0           0\n",
              "2   3          1   0.067505  ...           0           0           0\n",
              "3   4          1   0.101562  ...           0           0           0\n",
              "4   5          1   0.135742  ...           0           0           0\n",
              "\n",
              "[5 rows x 82 columns]"
            ]
          },
          "metadata": {},
          "execution_count": 13
        }
      ]
    },
    {
      "cell_type": "code",
      "metadata": {
        "colab": {
          "base_uri": "https://localhost:8080/"
        },
        "id": "tpadBJoFwsJC",
        "outputId": "6f734c3a-856a-410f-c5eb-cece75ff5142"
      },
      "source": [
        "test = save_ram(test)"
      ],
      "execution_count": null,
      "outputs": [
        {
          "output_type": "stream",
          "name": "stdout",
          "text": [
            "최적화 이후 메모리 사용량: 14.06MB\n",
            "메모리 감소비율: 73.48%\n"
          ]
        }
      ]
    },
    {
      "cell_type": "code",
      "metadata": {
        "colab": {
          "base_uri": "https://localhost:8080/",
          "height": 252
        },
        "id": "wDE1EG_CW02P",
        "outputId": "fd2c68ac-8d4f-4d4f-e405-9e2a34e6e782"
      },
      "source": [
        "test.head()"
      ],
      "execution_count": null,
      "outputs": [
        {
          "output_type": "execute_result",
          "data": {
            "text/html": [
              "<div>\n",
              "<style scoped>\n",
              "    .dataframe tbody tr th:only-of-type {\n",
              "        vertical-align: middle;\n",
              "    }\n",
              "\n",
              "    .dataframe tbody tr th {\n",
              "        vertical-align: top;\n",
              "    }\n",
              "\n",
              "    .dataframe thead th {\n",
              "        text-align: right;\n",
              "    }\n",
              "</style>\n",
              "<table border=\"1\" class=\"dataframe\">\n",
              "  <thead>\n",
              "    <tr style=\"text-align: right;\">\n",
              "      <th></th>\n",
              "      <th>id</th>\n",
              "      <th>breath_id</th>\n",
              "      <th>time_step</th>\n",
              "      <th>u_in</th>\n",
              "      <th>u_out</th>\n",
              "      <th>cross</th>\n",
              "      <th>cross2</th>\n",
              "      <th>area</th>\n",
              "      <th>time_step_cumsum</th>\n",
              "      <th>u_in_cumsum</th>\n",
              "      <th>u_in_lag1</th>\n",
              "      <th>u_out_lag1</th>\n",
              "      <th>u_in_lag_back1</th>\n",
              "      <th>u_out_lag_back1</th>\n",
              "      <th>u_in_lag2</th>\n",
              "      <th>u_out_lag2</th>\n",
              "      <th>u_in_lag_back2</th>\n",
              "      <th>u_out_lag_back2</th>\n",
              "      <th>u_in_lag3</th>\n",
              "      <th>u_out_lag3</th>\n",
              "      <th>u_in_lag_back3</th>\n",
              "      <th>u_out_lag_back3</th>\n",
              "      <th>u_in_lag4</th>\n",
              "      <th>u_out_lag4</th>\n",
              "      <th>u_in_lag_back4</th>\n",
              "      <th>u_out_lag_back4</th>\n",
              "      <th>breath_id__u_in__max</th>\n",
              "      <th>breath_id__u_in__mean</th>\n",
              "      <th>breath_id__u_in__diffmax</th>\n",
              "      <th>breath_id__u_in__diffmean</th>\n",
              "      <th>u_in_diff1</th>\n",
              "      <th>u_out_diff1</th>\n",
              "      <th>u_in_diff2</th>\n",
              "      <th>u_out_diff2</th>\n",
              "      <th>u_in_diff3</th>\n",
              "      <th>u_out_diff3</th>\n",
              "      <th>u_in_diff4</th>\n",
              "      <th>u_out_diff4</th>\n",
              "      <th>one</th>\n",
              "      <th>count</th>\n",
              "      <th>...</th>\n",
              "      <th>breath_id_lag</th>\n",
              "      <th>breath_id_lag2</th>\n",
              "      <th>breath_id_lagsame</th>\n",
              "      <th>breath_id_lag2same</th>\n",
              "      <th>breath_id__u_in_lag</th>\n",
              "      <th>breath_id__u_in_lag2</th>\n",
              "      <th>time_step_diff</th>\n",
              "      <th>ewm_u_in_mean</th>\n",
              "      <th>ewm_u_in_std</th>\n",
              "      <th>ewm_u_in_corr</th>\n",
              "      <th>rolling_10_mean</th>\n",
              "      <th>rolling_10_max</th>\n",
              "      <th>rolling_10_std</th>\n",
              "      <th>expand_mean</th>\n",
              "      <th>expand_max</th>\n",
              "      <th>expand_std</th>\n",
              "      <th>R_new</th>\n",
              "      <th>15_in_sum</th>\n",
              "      <th>15_in_min</th>\n",
              "      <th>15_in_max</th>\n",
              "      <th>15_in_mean</th>\n",
              "      <th>u_in_lagback_diff1</th>\n",
              "      <th>u_out_lagback_diff1</th>\n",
              "      <th>u_in_lagback_diff2</th>\n",
              "      <th>u_out_lagback_diff2</th>\n",
              "      <th>R_20</th>\n",
              "      <th>R_5</th>\n",
              "      <th>R_50</th>\n",
              "      <th>C_10</th>\n",
              "      <th>C_20</th>\n",
              "      <th>C_50</th>\n",
              "      <th>R__C_20__10</th>\n",
              "      <th>R__C_20__20</th>\n",
              "      <th>R__C_20__50</th>\n",
              "      <th>R__C_50__10</th>\n",
              "      <th>R__C_50__20</th>\n",
              "      <th>R__C_50__50</th>\n",
              "      <th>R__C_5__10</th>\n",
              "      <th>R__C_5__20</th>\n",
              "      <th>R__C_5__50</th>\n",
              "    </tr>\n",
              "  </thead>\n",
              "  <tbody>\n",
              "    <tr>\n",
              "      <th>0</th>\n",
              "      <td>1</td>\n",
              "      <td>0</td>\n",
              "      <td>0.000000</td>\n",
              "      <td>0.000000</td>\n",
              "      <td>0</td>\n",
              "      <td>0.0</td>\n",
              "      <td>0.0</td>\n",
              "      <td>0.000000</td>\n",
              "      <td>0.000000</td>\n",
              "      <td>0.000000</td>\n",
              "      <td>0.000000</td>\n",
              "      <td>0.0</td>\n",
              "      <td>7.515625</td>\n",
              "      <td>0.0</td>\n",
              "      <td>0.000000</td>\n",
              "      <td>0.0</td>\n",
              "      <td>14.648438</td>\n",
              "      <td>0.0</td>\n",
              "      <td>0.000000</td>\n",
              "      <td>0.0</td>\n",
              "      <td>21.234375</td>\n",
              "      <td>0.0</td>\n",
              "      <td>0.0</td>\n",
              "      <td>0.0</td>\n",
              "      <td>26.328125</td>\n",
              "      <td>0.0</td>\n",
              "      <td>37.53125</td>\n",
              "      <td>9.328125</td>\n",
              "      <td>37.531250</td>\n",
              "      <td>9.328125</td>\n",
              "      <td>0.000000</td>\n",
              "      <td>0.0</td>\n",
              "      <td>0.000000</td>\n",
              "      <td>0.0</td>\n",
              "      <td>0.000000</td>\n",
              "      <td>0.0</td>\n",
              "      <td>0.000000</td>\n",
              "      <td>0.0</td>\n",
              "      <td>1</td>\n",
              "      <td>1</td>\n",
              "      <td>...</td>\n",
              "      <td>0.0</td>\n",
              "      <td>0.0</td>\n",
              "      <td>1</td>\n",
              "      <td>1</td>\n",
              "      <td>0.000000</td>\n",
              "      <td>0.000000</td>\n",
              "      <td>0.000000</td>\n",
              "      <td>0.000000</td>\n",
              "      <td>NaN</td>\n",
              "      <td>NaN</td>\n",
              "      <td>0.000000</td>\n",
              "      <td>0.000000</td>\n",
              "      <td>NaN</td>\n",
              "      <td>NaN</td>\n",
              "      <td>NaN</td>\n",
              "      <td>NaN</td>\n",
              "      <td>0.0016</td>\n",
              "      <td>0.000000</td>\n",
              "      <td>0.0</td>\n",
              "      <td>0.000000</td>\n",
              "      <td>0.000000</td>\n",
              "      <td>-7.515625</td>\n",
              "      <td>0.0</td>\n",
              "      <td>-14.648438</td>\n",
              "      <td>0.0</td>\n",
              "      <td>0</td>\n",
              "      <td>1</td>\n",
              "      <td>0</td>\n",
              "      <td>0</td>\n",
              "      <td>1</td>\n",
              "      <td>0</td>\n",
              "      <td>0</td>\n",
              "      <td>0</td>\n",
              "      <td>0</td>\n",
              "      <td>0</td>\n",
              "      <td>0</td>\n",
              "      <td>0</td>\n",
              "      <td>0</td>\n",
              "      <td>1</td>\n",
              "      <td>0</td>\n",
              "    </tr>\n",
              "    <tr>\n",
              "      <th>1</th>\n",
              "      <td>2</td>\n",
              "      <td>0</td>\n",
              "      <td>0.031891</td>\n",
              "      <td>7.515625</td>\n",
              "      <td>0</td>\n",
              "      <td>0.0</td>\n",
              "      <td>0.0</td>\n",
              "      <td>0.239746</td>\n",
              "      <td>0.031891</td>\n",
              "      <td>7.515625</td>\n",
              "      <td>0.000000</td>\n",
              "      <td>0.0</td>\n",
              "      <td>14.648438</td>\n",
              "      <td>0.0</td>\n",
              "      <td>0.000000</td>\n",
              "      <td>0.0</td>\n",
              "      <td>21.234375</td>\n",
              "      <td>0.0</td>\n",
              "      <td>0.000000</td>\n",
              "      <td>0.0</td>\n",
              "      <td>26.328125</td>\n",
              "      <td>0.0</td>\n",
              "      <td>0.0</td>\n",
              "      <td>0.0</td>\n",
              "      <td>30.484375</td>\n",
              "      <td>0.0</td>\n",
              "      <td>37.53125</td>\n",
              "      <td>9.328125</td>\n",
              "      <td>30.031250</td>\n",
              "      <td>1.812500</td>\n",
              "      <td>7.515625</td>\n",
              "      <td>0.0</td>\n",
              "      <td>7.515625</td>\n",
              "      <td>0.0</td>\n",
              "      <td>7.515625</td>\n",
              "      <td>0.0</td>\n",
              "      <td>7.515625</td>\n",
              "      <td>0.0</td>\n",
              "      <td>1</td>\n",
              "      <td>2</td>\n",
              "      <td>...</td>\n",
              "      <td>0.0</td>\n",
              "      <td>0.0</td>\n",
              "      <td>1</td>\n",
              "      <td>1</td>\n",
              "      <td>0.000000</td>\n",
              "      <td>0.000000</td>\n",
              "      <td>0.031891</td>\n",
              "      <td>3.902344</td>\n",
              "      <td>5.312500</td>\n",
              "      <td>1.0</td>\n",
              "      <td>3.757812</td>\n",
              "      <td>7.515625</td>\n",
              "      <td>5.312500</td>\n",
              "      <td>3.757812</td>\n",
              "      <td>7.515625</td>\n",
              "      <td>5.312500</td>\n",
              "      <td>0.0016</td>\n",
              "      <td>7.515625</td>\n",
              "      <td>0.0</td>\n",
              "      <td>7.515625</td>\n",
              "      <td>3.757812</td>\n",
              "      <td>-7.136719</td>\n",
              "      <td>0.0</td>\n",
              "      <td>-13.718750</td>\n",
              "      <td>0.0</td>\n",
              "      <td>0</td>\n",
              "      <td>1</td>\n",
              "      <td>0</td>\n",
              "      <td>0</td>\n",
              "      <td>1</td>\n",
              "      <td>0</td>\n",
              "      <td>0</td>\n",
              "      <td>0</td>\n",
              "      <td>0</td>\n",
              "      <td>0</td>\n",
              "      <td>0</td>\n",
              "      <td>0</td>\n",
              "      <td>0</td>\n",
              "      <td>1</td>\n",
              "      <td>0</td>\n",
              "    </tr>\n",
              "    <tr>\n",
              "      <th>2</th>\n",
              "      <td>3</td>\n",
              "      <td>0</td>\n",
              "      <td>0.063843</td>\n",
              "      <td>14.648438</td>\n",
              "      <td>0</td>\n",
              "      <td>0.0</td>\n",
              "      <td>0.0</td>\n",
              "      <td>1.174805</td>\n",
              "      <td>0.095703</td>\n",
              "      <td>22.171875</td>\n",
              "      <td>7.515625</td>\n",
              "      <td>0.0</td>\n",
              "      <td>21.234375</td>\n",
              "      <td>0.0</td>\n",
              "      <td>0.000000</td>\n",
              "      <td>0.0</td>\n",
              "      <td>26.328125</td>\n",
              "      <td>0.0</td>\n",
              "      <td>0.000000</td>\n",
              "      <td>0.0</td>\n",
              "      <td>30.484375</td>\n",
              "      <td>0.0</td>\n",
              "      <td>0.0</td>\n",
              "      <td>0.0</td>\n",
              "      <td>33.531250</td>\n",
              "      <td>0.0</td>\n",
              "      <td>37.53125</td>\n",
              "      <td>9.328125</td>\n",
              "      <td>22.890625</td>\n",
              "      <td>-5.324219</td>\n",
              "      <td>7.136719</td>\n",
              "      <td>0.0</td>\n",
              "      <td>14.648438</td>\n",
              "      <td>0.0</td>\n",
              "      <td>14.648438</td>\n",
              "      <td>0.0</td>\n",
              "      <td>14.648438</td>\n",
              "      <td>0.0</td>\n",
              "      <td>1</td>\n",
              "      <td>3</td>\n",
              "      <td>...</td>\n",
              "      <td>0.0</td>\n",
              "      <td>0.0</td>\n",
              "      <td>1</td>\n",
              "      <td>1</td>\n",
              "      <td>7.515625</td>\n",
              "      <td>0.000000</td>\n",
              "      <td>0.031921</td>\n",
              "      <td>7.765625</td>\n",
              "      <td>7.320312</td>\n",
              "      <td>1.0</td>\n",
              "      <td>7.390625</td>\n",
              "      <td>14.648438</td>\n",
              "      <td>7.328125</td>\n",
              "      <td>7.390625</td>\n",
              "      <td>14.648438</td>\n",
              "      <td>7.328125</td>\n",
              "      <td>0.0016</td>\n",
              "      <td>22.171875</td>\n",
              "      <td>0.0</td>\n",
              "      <td>14.648438</td>\n",
              "      <td>7.390625</td>\n",
              "      <td>-6.578125</td>\n",
              "      <td>0.0</td>\n",
              "      <td>-11.671875</td>\n",
              "      <td>0.0</td>\n",
              "      <td>0</td>\n",
              "      <td>1</td>\n",
              "      <td>0</td>\n",
              "      <td>0</td>\n",
              "      <td>1</td>\n",
              "      <td>0</td>\n",
              "      <td>0</td>\n",
              "      <td>0</td>\n",
              "      <td>0</td>\n",
              "      <td>0</td>\n",
              "      <td>0</td>\n",
              "      <td>0</td>\n",
              "      <td>0</td>\n",
              "      <td>1</td>\n",
              "      <td>0</td>\n",
              "    </tr>\n",
              "    <tr>\n",
              "      <th>3</th>\n",
              "      <td>4</td>\n",
              "      <td>0</td>\n",
              "      <td>0.095764</td>\n",
              "      <td>21.234375</td>\n",
              "      <td>0</td>\n",
              "      <td>0.0</td>\n",
              "      <td>0.0</td>\n",
              "      <td>3.207031</td>\n",
              "      <td>0.191528</td>\n",
              "      <td>43.406250</td>\n",
              "      <td>14.648438</td>\n",
              "      <td>0.0</td>\n",
              "      <td>26.328125</td>\n",
              "      <td>0.0</td>\n",
              "      <td>7.515625</td>\n",
              "      <td>0.0</td>\n",
              "      <td>30.484375</td>\n",
              "      <td>0.0</td>\n",
              "      <td>0.000000</td>\n",
              "      <td>0.0</td>\n",
              "      <td>33.531250</td>\n",
              "      <td>0.0</td>\n",
              "      <td>0.0</td>\n",
              "      <td>0.0</td>\n",
              "      <td>35.718750</td>\n",
              "      <td>0.0</td>\n",
              "      <td>37.53125</td>\n",
              "      <td>9.328125</td>\n",
              "      <td>16.312500</td>\n",
              "      <td>-11.906250</td>\n",
              "      <td>6.578125</td>\n",
              "      <td>0.0</td>\n",
              "      <td>13.718750</td>\n",
              "      <td>0.0</td>\n",
              "      <td>21.234375</td>\n",
              "      <td>0.0</td>\n",
              "      <td>21.234375</td>\n",
              "      <td>0.0</td>\n",
              "      <td>1</td>\n",
              "      <td>4</td>\n",
              "      <td>...</td>\n",
              "      <td>0.0</td>\n",
              "      <td>0.0</td>\n",
              "      <td>1</td>\n",
              "      <td>1</td>\n",
              "      <td>14.648438</td>\n",
              "      <td>7.515625</td>\n",
              "      <td>0.031921</td>\n",
              "      <td>11.531250</td>\n",
              "      <td>9.125000</td>\n",
              "      <td>1.0</td>\n",
              "      <td>10.851562</td>\n",
              "      <td>21.234375</td>\n",
              "      <td>9.148438</td>\n",
              "      <td>10.851562</td>\n",
              "      <td>21.234375</td>\n",
              "      <td>9.148438</td>\n",
              "      <td>0.0016</td>\n",
              "      <td>43.406250</td>\n",
              "      <td>0.0</td>\n",
              "      <td>21.234375</td>\n",
              "      <td>10.851562</td>\n",
              "      <td>-5.089844</td>\n",
              "      <td>0.0</td>\n",
              "      <td>-9.257812</td>\n",
              "      <td>0.0</td>\n",
              "      <td>0</td>\n",
              "      <td>1</td>\n",
              "      <td>0</td>\n",
              "      <td>0</td>\n",
              "      <td>1</td>\n",
              "      <td>0</td>\n",
              "      <td>0</td>\n",
              "      <td>0</td>\n",
              "      <td>0</td>\n",
              "      <td>0</td>\n",
              "      <td>0</td>\n",
              "      <td>0</td>\n",
              "      <td>0</td>\n",
              "      <td>1</td>\n",
              "      <td>0</td>\n",
              "    </tr>\n",
              "    <tr>\n",
              "      <th>4</th>\n",
              "      <td>5</td>\n",
              "      <td>0</td>\n",
              "      <td>0.127686</td>\n",
              "      <td>26.328125</td>\n",
              "      <td>0</td>\n",
              "      <td>0.0</td>\n",
              "      <td>0.0</td>\n",
              "      <td>6.566406</td>\n",
              "      <td>0.319092</td>\n",
              "      <td>69.687500</td>\n",
              "      <td>21.234375</td>\n",
              "      <td>0.0</td>\n",
              "      <td>30.484375</td>\n",
              "      <td>0.0</td>\n",
              "      <td>14.648438</td>\n",
              "      <td>0.0</td>\n",
              "      <td>33.531250</td>\n",
              "      <td>0.0</td>\n",
              "      <td>7.515625</td>\n",
              "      <td>0.0</td>\n",
              "      <td>35.718750</td>\n",
              "      <td>0.0</td>\n",
              "      <td>0.0</td>\n",
              "      <td>0.0</td>\n",
              "      <td>36.968750</td>\n",
              "      <td>0.0</td>\n",
              "      <td>37.53125</td>\n",
              "      <td>9.328125</td>\n",
              "      <td>11.218750</td>\n",
              "      <td>-17.000000</td>\n",
              "      <td>5.089844</td>\n",
              "      <td>0.0</td>\n",
              "      <td>11.671875</td>\n",
              "      <td>0.0</td>\n",
              "      <td>18.812500</td>\n",
              "      <td>0.0</td>\n",
              "      <td>26.328125</td>\n",
              "      <td>0.0</td>\n",
              "      <td>1</td>\n",
              "      <td>5</td>\n",
              "      <td>...</td>\n",
              "      <td>0.0</td>\n",
              "      <td>0.0</td>\n",
              "      <td>1</td>\n",
              "      <td>1</td>\n",
              "      <td>21.234375</td>\n",
              "      <td>14.648438</td>\n",
              "      <td>0.031891</td>\n",
              "      <td>14.960938</td>\n",
              "      <td>10.437500</td>\n",
              "      <td>1.0</td>\n",
              "      <td>13.945312</td>\n",
              "      <td>26.328125</td>\n",
              "      <td>10.515625</td>\n",
              "      <td>13.945312</td>\n",
              "      <td>26.328125</td>\n",
              "      <td>10.515625</td>\n",
              "      <td>0.0016</td>\n",
              "      <td>69.687500</td>\n",
              "      <td>0.0</td>\n",
              "      <td>26.328125</td>\n",
              "      <td>13.945312</td>\n",
              "      <td>-4.164062</td>\n",
              "      <td>0.0</td>\n",
              "      <td>-7.226562</td>\n",
              "      <td>0.0</td>\n",
              "      <td>0</td>\n",
              "      <td>1</td>\n",
              "      <td>0</td>\n",
              "      <td>0</td>\n",
              "      <td>1</td>\n",
              "      <td>0</td>\n",
              "      <td>0</td>\n",
              "      <td>0</td>\n",
              "      <td>0</td>\n",
              "      <td>0</td>\n",
              "      <td>0</td>\n",
              "      <td>0</td>\n",
              "      <td>0</td>\n",
              "      <td>1</td>\n",
              "      <td>0</td>\n",
              "    </tr>\n",
              "  </tbody>\n",
              "</table>\n",
              "<p>5 rows × 81 columns</p>\n",
              "</div>"
            ],
            "text/plain": [
              "   id  breath_id  time_step  ...  R__C_5__10  R__C_5__20  R__C_5__50\n",
              "0   1          0   0.000000  ...           0           1           0\n",
              "1   2          0   0.031891  ...           0           1           0\n",
              "2   3          0   0.063843  ...           0           1           0\n",
              "3   4          0   0.095764  ...           0           1           0\n",
              "4   5          0   0.127686  ...           0           1           0\n",
              "\n",
              "[5 rows x 81 columns]"
            ]
          },
          "metadata": {},
          "execution_count": 15
        }
      ]
    },
    {
      "cell_type": "code",
      "metadata": {
        "id": "U7rVcU52X2xQ",
        "colab": {
          "base_uri": "https://localhost:8080/",
          "height": 159
        },
        "outputId": "ba181f01-4d95-4e18-c413-2cffd225b92a"
      },
      "source": [
        "test.head(2)"
      ],
      "execution_count": null,
      "outputs": [
        {
          "output_type": "execute_result",
          "data": {
            "text/html": [
              "<div>\n",
              "<style scoped>\n",
              "    .dataframe tbody tr th:only-of-type {\n",
              "        vertical-align: middle;\n",
              "    }\n",
              "\n",
              "    .dataframe tbody tr th {\n",
              "        vertical-align: top;\n",
              "    }\n",
              "\n",
              "    .dataframe thead th {\n",
              "        text-align: right;\n",
              "    }\n",
              "</style>\n",
              "<table border=\"1\" class=\"dataframe\">\n",
              "  <thead>\n",
              "    <tr style=\"text-align: right;\">\n",
              "      <th></th>\n",
              "      <th>id</th>\n",
              "      <th>breath_id</th>\n",
              "      <th>time_step</th>\n",
              "      <th>u_in</th>\n",
              "      <th>u_out</th>\n",
              "      <th>cross</th>\n",
              "      <th>cross2</th>\n",
              "      <th>area</th>\n",
              "      <th>time_step_cumsum</th>\n",
              "      <th>u_in_cumsum</th>\n",
              "      <th>u_in_lag1</th>\n",
              "      <th>u_out_lag1</th>\n",
              "      <th>u_in_lag_back1</th>\n",
              "      <th>u_out_lag_back1</th>\n",
              "      <th>u_in_lag2</th>\n",
              "      <th>u_out_lag2</th>\n",
              "      <th>u_in_lag_back2</th>\n",
              "      <th>u_out_lag_back2</th>\n",
              "      <th>u_in_lag3</th>\n",
              "      <th>u_out_lag3</th>\n",
              "      <th>u_in_lag_back3</th>\n",
              "      <th>u_out_lag_back3</th>\n",
              "      <th>u_in_lag4</th>\n",
              "      <th>u_out_lag4</th>\n",
              "      <th>u_in_lag_back4</th>\n",
              "      <th>u_out_lag_back4</th>\n",
              "      <th>breath_id__u_in__max</th>\n",
              "      <th>breath_id__u_in__mean</th>\n",
              "      <th>breath_id__u_in__diffmax</th>\n",
              "      <th>breath_id__u_in__diffmean</th>\n",
              "      <th>u_in_diff1</th>\n",
              "      <th>u_out_diff1</th>\n",
              "      <th>u_in_diff2</th>\n",
              "      <th>u_out_diff2</th>\n",
              "      <th>u_in_diff3</th>\n",
              "      <th>u_out_diff3</th>\n",
              "      <th>u_in_diff4</th>\n",
              "      <th>u_out_diff4</th>\n",
              "      <th>one</th>\n",
              "      <th>count</th>\n",
              "      <th>...</th>\n",
              "      <th>breath_id_lag</th>\n",
              "      <th>breath_id_lag2</th>\n",
              "      <th>breath_id_lagsame</th>\n",
              "      <th>breath_id_lag2same</th>\n",
              "      <th>breath_id__u_in_lag</th>\n",
              "      <th>breath_id__u_in_lag2</th>\n",
              "      <th>time_step_diff</th>\n",
              "      <th>ewm_u_in_mean</th>\n",
              "      <th>ewm_u_in_std</th>\n",
              "      <th>ewm_u_in_corr</th>\n",
              "      <th>rolling_10_mean</th>\n",
              "      <th>rolling_10_max</th>\n",
              "      <th>rolling_10_std</th>\n",
              "      <th>expand_mean</th>\n",
              "      <th>expand_max</th>\n",
              "      <th>expand_std</th>\n",
              "      <th>R_new</th>\n",
              "      <th>15_in_sum</th>\n",
              "      <th>15_in_min</th>\n",
              "      <th>15_in_max</th>\n",
              "      <th>15_in_mean</th>\n",
              "      <th>u_in_lagback_diff1</th>\n",
              "      <th>u_out_lagback_diff1</th>\n",
              "      <th>u_in_lagback_diff2</th>\n",
              "      <th>u_out_lagback_diff2</th>\n",
              "      <th>R_20</th>\n",
              "      <th>R_5</th>\n",
              "      <th>R_50</th>\n",
              "      <th>C_10</th>\n",
              "      <th>C_20</th>\n",
              "      <th>C_50</th>\n",
              "      <th>R__C_20__10</th>\n",
              "      <th>R__C_20__20</th>\n",
              "      <th>R__C_20__50</th>\n",
              "      <th>R__C_50__10</th>\n",
              "      <th>R__C_50__20</th>\n",
              "      <th>R__C_50__50</th>\n",
              "      <th>R__C_5__10</th>\n",
              "      <th>R__C_5__20</th>\n",
              "      <th>R__C_5__50</th>\n",
              "    </tr>\n",
              "  </thead>\n",
              "  <tbody>\n",
              "    <tr>\n",
              "      <th>0</th>\n",
              "      <td>1</td>\n",
              "      <td>0</td>\n",
              "      <td>0.000000</td>\n",
              "      <td>0.000000</td>\n",
              "      <td>0</td>\n",
              "      <td>0.0</td>\n",
              "      <td>0.0</td>\n",
              "      <td>0.000000</td>\n",
              "      <td>0.000000</td>\n",
              "      <td>0.000000</td>\n",
              "      <td>0.0</td>\n",
              "      <td>0.0</td>\n",
              "      <td>7.515625</td>\n",
              "      <td>0.0</td>\n",
              "      <td>0.0</td>\n",
              "      <td>0.0</td>\n",
              "      <td>14.648438</td>\n",
              "      <td>0.0</td>\n",
              "      <td>0.0</td>\n",
              "      <td>0.0</td>\n",
              "      <td>21.234375</td>\n",
              "      <td>0.0</td>\n",
              "      <td>0.0</td>\n",
              "      <td>0.0</td>\n",
              "      <td>26.328125</td>\n",
              "      <td>0.0</td>\n",
              "      <td>37.53125</td>\n",
              "      <td>9.328125</td>\n",
              "      <td>37.53125</td>\n",
              "      <td>9.328125</td>\n",
              "      <td>0.000000</td>\n",
              "      <td>0.0</td>\n",
              "      <td>0.000000</td>\n",
              "      <td>0.0</td>\n",
              "      <td>0.000000</td>\n",
              "      <td>0.0</td>\n",
              "      <td>0.000000</td>\n",
              "      <td>0.0</td>\n",
              "      <td>1</td>\n",
              "      <td>1</td>\n",
              "      <td>...</td>\n",
              "      <td>0.0</td>\n",
              "      <td>0.0</td>\n",
              "      <td>1</td>\n",
              "      <td>1</td>\n",
              "      <td>0.0</td>\n",
              "      <td>0.0</td>\n",
              "      <td>0.000000</td>\n",
              "      <td>0.000000</td>\n",
              "      <td>NaN</td>\n",
              "      <td>NaN</td>\n",
              "      <td>0.000000</td>\n",
              "      <td>0.000000</td>\n",
              "      <td>NaN</td>\n",
              "      <td>NaN</td>\n",
              "      <td>NaN</td>\n",
              "      <td>NaN</td>\n",
              "      <td>0.0016</td>\n",
              "      <td>0.000000</td>\n",
              "      <td>0.0</td>\n",
              "      <td>0.000000</td>\n",
              "      <td>0.000000</td>\n",
              "      <td>-7.515625</td>\n",
              "      <td>0.0</td>\n",
              "      <td>-14.648438</td>\n",
              "      <td>0.0</td>\n",
              "      <td>0</td>\n",
              "      <td>1</td>\n",
              "      <td>0</td>\n",
              "      <td>0</td>\n",
              "      <td>1</td>\n",
              "      <td>0</td>\n",
              "      <td>0</td>\n",
              "      <td>0</td>\n",
              "      <td>0</td>\n",
              "      <td>0</td>\n",
              "      <td>0</td>\n",
              "      <td>0</td>\n",
              "      <td>0</td>\n",
              "      <td>1</td>\n",
              "      <td>0</td>\n",
              "    </tr>\n",
              "    <tr>\n",
              "      <th>1</th>\n",
              "      <td>2</td>\n",
              "      <td>0</td>\n",
              "      <td>0.031891</td>\n",
              "      <td>7.515625</td>\n",
              "      <td>0</td>\n",
              "      <td>0.0</td>\n",
              "      <td>0.0</td>\n",
              "      <td>0.239746</td>\n",
              "      <td>0.031891</td>\n",
              "      <td>7.515625</td>\n",
              "      <td>0.0</td>\n",
              "      <td>0.0</td>\n",
              "      <td>14.648438</td>\n",
              "      <td>0.0</td>\n",
              "      <td>0.0</td>\n",
              "      <td>0.0</td>\n",
              "      <td>21.234375</td>\n",
              "      <td>0.0</td>\n",
              "      <td>0.0</td>\n",
              "      <td>0.0</td>\n",
              "      <td>26.328125</td>\n",
              "      <td>0.0</td>\n",
              "      <td>0.0</td>\n",
              "      <td>0.0</td>\n",
              "      <td>30.484375</td>\n",
              "      <td>0.0</td>\n",
              "      <td>37.53125</td>\n",
              "      <td>9.328125</td>\n",
              "      <td>30.03125</td>\n",
              "      <td>1.812500</td>\n",
              "      <td>7.515625</td>\n",
              "      <td>0.0</td>\n",
              "      <td>7.515625</td>\n",
              "      <td>0.0</td>\n",
              "      <td>7.515625</td>\n",
              "      <td>0.0</td>\n",
              "      <td>7.515625</td>\n",
              "      <td>0.0</td>\n",
              "      <td>1</td>\n",
              "      <td>2</td>\n",
              "      <td>...</td>\n",
              "      <td>0.0</td>\n",
              "      <td>0.0</td>\n",
              "      <td>1</td>\n",
              "      <td>1</td>\n",
              "      <td>0.0</td>\n",
              "      <td>0.0</td>\n",
              "      <td>0.031891</td>\n",
              "      <td>3.902344</td>\n",
              "      <td>5.3125</td>\n",
              "      <td>1.0</td>\n",
              "      <td>3.757812</td>\n",
              "      <td>7.515625</td>\n",
              "      <td>5.3125</td>\n",
              "      <td>3.757812</td>\n",
              "      <td>7.515625</td>\n",
              "      <td>5.3125</td>\n",
              "      <td>0.0016</td>\n",
              "      <td>7.515625</td>\n",
              "      <td>0.0</td>\n",
              "      <td>7.515625</td>\n",
              "      <td>3.757812</td>\n",
              "      <td>-7.136719</td>\n",
              "      <td>0.0</td>\n",
              "      <td>-13.718750</td>\n",
              "      <td>0.0</td>\n",
              "      <td>0</td>\n",
              "      <td>1</td>\n",
              "      <td>0</td>\n",
              "      <td>0</td>\n",
              "      <td>1</td>\n",
              "      <td>0</td>\n",
              "      <td>0</td>\n",
              "      <td>0</td>\n",
              "      <td>0</td>\n",
              "      <td>0</td>\n",
              "      <td>0</td>\n",
              "      <td>0</td>\n",
              "      <td>0</td>\n",
              "      <td>1</td>\n",
              "      <td>0</td>\n",
              "    </tr>\n",
              "  </tbody>\n",
              "</table>\n",
              "<p>2 rows × 81 columns</p>\n",
              "</div>"
            ],
            "text/plain": [
              "   id  breath_id  time_step  ...  R__C_5__10  R__C_5__20  R__C_5__50\n",
              "0   1          0   0.000000  ...           0           1           0\n",
              "1   2          0   0.031891  ...           0           1           0\n",
              "\n",
              "[2 rows x 81 columns]"
            ]
          },
          "metadata": {},
          "execution_count": 16
        }
      ]
    },
    {
      "cell_type": "markdown",
      "metadata": {
        "id": "LVKNCW89PaWV"
      },
      "source": [
        "## **[국룰] add_features**"
      ]
    },
    {
      "cell_type": "code",
      "metadata": {
        "id": "1tZjWmjCVMLU"
      },
      "source": [
        "# ## https://www.kaggle.com/tenffe/finetune-of-tensorflow-bidirectional-lstm/notebook\n",
        "\n",
        "# def add_features(df):\n",
        "#     df['area'] = df['time_step'] * df['u_in']\n",
        "#     df['area'] = df.groupby('breath_id')['area'].cumsum()\n",
        "    \n",
        "#     df['u_in_cumsum'] = (df['u_in']).groupby(df['breath_id']).cumsum()\n",
        "    \n",
        "#     df['u_in_lag1'] = df.groupby('breath_id')['u_in'].shift(1)\n",
        "#     df['u_out_lag1'] = df.groupby('breath_id')['u_out'].shift(1)\n",
        "#     df['u_in_lag_back1'] = df.groupby('breath_id')['u_in'].shift(-1)\n",
        "#     df['u_out_lag_back1'] = df.groupby('breath_id')['u_out'].shift(-1)\n",
        "#     df['u_in_lag2'] = df.groupby('breath_id')['u_in'].shift(2)\n",
        "#     df['u_out_lag2'] = df.groupby('breath_id')['u_out'].shift(2)\n",
        "#     df['u_in_lag_back2'] = df.groupby('breath_id')['u_in'].shift(-2)\n",
        "#     df['u_out_lag_back2'] = df.groupby('breath_id')['u_out'].shift(-2)\n",
        "#     df['u_in_lag3'] = df.groupby('breath_id')['u_in'].shift(3)\n",
        "#     df['u_out_lag3'] = df.groupby('breath_id')['u_out'].shift(3)\n",
        "#     df['u_in_lag_back3'] = df.groupby('breath_id')['u_in'].shift(-3)\n",
        "#     df['u_out_lag_back3'] = df.groupby('breath_id')['u_out'].shift(-3)\n",
        "#     df['u_in_lag4'] = df.groupby('breath_id')['u_in'].shift(4)\n",
        "#     df['u_out_lag4'] = df.groupby('breath_id')['u_out'].shift(4)\n",
        "#     df['u_in_lag_back4'] = df.groupby('breath_id')['u_in'].shift(-4)\n",
        "#     df['u_out_lag_back4'] = df.groupby('breath_id')['u_out'].shift(-4)\n",
        "#     df = df.fillna(0)\n",
        "    \n",
        "#     df['breath_id__u_in__max'] = df.groupby(['breath_id'])['u_in'].transform('max')\n",
        "#     df['breath_id__u_out__max'] = df.groupby(['breath_id'])['u_out'].transform('max')\n",
        "    \n",
        "#     df['u_in_diff1'] = df['u_in'] - df['u_in_lag1']\n",
        "#     df['u_out_diff1'] = df['u_out'] - df['u_out_lag1']\n",
        "#     df['u_in_diff2'] = df['u_in'] - df['u_in_lag2']\n",
        "#     df['u_out_diff2'] = df['u_out'] - df['u_out_lag2']\n",
        "    \n",
        "#     df['breath_id__u_in__diffmax'] = df.groupby(['breath_id'])['u_in'].transform('max') - df['u_in']\n",
        "#     df['breath_id__u_in__diffmean'] = df.groupby(['breath_id'])['u_in'].transform('mean') - df['u_in']\n",
        "    \n",
        "#     df['breath_id__u_in__diffmax'] = df.groupby(['breath_id'])['u_in'].transform('max') - df['u_in']\n",
        "#     df['breath_id__u_in__diffmean'] = df.groupby(['breath_id'])['u_in'].transform('mean') - df['u_in']\n",
        "    \n",
        "#     df['u_in_diff3'] = df['u_in'] - df['u_in_lag3']\n",
        "#     df['u_out_diff3'] = df['u_out'] - df['u_out_lag3']\n",
        "#     df['u_in_diff4'] = df['u_in'] - df['u_in_lag4']\n",
        "#     df['u_out_diff4'] = df['u_out'] - df['u_out_lag4']\n",
        "#     df['cross']= df['u_in']*df['u_out']\n",
        "#     df['cross2']= df['time_step']*df['u_out']\n",
        "    \n",
        "#     df['R'] = df['R'].astype(str)\n",
        "#     df['C'] = df['C'].astype(str)\n",
        "#     df['R__C'] = df[\"R\"].astype(str) + '__' + df[\"C\"].astype(str)\n",
        "#     df = pd.get_dummies(df)\n",
        "\n",
        "# # https://www.kaggle.com/junkoda/pytorch-lstm-with-tensorflow-like-initialization/notebook\n",
        "#     # g = df.groupby('breath_id')['u_in'].apply(pd.Series)\n",
        "#     # df['ewm_u_in_mean'] = g.ewm(halflife=10).mean()\\\n",
        "#     #                        .reset_index(level=0, drop=True)\n",
        "#     # df['ewm_u_in_std'] = g.ewm(halflife=10).std()\\\n",
        "#     #                       .reset_index(level=0, drop=True)\n",
        "#     # df['ewm_u_in_corr'] = g.ewm(halflife=10).corr()\\\n",
        "#     #                        .reset_index(level=0, drop=True)\n",
        "#     # df['rolling_10_mean'] = g.rolling(window=10, min_periods=1).mean()\\\n",
        "#     #                          .reset_index(level=0, drop=True)\n",
        "#     # df['rolling_10_max'] = g.rolling(window=10, min_periods=1).max()\\\n",
        "#     #                         .reset_index(level=0, drop=True)\n",
        "#     # df['rolling_10_std'] = g.rolling(window=10, min_periods=1).std()\\\n",
        "#     #                         .reset_index(level=0, drop=True)\n",
        "\n",
        "#     # df['expand_mean'] = g.expanding(2).mean()\\\n",
        "#     #                      .reset_index(level=0, drop=True)\n",
        "#     # df['expand_max'] = g.expanding(2).max()\\\n",
        "#     #                     .reset_index(level=0, drop=True)\n",
        "#     # df['expand_std'] = g.expanding(2).std()\\\n",
        "#     #                     .reset_index(level=0, drop=True)\n",
        "#     # df = df.fillna(0)\n",
        "\n",
        "\n",
        "\n",
        "#     df.drop(['id', 'breath_id'], axis=1, inplace=True)\n",
        "#     if 'pressure' in df.columns:\n",
        "#         df.drop('pressure', axis=1, inplace=True)\n",
        "\n",
        "        \n",
        "#     return df\n",
        "\n"
      ],
      "execution_count": null,
      "outputs": []
    },
    {
      "cell_type": "code",
      "metadata": {
        "id": "ZWUjrvB_YUUp"
      },
      "source": [
        "# train = add_features(train)\n",
        "# test = add_features(test)"
      ],
      "execution_count": null,
      "outputs": []
    },
    {
      "cell_type": "markdown",
      "metadata": {
        "id": "30jDb3g7Vppi"
      },
      "source": [
        "## **[국룰 + 갓용담님버전] add_features**"
      ]
    },
    {
      "cell_type": "code",
      "metadata": {
        "id": "IqikVuFpZSDe"
      },
      "source": [
        "# ## https://www.kaggle.com/emphymachine/single-bi-lstm-model-pressure-predict-gpu-infer\n",
        "\n",
        "# def add_features(df):\n",
        "#     df['area'] = df['time_step'] * df['u_in']\n",
        "#     df['area'] = df.groupby('breath_id')['area'].cumsum()\n",
        "#     df['u_in_cumsum'] = (df['u_in']).groupby(df['breath_id']).cumsum()\n",
        "#     df['u_in_lag1'] = df.groupby('breath_id')['u_in'].shift(1)\n",
        "#     df['u_out_lag1'] = df.groupby('breath_id')['u_out'].shift(1)\n",
        "#     df['u_in_lag_back1'] = df.groupby('breath_id')['u_in'].shift(-1)\n",
        "#     df['u_out_lag_back1'] = df.groupby('breath_id')['u_out'].shift(-1)\n",
        "#     df['u_in_lag2'] = df.groupby('breath_id')['u_in'].shift(2)\n",
        "#     df['u_out_lag2'] = df.groupby('breath_id')['u_out'].shift(2)\n",
        "#     df['u_in_lag_back2'] = df.groupby('breath_id')['u_in'].shift(-2)\n",
        "#     df['u_out_lag_back2'] = df.groupby('breath_id')['u_out'].shift(-2)\n",
        "#     df['u_in_lag3'] = df.groupby('breath_id')['u_in'].shift(3)\n",
        "#     df['u_out_lag3'] = df.groupby('breath_id')['u_out'].shift(3)\n",
        "#     df['u_in_lag_back3'] = df.groupby('breath_id')['u_in'].shift(-3)\n",
        "#     df['u_out_lag_back3'] = df.groupby('breath_id')['u_out'].shift(-3)\n",
        "#     df['u_in_lag4'] = df.groupby('breath_id')['u_in'].shift(4)\n",
        "#     df['u_out_lag4'] = df.groupby('breath_id')['u_out'].shift(4)\n",
        "#     df['u_in_lag_back4'] = df.groupby('breath_id')['u_in'].shift(-4)\n",
        "#     df['u_out_lag_back4'] = df.groupby('breath_id')['u_out'].shift(-4)\n",
        "#     df = df.fillna(0)\n",
        "#     df['breath_id__u_in__max'] = df.groupby(['breath_id'])['u_in'].transform('max')\n",
        "#     df['breath_id__u_out__max'] = df.groupby(['breath_id'])['u_out'].transform('max')\n",
        "#     df['u_in_diff1'] = df['u_in'] - df['u_in_lag1']\n",
        "#     df['u_out_diff1'] = df['u_out'] - df['u_out_lag1']\n",
        "#     df['u_in_diff2'] = df['u_in'] - df['u_in_lag2']\n",
        "#     df['u_out_diff2'] = df['u_out'] - df['u_out_lag2']\n",
        "#     df['breath_id__u_in__diffmax'] = df.groupby(['breath_id'])['u_in'].transform('max') - df['u_in']\n",
        "#     df['breath_id__u_in__diffmean'] = df.groupby(['breath_id'])['u_in'].transform('mean') - df['u_in']\n",
        "#     df['breath_id__u_in__diffmax'] = df.groupby(['breath_id'])['u_in'].transform('max') - df['u_in']\n",
        "#     df['breath_id__u_in__diffmean'] = df.groupby(['breath_id'])['u_in'].transform('mean') - df['u_in']\n",
        "#     df['u_in_diff3'] = df['u_in'] - df['u_in_lag3']\n",
        "#     df['u_out_diff3'] = df['u_out'] - df['u_out_lag3']\n",
        "#     df['u_in_diff4'] = df['u_in'] - df['u_in_lag4']\n",
        "#     df['u_out_diff4'] = df['u_out'] - df['u_out_lag4']\n",
        "#     df['cross']= df['u_in']*df['u_out']\n",
        "#     df['cross2']= df['time_step']*df['u_out']\n",
        "#     df['R'] = df['R'].astype(str)\n",
        "#     df['C'] = df['C'].astype(str)\n",
        "#     df['R__C'] = df[\"R\"].astype(str) + '__' + df[\"C\"].astype(str)\n",
        "#     df = pd.get_dummies(df)\n",
        "\n",
        "\n",
        "#     df.drop(['id', 'breath_id'], axis=1, inplace=True)\n",
        "#     if 'pressure' in df.columns:\n",
        "#         df.drop('pressure', axis=1, inplace=True)\n",
        "\n",
        "\n",
        "#     return df"
      ],
      "execution_count": null,
      "outputs": []
    },
    {
      "cell_type": "markdown",
      "metadata": {
        "id": "yUDtgExWXC_l"
      },
      "source": [
        "### 필요없는 feature drop\n"
      ]
    },
    {
      "cell_type": "code",
      "metadata": {
        "colab": {
          "base_uri": "https://localhost:8080/"
        },
        "id": "gkrKQWxGW_t8",
        "outputId": "9ca2ca75-7b54-4253-d4f4-51295bcf8d4b"
      },
      "source": [
        "## target\n",
        "targets = train[['pressure']].to_numpy().reshape(-1, 80)\n",
        "targets.shape"
      ],
      "execution_count": null,
      "outputs": [
        {
          "output_type": "execute_result",
          "data": {
            "text/plain": [
              "(1280, 80)"
            ]
          },
          "metadata": {},
          "execution_count": 20
        }
      ]
    },
    {
      "cell_type": "code",
      "metadata": {
        "id": "E-xMA9JEW_q0"
      },
      "source": [
        "## train\n",
        "train.drop(['pressure', 'id', 'breath_id','one','count','breath_id_lag','breath_id_lag2','breath_id_lagsame',\n",
        "            'breath_id_lag2same'], axis=1, inplace=True)"
      ],
      "execution_count": null,
      "outputs": []
    },
    {
      "cell_type": "code",
      "metadata": {
        "colab": {
          "base_uri": "https://localhost:8080/",
          "height": 118
        },
        "id": "WSbHA0oCW_oM",
        "outputId": "cb4be309-71dd-44d4-fab9-541e06c26b21"
      },
      "source": [
        "## 확인\n",
        "print(train.shape)\n",
        "train.head(1)"
      ],
      "execution_count": null,
      "outputs": [
        {
          "output_type": "stream",
          "name": "stdout",
          "text": [
            "(102400, 73)\n"
          ]
        },
        {
          "output_type": "execute_result",
          "data": {
            "text/html": [
              "<div>\n",
              "<style scoped>\n",
              "    .dataframe tbody tr th:only-of-type {\n",
              "        vertical-align: middle;\n",
              "    }\n",
              "\n",
              "    .dataframe tbody tr th {\n",
              "        vertical-align: top;\n",
              "    }\n",
              "\n",
              "    .dataframe thead th {\n",
              "        text-align: right;\n",
              "    }\n",
              "</style>\n",
              "<table border=\"1\" class=\"dataframe\">\n",
              "  <thead>\n",
              "    <tr style=\"text-align: right;\">\n",
              "      <th></th>\n",
              "      <th>time_step</th>\n",
              "      <th>u_in</th>\n",
              "      <th>u_out</th>\n",
              "      <th>cross</th>\n",
              "      <th>cross2</th>\n",
              "      <th>area</th>\n",
              "      <th>time_step_cumsum</th>\n",
              "      <th>u_in_cumsum</th>\n",
              "      <th>u_in_lag1</th>\n",
              "      <th>u_out_lag1</th>\n",
              "      <th>u_in_lag_back1</th>\n",
              "      <th>u_out_lag_back1</th>\n",
              "      <th>u_in_lag2</th>\n",
              "      <th>u_out_lag2</th>\n",
              "      <th>u_in_lag_back2</th>\n",
              "      <th>u_out_lag_back2</th>\n",
              "      <th>u_in_lag3</th>\n",
              "      <th>u_out_lag3</th>\n",
              "      <th>u_in_lag_back3</th>\n",
              "      <th>u_out_lag_back3</th>\n",
              "      <th>u_in_lag4</th>\n",
              "      <th>u_out_lag4</th>\n",
              "      <th>u_in_lag_back4</th>\n",
              "      <th>u_out_lag_back4</th>\n",
              "      <th>breath_id__u_in__max</th>\n",
              "      <th>breath_id__u_in__mean</th>\n",
              "      <th>breath_id__u_in__diffmax</th>\n",
              "      <th>breath_id__u_in__diffmean</th>\n",
              "      <th>u_in_diff1</th>\n",
              "      <th>u_out_diff1</th>\n",
              "      <th>u_in_diff2</th>\n",
              "      <th>u_out_diff2</th>\n",
              "      <th>u_in_diff3</th>\n",
              "      <th>u_out_diff3</th>\n",
              "      <th>u_in_diff4</th>\n",
              "      <th>u_out_diff4</th>\n",
              "      <th>u_in_cummean</th>\n",
              "      <th>breath_id__u_in_lag</th>\n",
              "      <th>breath_id__u_in_lag2</th>\n",
              "      <th>time_step_diff</th>\n",
              "      <th>ewm_u_in_mean</th>\n",
              "      <th>ewm_u_in_std</th>\n",
              "      <th>ewm_u_in_corr</th>\n",
              "      <th>rolling_10_mean</th>\n",
              "      <th>rolling_10_max</th>\n",
              "      <th>rolling_10_std</th>\n",
              "      <th>expand_mean</th>\n",
              "      <th>expand_max</th>\n",
              "      <th>expand_std</th>\n",
              "      <th>R_new</th>\n",
              "      <th>15_in_sum</th>\n",
              "      <th>15_in_min</th>\n",
              "      <th>15_in_max</th>\n",
              "      <th>15_in_mean</th>\n",
              "      <th>u_in_lagback_diff1</th>\n",
              "      <th>u_out_lagback_diff1</th>\n",
              "      <th>u_in_lagback_diff2</th>\n",
              "      <th>u_out_lagback_diff2</th>\n",
              "      <th>R_20</th>\n",
              "      <th>R_5</th>\n",
              "      <th>R_50</th>\n",
              "      <th>C_10</th>\n",
              "      <th>C_20</th>\n",
              "      <th>C_50</th>\n",
              "      <th>R__C_20__10</th>\n",
              "      <th>R__C_20__20</th>\n",
              "      <th>R__C_20__50</th>\n",
              "      <th>R__C_50__10</th>\n",
              "      <th>R__C_50__20</th>\n",
              "      <th>R__C_50__50</th>\n",
              "      <th>R__C_5__10</th>\n",
              "      <th>R__C_5__20</th>\n",
              "      <th>R__C_5__50</th>\n",
              "    </tr>\n",
              "  </thead>\n",
              "  <tbody>\n",
              "    <tr>\n",
              "      <th>0</th>\n",
              "      <td>0.0</td>\n",
              "      <td>0.083313</td>\n",
              "      <td>0</td>\n",
              "      <td>0.0</td>\n",
              "      <td>0.0</td>\n",
              "      <td>0.0</td>\n",
              "      <td>0.0</td>\n",
              "      <td>0.083313</td>\n",
              "      <td>0.0</td>\n",
              "      <td>0.0</td>\n",
              "      <td>18.390625</td>\n",
              "      <td>0.0</td>\n",
              "      <td>0.0</td>\n",
              "      <td>0.0</td>\n",
              "      <td>22.515625</td>\n",
              "      <td>0.0</td>\n",
              "      <td>0.0</td>\n",
              "      <td>0.0</td>\n",
              "      <td>22.8125</td>\n",
              "      <td>0.0</td>\n",
              "      <td>0.0</td>\n",
              "      <td>0.0</td>\n",
              "      <td>25.359375</td>\n",
              "      <td>0.0</td>\n",
              "      <td>28.3125</td>\n",
              "      <td>10.148438</td>\n",
              "      <td>28.234375</td>\n",
              "      <td>10.0625</td>\n",
              "      <td>0.083313</td>\n",
              "      <td>0.0</td>\n",
              "      <td>0.083313</td>\n",
              "      <td>0.0</td>\n",
              "      <td>0.083313</td>\n",
              "      <td>0.0</td>\n",
              "      <td>0.083313</td>\n",
              "      <td>0.0</td>\n",
              "      <td>0.083313</td>\n",
              "      <td>0.0</td>\n",
              "      <td>0.0</td>\n",
              "      <td>0.0</td>\n",
              "      <td>0.083313</td>\n",
              "      <td>NaN</td>\n",
              "      <td>NaN</td>\n",
              "      <td>0.083313</td>\n",
              "      <td>0.083313</td>\n",
              "      <td>NaN</td>\n",
              "      <td>NaN</td>\n",
              "      <td>NaN</td>\n",
              "      <td>NaN</td>\n",
              "      <td>0.000006</td>\n",
              "      <td>0.083313</td>\n",
              "      <td>0.083313</td>\n",
              "      <td>0.083313</td>\n",
              "      <td>0.083313</td>\n",
              "      <td>-18.296875</td>\n",
              "      <td>0.0</td>\n",
              "      <td>-22.421875</td>\n",
              "      <td>0.0</td>\n",
              "      <td>1</td>\n",
              "      <td>0</td>\n",
              "      <td>0</td>\n",
              "      <td>0</td>\n",
              "      <td>0</td>\n",
              "      <td>1</td>\n",
              "      <td>0</td>\n",
              "      <td>0</td>\n",
              "      <td>1</td>\n",
              "      <td>0</td>\n",
              "      <td>0</td>\n",
              "      <td>0</td>\n",
              "      <td>0</td>\n",
              "      <td>0</td>\n",
              "      <td>0</td>\n",
              "    </tr>\n",
              "  </tbody>\n",
              "</table>\n",
              "</div>"
            ],
            "text/plain": [
              "   time_step      u_in  u_out  ...  R__C_5__10  R__C_5__20  R__C_5__50\n",
              "0        0.0  0.083313      0  ...           0           0           0\n",
              "\n",
              "[1 rows x 73 columns]"
            ]
          },
          "metadata": {},
          "execution_count": 22
        }
      ]
    },
    {
      "cell_type": "code",
      "metadata": {
        "id": "3mNbOo7pW_ll"
      },
      "source": [
        "## Test\n",
        "test = test.drop(['id', 'breath_id','one','count','breath_id_lag','breath_id_lag2','breath_id_lagsame',\n",
        "                  'breath_id_lag2same'], axis=1)"
      ],
      "execution_count": null,
      "outputs": []
    },
    {
      "cell_type": "code",
      "metadata": {
        "colab": {
          "base_uri": "https://localhost:8080/",
          "height": 118
        },
        "id": "7HRoc2s-W_iv",
        "outputId": "a22b3fb9-7995-46e8-da37-8b7e99fadd18"
      },
      "source": [
        "## 확인\n",
        "print(test.shape)\n",
        "test.head(1)"
      ],
      "execution_count": null,
      "outputs": [
        {
          "output_type": "stream",
          "name": "stdout",
          "text": [
            "(102400, 73)\n"
          ]
        },
        {
          "output_type": "execute_result",
          "data": {
            "text/html": [
              "<div>\n",
              "<style scoped>\n",
              "    .dataframe tbody tr th:only-of-type {\n",
              "        vertical-align: middle;\n",
              "    }\n",
              "\n",
              "    .dataframe tbody tr th {\n",
              "        vertical-align: top;\n",
              "    }\n",
              "\n",
              "    .dataframe thead th {\n",
              "        text-align: right;\n",
              "    }\n",
              "</style>\n",
              "<table border=\"1\" class=\"dataframe\">\n",
              "  <thead>\n",
              "    <tr style=\"text-align: right;\">\n",
              "      <th></th>\n",
              "      <th>time_step</th>\n",
              "      <th>u_in</th>\n",
              "      <th>u_out</th>\n",
              "      <th>cross</th>\n",
              "      <th>cross2</th>\n",
              "      <th>area</th>\n",
              "      <th>time_step_cumsum</th>\n",
              "      <th>u_in_cumsum</th>\n",
              "      <th>u_in_lag1</th>\n",
              "      <th>u_out_lag1</th>\n",
              "      <th>u_in_lag_back1</th>\n",
              "      <th>u_out_lag_back1</th>\n",
              "      <th>u_in_lag2</th>\n",
              "      <th>u_out_lag2</th>\n",
              "      <th>u_in_lag_back2</th>\n",
              "      <th>u_out_lag_back2</th>\n",
              "      <th>u_in_lag3</th>\n",
              "      <th>u_out_lag3</th>\n",
              "      <th>u_in_lag_back3</th>\n",
              "      <th>u_out_lag_back3</th>\n",
              "      <th>u_in_lag4</th>\n",
              "      <th>u_out_lag4</th>\n",
              "      <th>u_in_lag_back4</th>\n",
              "      <th>u_out_lag_back4</th>\n",
              "      <th>breath_id__u_in__max</th>\n",
              "      <th>breath_id__u_in__mean</th>\n",
              "      <th>breath_id__u_in__diffmax</th>\n",
              "      <th>breath_id__u_in__diffmean</th>\n",
              "      <th>u_in_diff1</th>\n",
              "      <th>u_out_diff1</th>\n",
              "      <th>u_in_diff2</th>\n",
              "      <th>u_out_diff2</th>\n",
              "      <th>u_in_diff3</th>\n",
              "      <th>u_out_diff3</th>\n",
              "      <th>u_in_diff4</th>\n",
              "      <th>u_out_diff4</th>\n",
              "      <th>u_in_cummean</th>\n",
              "      <th>breath_id__u_in_lag</th>\n",
              "      <th>breath_id__u_in_lag2</th>\n",
              "      <th>time_step_diff</th>\n",
              "      <th>ewm_u_in_mean</th>\n",
              "      <th>ewm_u_in_std</th>\n",
              "      <th>ewm_u_in_corr</th>\n",
              "      <th>rolling_10_mean</th>\n",
              "      <th>rolling_10_max</th>\n",
              "      <th>rolling_10_std</th>\n",
              "      <th>expand_mean</th>\n",
              "      <th>expand_max</th>\n",
              "      <th>expand_std</th>\n",
              "      <th>R_new</th>\n",
              "      <th>15_in_sum</th>\n",
              "      <th>15_in_min</th>\n",
              "      <th>15_in_max</th>\n",
              "      <th>15_in_mean</th>\n",
              "      <th>u_in_lagback_diff1</th>\n",
              "      <th>u_out_lagback_diff1</th>\n",
              "      <th>u_in_lagback_diff2</th>\n",
              "      <th>u_out_lagback_diff2</th>\n",
              "      <th>R_20</th>\n",
              "      <th>R_5</th>\n",
              "      <th>R_50</th>\n",
              "      <th>C_10</th>\n",
              "      <th>C_20</th>\n",
              "      <th>C_50</th>\n",
              "      <th>R__C_20__10</th>\n",
              "      <th>R__C_20__20</th>\n",
              "      <th>R__C_20__50</th>\n",
              "      <th>R__C_50__10</th>\n",
              "      <th>R__C_50__20</th>\n",
              "      <th>R__C_50__50</th>\n",
              "      <th>R__C_5__10</th>\n",
              "      <th>R__C_5__20</th>\n",
              "      <th>R__C_5__50</th>\n",
              "    </tr>\n",
              "  </thead>\n",
              "  <tbody>\n",
              "    <tr>\n",
              "      <th>0</th>\n",
              "      <td>0.0</td>\n",
              "      <td>0.0</td>\n",
              "      <td>0</td>\n",
              "      <td>0.0</td>\n",
              "      <td>0.0</td>\n",
              "      <td>0.0</td>\n",
              "      <td>0.0</td>\n",
              "      <td>0.0</td>\n",
              "      <td>0.0</td>\n",
              "      <td>0.0</td>\n",
              "      <td>7.515625</td>\n",
              "      <td>0.0</td>\n",
              "      <td>0.0</td>\n",
              "      <td>0.0</td>\n",
              "      <td>14.648438</td>\n",
              "      <td>0.0</td>\n",
              "      <td>0.0</td>\n",
              "      <td>0.0</td>\n",
              "      <td>21.234375</td>\n",
              "      <td>0.0</td>\n",
              "      <td>0.0</td>\n",
              "      <td>0.0</td>\n",
              "      <td>26.328125</td>\n",
              "      <td>0.0</td>\n",
              "      <td>37.53125</td>\n",
              "      <td>9.328125</td>\n",
              "      <td>37.53125</td>\n",
              "      <td>9.328125</td>\n",
              "      <td>0.0</td>\n",
              "      <td>0.0</td>\n",
              "      <td>0.0</td>\n",
              "      <td>0.0</td>\n",
              "      <td>0.0</td>\n",
              "      <td>0.0</td>\n",
              "      <td>0.0</td>\n",
              "      <td>0.0</td>\n",
              "      <td>0.0</td>\n",
              "      <td>0.0</td>\n",
              "      <td>0.0</td>\n",
              "      <td>0.0</td>\n",
              "      <td>0.0</td>\n",
              "      <td>NaN</td>\n",
              "      <td>NaN</td>\n",
              "      <td>0.0</td>\n",
              "      <td>0.0</td>\n",
              "      <td>NaN</td>\n",
              "      <td>NaN</td>\n",
              "      <td>NaN</td>\n",
              "      <td>NaN</td>\n",
              "      <td>0.0016</td>\n",
              "      <td>0.0</td>\n",
              "      <td>0.0</td>\n",
              "      <td>0.0</td>\n",
              "      <td>0.0</td>\n",
              "      <td>-7.515625</td>\n",
              "      <td>0.0</td>\n",
              "      <td>-14.648438</td>\n",
              "      <td>0.0</td>\n",
              "      <td>0</td>\n",
              "      <td>1</td>\n",
              "      <td>0</td>\n",
              "      <td>0</td>\n",
              "      <td>1</td>\n",
              "      <td>0</td>\n",
              "      <td>0</td>\n",
              "      <td>0</td>\n",
              "      <td>0</td>\n",
              "      <td>0</td>\n",
              "      <td>0</td>\n",
              "      <td>0</td>\n",
              "      <td>0</td>\n",
              "      <td>1</td>\n",
              "      <td>0</td>\n",
              "    </tr>\n",
              "  </tbody>\n",
              "</table>\n",
              "</div>"
            ],
            "text/plain": [
              "   time_step  u_in  u_out  ...  R__C_5__10  R__C_5__20  R__C_5__50\n",
              "0        0.0   0.0      0  ...           0           1           0\n",
              "\n",
              "[1 rows x 73 columns]"
            ]
          },
          "metadata": {},
          "execution_count": 24
        }
      ]
    },
    {
      "cell_type": "markdown",
      "metadata": {
        "id": "OZMg2_85X_xb"
      },
      "source": [
        "## scaler"
      ]
    },
    {
      "cell_type": "code",
      "metadata": {
        "id": "gKtYKgJvW_gH"
      },
      "source": [
        "sc = RobustScaler()\n",
        "train = sc.fit_transform(train)\n",
        "test = sc.transform(test) ## np.ndarray"
      ],
      "execution_count": null,
      "outputs": []
    },
    {
      "cell_type": "code",
      "metadata": {
        "colab": {
          "base_uri": "https://localhost:8080/"
        },
        "id": "5CYEhXfsW_dS",
        "outputId": "89624da9-a3b1-44a1-cec9-89d4639ef72e"
      },
      "source": [
        "train = train.reshape(-1, 80, train.shape[-1])\n",
        "train.shape"
      ],
      "execution_count": null,
      "outputs": [
        {
          "output_type": "execute_result",
          "data": {
            "text/plain": [
              "(1280, 80, 73)"
            ]
          },
          "metadata": {},
          "execution_count": 26
        }
      ]
    },
    {
      "cell_type": "code",
      "metadata": {
        "id": "iMMRNUZ6ZRvm",
        "colab": {
          "base_uri": "https://localhost:8080/"
        },
        "outputId": "68e29769-3515-44ab-87e5-9bccb0b62295"
      },
      "source": [
        "test = test.reshape(-1, 80, train.shape[-1])\n",
        "test.shape"
      ],
      "execution_count": null,
      "outputs": [
        {
          "output_type": "execute_result",
          "data": {
            "text/plain": [
              "(1280, 80, 73)"
            ]
          },
          "metadata": {},
          "execution_count": 27
        }
      ]
    },
    {
      "cell_type": "code",
      "metadata": {
        "colab": {
          "base_uri": "https://localhost:8080/"
        },
        "id": "O7rrQ8lgYmX_",
        "outputId": "e4bdb03c-6539-4e83-9232-b7cba6a8d898"
      },
      "source": [
        "targets.shape"
      ],
      "execution_count": null,
      "outputs": [
        {
          "output_type": "execute_result",
          "data": {
            "text/plain": [
              "(1280, 80)"
            ]
          },
          "metadata": {},
          "execution_count": 28
        }
      ]
    },
    {
      "cell_type": "code",
      "metadata": {
        "id": "4y89hqB4aW7v"
      },
      "source": [
        "# test.shape[-2:]"
      ],
      "execution_count": null,
      "outputs": []
    },
    {
      "cell_type": "code",
      "metadata": {
        "colab": {
          "base_uri": "https://localhost:8080/"
        },
        "id": "OlQYUUZSaW3j",
        "outputId": "286185cd-6045-4a61-be56-ee4dd1fae70a"
      },
      "source": [
        "pressure = targets.squeeze().reshape(-1, 1).astype('float32')\n",
        "\n",
        "P_MIN = np.min(pressure)\n",
        "P_MAX = np.max(pressure)\n",
        "P_STEP = (pressure[1] -  pressure[0])[0]\n",
        "\n",
        "print(f\"MIN Pressure: {P_MIN}\")\n",
        "print(f\"MAX Pressure: {P_MAX}\")\n",
        "print(f\"Pressure step: {P_STEP}\")\n",
        "print(f\"Unique Values: {np.unique(pressure).shape[0]}\")"
      ],
      "execution_count": null,
      "outputs": [
        {
          "output_type": "stream",
          "name": "stdout",
          "text": [
            "MIN Pressure: -1.8955078125\n",
            "MAX Pressure: 64.8125\n",
            "Pressure step: 0.0703125\n",
            "Unique Values: 806\n"
          ]
        }
      ]
    },
    {
      "cell_type": "code",
      "metadata": {
        "id": "rBYTCs_XaW0-"
      },
      "source": [
        "del pressure"
      ],
      "execution_count": null,
      "outputs": []
    },
    {
      "cell_type": "code",
      "metadata": {
        "colab": {
          "base_uri": "https://localhost:8080/"
        },
        "id": "psVHX2WnaWyI",
        "outputId": "15762b4e-c750-4e3b-e3b8-a9fd06aa5ae6"
      },
      "source": [
        "gc.collect()"
      ],
      "execution_count": null,
      "outputs": [
        {
          "output_type": "execute_result",
          "data": {
            "text/plain": [
              "202"
            ]
          },
          "metadata": {},
          "execution_count": 32
        }
      ]
    },
    {
      "cell_type": "markdown",
      "metadata": {
        "id": "mnl6I8Q1bNyg"
      },
      "source": [
        "## TPU or NOT?"
      ]
    },
    {
      "cell_type": "code",
      "metadata": {
        "colab": {
          "base_uri": "https://localhost:8080/"
        },
        "id": "GAqB5fVfaWvO",
        "outputId": "7ca844e9-4505-4842-bd4a-1100bcb873ef"
      },
      "source": [
        "try:\n",
        "    tpu = tf.distribute.cluster_resolver.TPUClusterResolver()\n",
        "    tf.config.experimental_connect_to_cluster(tpu)\n",
        "    tf.tpu.experimental.initialize_tpu_system(tpu)\n",
        "    tpu_strategy = tf.distribute.experimental.TPUStrategy(tpu)\n",
        "    BATCH_SIZE = tpu_strategy.num_replicas_in_sync * 64\n",
        "    print(\"Running on TPU:\", tpu.master())\n",
        "    print(f\"Batch Size: {BATCH_SIZE}\")\n",
        "    \n",
        "except ValueError:\n",
        "    strategy = tf.distribute.get_strategy()\n",
        "    BATCH_SIZE = 512\n",
        "    print(f\"Running on {strategy.num_replicas_in_sync} replicas\")\n",
        "    print(f\"Batch Size: {BATCH_SIZE}\")"
      ],
      "execution_count": null,
      "outputs": [
        {
          "output_type": "stream",
          "name": "stdout",
          "text": [
            "INFO:tensorflow:Clearing out eager caches\n"
          ]
        },
        {
          "output_type": "stream",
          "name": "stderr",
          "text": [
            "INFO:tensorflow:Clearing out eager caches\n"
          ]
        },
        {
          "output_type": "stream",
          "name": "stdout",
          "text": [
            "INFO:tensorflow:Initializing the TPU system: grpc://10.103.90.162:8470\n"
          ]
        },
        {
          "output_type": "stream",
          "name": "stderr",
          "text": [
            "INFO:tensorflow:Initializing the TPU system: grpc://10.103.90.162:8470\n"
          ]
        },
        {
          "output_type": "stream",
          "name": "stdout",
          "text": [
            "INFO:tensorflow:Finished initializing TPU system.\n"
          ]
        },
        {
          "output_type": "stream",
          "name": "stderr",
          "text": [
            "INFO:tensorflow:Finished initializing TPU system.\n",
            "WARNING:absl:`tf.distribute.experimental.TPUStrategy` is deprecated, please use  the non experimental symbol `tf.distribute.TPUStrategy` instead.\n"
          ]
        },
        {
          "output_type": "stream",
          "name": "stdout",
          "text": [
            "INFO:tensorflow:Found TPU system:\n"
          ]
        },
        {
          "output_type": "stream",
          "name": "stderr",
          "text": [
            "INFO:tensorflow:Found TPU system:\n"
          ]
        },
        {
          "output_type": "stream",
          "name": "stdout",
          "text": [
            "INFO:tensorflow:*** Num TPU Cores: 8\n"
          ]
        },
        {
          "output_type": "stream",
          "name": "stderr",
          "text": [
            "INFO:tensorflow:*** Num TPU Cores: 8\n"
          ]
        },
        {
          "output_type": "stream",
          "name": "stdout",
          "text": [
            "INFO:tensorflow:*** Num TPU Workers: 1\n"
          ]
        },
        {
          "output_type": "stream",
          "name": "stderr",
          "text": [
            "INFO:tensorflow:*** Num TPU Workers: 1\n"
          ]
        },
        {
          "output_type": "stream",
          "name": "stdout",
          "text": [
            "INFO:tensorflow:*** Num TPU Cores Per Worker: 8\n"
          ]
        },
        {
          "output_type": "stream",
          "name": "stderr",
          "text": [
            "INFO:tensorflow:*** Num TPU Cores Per Worker: 8\n"
          ]
        },
        {
          "output_type": "stream",
          "name": "stdout",
          "text": [
            "INFO:tensorflow:*** Available Device: _DeviceAttributes(/job:localhost/replica:0/task:0/device:CPU:0, CPU, 0, 0)\n"
          ]
        },
        {
          "output_type": "stream",
          "name": "stderr",
          "text": [
            "INFO:tensorflow:*** Available Device: _DeviceAttributes(/job:localhost/replica:0/task:0/device:CPU:0, CPU, 0, 0)\n"
          ]
        },
        {
          "output_type": "stream",
          "name": "stdout",
          "text": [
            "INFO:tensorflow:*** Available Device: _DeviceAttributes(/job:worker/replica:0/task:0/device:CPU:0, CPU, 0, 0)\n"
          ]
        },
        {
          "output_type": "stream",
          "name": "stderr",
          "text": [
            "INFO:tensorflow:*** Available Device: _DeviceAttributes(/job:worker/replica:0/task:0/device:CPU:0, CPU, 0, 0)\n"
          ]
        },
        {
          "output_type": "stream",
          "name": "stdout",
          "text": [
            "INFO:tensorflow:*** Available Device: _DeviceAttributes(/job:worker/replica:0/task:0/device:TPU:0, TPU, 0, 0)\n"
          ]
        },
        {
          "output_type": "stream",
          "name": "stderr",
          "text": [
            "INFO:tensorflow:*** Available Device: _DeviceAttributes(/job:worker/replica:0/task:0/device:TPU:0, TPU, 0, 0)\n"
          ]
        },
        {
          "output_type": "stream",
          "name": "stdout",
          "text": [
            "INFO:tensorflow:*** Available Device: _DeviceAttributes(/job:worker/replica:0/task:0/device:TPU:1, TPU, 0, 0)\n"
          ]
        },
        {
          "output_type": "stream",
          "name": "stderr",
          "text": [
            "INFO:tensorflow:*** Available Device: _DeviceAttributes(/job:worker/replica:0/task:0/device:TPU:1, TPU, 0, 0)\n"
          ]
        },
        {
          "output_type": "stream",
          "name": "stdout",
          "text": [
            "INFO:tensorflow:*** Available Device: _DeviceAttributes(/job:worker/replica:0/task:0/device:TPU:2, TPU, 0, 0)\n"
          ]
        },
        {
          "output_type": "stream",
          "name": "stderr",
          "text": [
            "INFO:tensorflow:*** Available Device: _DeviceAttributes(/job:worker/replica:0/task:0/device:TPU:2, TPU, 0, 0)\n"
          ]
        },
        {
          "output_type": "stream",
          "name": "stdout",
          "text": [
            "INFO:tensorflow:*** Available Device: _DeviceAttributes(/job:worker/replica:0/task:0/device:TPU:3, TPU, 0, 0)\n"
          ]
        },
        {
          "output_type": "stream",
          "name": "stderr",
          "text": [
            "INFO:tensorflow:*** Available Device: _DeviceAttributes(/job:worker/replica:0/task:0/device:TPU:3, TPU, 0, 0)\n"
          ]
        },
        {
          "output_type": "stream",
          "name": "stdout",
          "text": [
            "INFO:tensorflow:*** Available Device: _DeviceAttributes(/job:worker/replica:0/task:0/device:TPU:4, TPU, 0, 0)\n"
          ]
        },
        {
          "output_type": "stream",
          "name": "stderr",
          "text": [
            "INFO:tensorflow:*** Available Device: _DeviceAttributes(/job:worker/replica:0/task:0/device:TPU:4, TPU, 0, 0)\n"
          ]
        },
        {
          "output_type": "stream",
          "name": "stdout",
          "text": [
            "INFO:tensorflow:*** Available Device: _DeviceAttributes(/job:worker/replica:0/task:0/device:TPU:5, TPU, 0, 0)\n"
          ]
        },
        {
          "output_type": "stream",
          "name": "stderr",
          "text": [
            "INFO:tensorflow:*** Available Device: _DeviceAttributes(/job:worker/replica:0/task:0/device:TPU:5, TPU, 0, 0)\n"
          ]
        },
        {
          "output_type": "stream",
          "name": "stdout",
          "text": [
            "INFO:tensorflow:*** Available Device: _DeviceAttributes(/job:worker/replica:0/task:0/device:TPU:6, TPU, 0, 0)\n"
          ]
        },
        {
          "output_type": "stream",
          "name": "stderr",
          "text": [
            "INFO:tensorflow:*** Available Device: _DeviceAttributes(/job:worker/replica:0/task:0/device:TPU:6, TPU, 0, 0)\n"
          ]
        },
        {
          "output_type": "stream",
          "name": "stdout",
          "text": [
            "INFO:tensorflow:*** Available Device: _DeviceAttributes(/job:worker/replica:0/task:0/device:TPU:7, TPU, 0, 0)\n"
          ]
        },
        {
          "output_type": "stream",
          "name": "stderr",
          "text": [
            "INFO:tensorflow:*** Available Device: _DeviceAttributes(/job:worker/replica:0/task:0/device:TPU:7, TPU, 0, 0)\n"
          ]
        },
        {
          "output_type": "stream",
          "name": "stdout",
          "text": [
            "INFO:tensorflow:*** Available Device: _DeviceAttributes(/job:worker/replica:0/task:0/device:TPU_SYSTEM:0, TPU_SYSTEM, 0, 0)\n"
          ]
        },
        {
          "output_type": "stream",
          "name": "stderr",
          "text": [
            "INFO:tensorflow:*** Available Device: _DeviceAttributes(/job:worker/replica:0/task:0/device:TPU_SYSTEM:0, TPU_SYSTEM, 0, 0)\n"
          ]
        },
        {
          "output_type": "stream",
          "name": "stdout",
          "text": [
            "INFO:tensorflow:*** Available Device: _DeviceAttributes(/job:worker/replica:0/task:0/device:XLA_CPU:0, XLA_CPU, 0, 0)\n"
          ]
        },
        {
          "output_type": "stream",
          "name": "stderr",
          "text": [
            "INFO:tensorflow:*** Available Device: _DeviceAttributes(/job:worker/replica:0/task:0/device:XLA_CPU:0, XLA_CPU, 0, 0)\n"
          ]
        },
        {
          "output_type": "stream",
          "name": "stdout",
          "text": [
            "Running on TPU: grpc://10.103.90.162:8470\n",
            "Batch Size: 512\n"
          ]
        }
      ]
    },
    {
      "cell_type": "markdown",
      "metadata": {
        "id": "xGrEGhwKGGVt"
      },
      "source": [
        "## Model"
      ]
    },
    {
      "cell_type": "code",
      "metadata": {
        "id": "tAvTTUJTE26T"
      },
      "source": [
        "\n",
        "def rc_to_index(r,c):\n",
        "    ## 가중치?\n",
        "    #r_map = { 5: 0, 20: 1, 50: 2}\n",
        "    #c_map = {10: 0, 20: 1, 50: 2}\n",
        "    r = (r== 5).float()*1 + (r==20).float()*2 + (r==50).float()*3\n",
        "    c = (c==10).float()*1 + (c==20).float()*2 + (c==50).float()*3\n",
        "    r = r.long()\n",
        "    c = c.long()\n",
        "    return r,c"
      ],
      "execution_count": null,
      "outputs": []
    },
    {
      "cell_type": "code",
      "metadata": {
        "colab": {
          "base_uri": "https://localhost:8080/"
        },
        "id": "FFx98zloPGL6",
        "outputId": "779c75db-210a-404e-fd2c-8945826a7aee"
      },
      "source": [
        "# train.shape\n",
        "a = Input(shape=(train.shape[-2:]))\n",
        "a"
      ],
      "execution_count": null,
      "outputs": [
        {
          "output_type": "execute_result",
          "data": {
            "text/plain": [
              "<KerasTensor: shape=(None, 80, 73) dtype=float32 (created by layer 'input_1')>"
            ]
          },
          "metadata": {},
          "execution_count": 35
        }
      ]
    },
    {
      "cell_type": "code",
      "metadata": {
        "colab": {
          "base_uri": "https://localhost:8080/"
        },
        "id": "fJGgo5yvZ172",
        "outputId": "7dd7237c-bd66-498e-f67f-2e73bde1529b"
      },
      "source": [
        "train.shape"
      ],
      "execution_count": null,
      "outputs": [
        {
          "output_type": "execute_result",
          "data": {
            "text/plain": [
              "(1280, 80, 73)"
            ]
          },
          "metadata": {},
          "execution_count": 46
        }
      ]
    },
    {
      "cell_type": "code",
      "metadata": {
        "id": "J6N1By1fZRf_"
      },
      "source": [
        "def d_model():\n",
        "    \n",
        "    x_input = Input(shape=(train.shape[-2:]))\n",
        "    ## 입력 형태: 80 * train.shape[-1]\n",
        "\n",
        "    # r_embed = Embedding(4, 2) #, padding_idx=0)\n",
        "    # c_embed = Embedding(4, 2) #, padding_idx=0)\n",
        "    #seq_embed = Sequential()\n",
        "    #seq_embed.add(Rearrange('b l d -> b d l'))\n",
        "    #seq_embed.add(Conv1D( 32, kernel_size = 5, strides=1, padding='same', activation ='selu'))\n",
        "    #seq_embed.add(Rearrange('b d l -> b l d'))\n",
        "    #seq_embed.add(LayerNormalization(32))\n",
        "    #seq_embed.add(Activation('tanh'))\n",
        "        # nn.SiLU(),\n",
        "        # nn.Dropout(0.),\n",
        "    #)\n",
        "\n",
        "    # r,c = rc_to_index(x_input[:,:,'R'],x_input[:,:,'C'])\n",
        "    # r = r_embed(r)\n",
        "    # c = c_embed(c)\n",
        "    # seq = torch.cat((r, c, x[:,:,:-2]), 2)\n",
        "    #seq = Concatenate(axis=2)(x_input[:,:,:-2])\n",
        "    #x_input2 = seq_embed(seq)\n",
        "\n",
        "\n",
        "    x1 = Bidirectional(LSTM(units = 768, return_sequences = True))(x_input)\n",
        "    x2 = Bidirectional(LSTM(units = 512, return_sequences = True))(x1)\n",
        "\n",
        "    ## z2랑\n",
        "    x3 = Bidirectional(LSTM(units = 384, return_sequences = True))(x2)\n",
        "\n",
        "    ## z3랑\n",
        "    x4 = Bidirectional(LSTM(units = 256, return_sequences = True))(x3)\n",
        "\n",
        "    ## z4랑 \n",
        "    x5 = Bidirectional(LSTM(units=128, return_sequences=True))(x4)\n",
        "    \n",
        "    z2 = Bidirectional(GRU(units=384, return_sequences=True))(x2)\n",
        "    \n",
        "    z31 = Multiply()([x3, z2])\n",
        "    z31 = BatchNormalization()(z31)\n",
        "\n",
        "    z3 = Bidirectional(GRU(units=256, return_sequences=True))(z31)\n",
        "    \n",
        "    z41 = Multiply()([x4, z3])\n",
        "    z41 = BatchNormalization()(z41)\n",
        "    \n",
        "    z4 = Bidirectional(GRU(units=128, return_sequences=True))(z41)\n",
        "    \n",
        "    z51 = Multiply()([x5, z4])\n",
        "    z51 = BatchNormalization()(z51)\n",
        "    \n",
        "    z5 = Bidirectional(GRU(units=64, return_sequences=True))(z51)\n",
        "    \n",
        "    x = Concatenate(axis=2)([x5, z2, z3, z4, z5])\n",
        "    \n",
        "    x = Dense(units=128, activation='selu')(x)\n",
        "    \n",
        "    x_output = Dense(units=1)(x)\n",
        "\n",
        "\n",
        "    model = Model(inputs=x_input, outputs=x_output, name='BLG_Model')\n",
        "\n",
        "    return model"
      ],
      "execution_count": null,
      "outputs": []
    },
    {
      "cell_type": "code",
      "metadata": {
        "colab": {
          "base_uri": "https://localhost:8080/"
        },
        "id": "42Tcm493fz8g",
        "outputId": "06cdc12f-cd45-4b2f-c008-5c6511aa0bc7"
      },
      "source": [
        "model = d_model()\n",
        "model.summary()"
      ],
      "execution_count": null,
      "outputs": [
        {
          "output_type": "stream",
          "name": "stdout",
          "text": [
            "Model: \"BLG_Model\"\n",
            "__________________________________________________________________________________________________\n",
            "Layer (type)                    Output Shape         Param #     Connected to                     \n",
            "==================================================================================================\n",
            "input_9 (InputLayer)            [(None, 80, 73)]     0                                            \n",
            "__________________________________________________________________________________________________\n",
            "bidirectional_63 (Bidirectional (None, 80, 1536)     5173248     input_9[0][0]                    \n",
            "__________________________________________________________________________________________________\n",
            "bidirectional_64 (Bidirectional (None, 80, 1024)     8392704     bidirectional_63[0][0]           \n",
            "__________________________________________________________________________________________________\n",
            "bidirectional_65 (Bidirectional (None, 80, 768)      4328448     bidirectional_64[0][0]           \n",
            "__________________________________________________________________________________________________\n",
            "bidirectional_68 (Bidirectional (None, 80, 768)      3248640     bidirectional_64[0][0]           \n",
            "__________________________________________________________________________________________________\n",
            "multiply_21 (Multiply)          (None, 80, 768)      0           bidirectional_65[0][0]           \n",
            "                                                                 bidirectional_68[0][0]           \n",
            "__________________________________________________________________________________________________\n",
            "batch_normalization_21 (BatchNo (None, 80, 768)      3072        multiply_21[0][0]                \n",
            "__________________________________________________________________________________________________\n",
            "bidirectional_66 (Bidirectional (None, 80, 512)      2099200     bidirectional_65[0][0]           \n",
            "__________________________________________________________________________________________________\n",
            "bidirectional_69 (Bidirectional (None, 80, 512)      1575936     batch_normalization_21[0][0]     \n",
            "__________________________________________________________________________________________________\n",
            "multiply_22 (Multiply)          (None, 80, 512)      0           bidirectional_66[0][0]           \n",
            "                                                                 bidirectional_69[0][0]           \n",
            "__________________________________________________________________________________________________\n",
            "batch_normalization_22 (BatchNo (None, 80, 512)      2048        multiply_22[0][0]                \n",
            "__________________________________________________________________________________________________\n",
            "bidirectional_67 (Bidirectional (None, 80, 256)      656384      bidirectional_66[0][0]           \n",
            "__________________________________________________________________________________________________\n",
            "bidirectional_70 (Bidirectional (None, 80, 256)      493056      batch_normalization_22[0][0]     \n",
            "__________________________________________________________________________________________________\n",
            "multiply_23 (Multiply)          (None, 80, 256)      0           bidirectional_67[0][0]           \n",
            "                                                                 bidirectional_70[0][0]           \n",
            "__________________________________________________________________________________________________\n",
            "batch_normalization_23 (BatchNo (None, 80, 256)      1024        multiply_23[0][0]                \n",
            "__________________________________________________________________________________________________\n",
            "bidirectional_71 (Bidirectional (None, 80, 128)      123648      batch_normalization_23[0][0]     \n",
            "__________________________________________________________________________________________________\n",
            "concatenate_7 (Concatenate)     (None, 80, 1920)     0           bidirectional_67[0][0]           \n",
            "                                                                 bidirectional_68[0][0]           \n",
            "                                                                 bidirectional_69[0][0]           \n",
            "                                                                 bidirectional_70[0][0]           \n",
            "                                                                 bidirectional_71[0][0]           \n",
            "__________________________________________________________________________________________________\n",
            "dense_14 (Dense)                (None, 80, 128)      245888      concatenate_7[0][0]              \n",
            "__________________________________________________________________________________________________\n",
            "dense_15 (Dense)                (None, 80, 1)        129         dense_14[0][0]                   \n",
            "==================================================================================================\n",
            "Total params: 26,343,425\n",
            "Trainable params: 26,340,353\n",
            "Non-trainable params: 3,072\n",
            "__________________________________________________________________________________________________\n"
          ]
        }
      ]
    },
    {
      "cell_type": "code",
      "metadata": {
        "id": "rsKLUBymS51O"
      },
      "source": [
        ""
      ],
      "execution_count": null,
      "outputs": []
    },
    {
      "cell_type": "markdown",
      "metadata": {
        "id": "mEIiXZfsSu7d"
      },
      "source": [
        "## Train & Predict"
      ]
    },
    {
      "cell_type": "code",
      "metadata": {
        "id": "vqDZVzQISuut",
        "colab": {
          "base_uri": "https://localhost:8080/"
        },
        "outputId": "a31d2728-30ae-4679-d9f6-6e903e3b5846"
      },
      "source": [
        "train.shape"
      ],
      "execution_count": null,
      "outputs": [
        {
          "output_type": "execute_result",
          "data": {
            "text/plain": [
              "(1280, 80, 73)"
            ]
          },
          "metadata": {},
          "execution_count": 51
        }
      ]
    },
    {
      "cell_type": "code",
      "metadata": {
        "colab": {
          "base_uri": "https://localhost:8080/",
          "height": 457
        },
        "id": "-lRAzKJ6isfI",
        "outputId": "3237fcd1-ff61-4a6a-8b14-ef96bbc9cb26"
      },
      "source": [
        "with tpu_strategy.scope():\n",
        "    \n",
        "    VERBOSE = 0\n",
        "    test_preds = []\n",
        "    kf = KFold(n_splits=7, shuffle=True, random_state=4401)\n",
        "    \n",
        "    for fold, (train_idx, test_idx) in enumerate(kf.split(train, targets)):\n",
        "        X_train, X_valid = train[train_idx], train[test_idx]\n",
        "        y_train, y_valid = targets[train_idx], targets[test_idx]\n",
        "        \n",
        "        model = d_model()\n",
        "        model.compile(optimizer=\"adam\", loss=\"mae\")\n",
        "\n",
        "        lr = ReduceLROnPlateau(monitor=\"val_loss\", factor=0.85, \n",
        "                               patience=7, verbose=VERBOSE)\n",
        "        \n",
        "        save_locally = tf.saved_model.SaveOptions(experimental_io_device='/job:localhost')\n",
        "        chk_point = ModelCheckpoint(f'./Bidirect_LSTM_model_{fold+1}C.h5', options=save_locally, \n",
        "                                    monitor='val_loss', verbose=VERBOSE, \n",
        "                                    save_best_only=True, mode='min')\n",
        "\n",
        "        es = EarlyStopping(monitor=\"val_loss\", patience=30, \n",
        "                           verbose=VERBOSE, mode=\"min\", \n",
        "                           restore_best_weights=True)\n",
        "        \n",
        "        model.fit(X_train, y_train, \n",
        "                  validation_data=(X_valid, y_valid), \n",
        "                  epochs=400,\n",
        "                  verbose=VERBOSE,\n",
        "                  batch_size=BATCH_SIZE, \n",
        "                  callbacks=[lr, chk_point, es])\n",
        "        \n",
        "        load_locally = tf.saved_model.LoadOptions(experimental_io_device='/job:localhost')\n",
        "        model = load_model(f'./Bidirect_LSTM_model_{fold+1}C.h5', options=load_locally)\n",
        "        \n",
        "        y_true = y_valid.squeeze().reshape(-1, 1)\n",
        "        y_pred = model.predict(X_valid, batch_size=BATCH_SIZE).squeeze().reshape(-1, 1)\n",
        "        score = mean_absolute_error(y_true, y_pred)\n",
        "        print(f\"Fold-{fold+1} - Score: {score}\")\n",
        "        \n",
        "        test_preds.append(model.predict(test, batch_size=BATCH_SIZE).squeeze().reshape(-1, 1).squeeze())\n",
        "\n",
        "        if i >= 1:\n",
        "            break"
      ],
      "execution_count": null,
      "outputs": [
        {
          "output_type": "error",
          "ename": "OSError",
          "evalue": "ignored",
          "traceback": [
            "\u001b[0;31m---------------------------------------------------------------------------\u001b[0m",
            "\u001b[0;31mOSError\u001b[0m                                   Traceback (most recent call last)",
            "\u001b[0;32m<ipython-input-49-c8f39e6e4c32>\u001b[0m in \u001b[0;36m<module>\u001b[0;34m()\u001b[0m\n\u001b[1;32m     32\u001b[0m \u001b[0;34m\u001b[0m\u001b[0m\n\u001b[1;32m     33\u001b[0m         \u001b[0mload_locally\u001b[0m \u001b[0;34m=\u001b[0m \u001b[0mtf\u001b[0m\u001b[0;34m.\u001b[0m\u001b[0msaved_model\u001b[0m\u001b[0;34m.\u001b[0m\u001b[0mLoadOptions\u001b[0m\u001b[0;34m(\u001b[0m\u001b[0mexperimental_io_device\u001b[0m\u001b[0;34m=\u001b[0m\u001b[0;34m'/job:localhost'\u001b[0m\u001b[0;34m)\u001b[0m\u001b[0;34m\u001b[0m\u001b[0;34m\u001b[0m\u001b[0m\n\u001b[0;32m---> 34\u001b[0;31m         \u001b[0mmodel\u001b[0m \u001b[0;34m=\u001b[0m \u001b[0mload_model\u001b[0m\u001b[0;34m(\u001b[0m\u001b[0;34mf'./Bidirect_LSTM_model_{fold+1}C.h5'\u001b[0m\u001b[0;34m,\u001b[0m \u001b[0moptions\u001b[0m\u001b[0;34m=\u001b[0m\u001b[0mload_locally\u001b[0m\u001b[0;34m)\u001b[0m\u001b[0;34m\u001b[0m\u001b[0;34m\u001b[0m\u001b[0m\n\u001b[0m\u001b[1;32m     35\u001b[0m \u001b[0;34m\u001b[0m\u001b[0m\n\u001b[1;32m     36\u001b[0m         \u001b[0my_true\u001b[0m \u001b[0;34m=\u001b[0m \u001b[0my_valid\u001b[0m\u001b[0;34m.\u001b[0m\u001b[0msqueeze\u001b[0m\u001b[0;34m(\u001b[0m\u001b[0;34m)\u001b[0m\u001b[0;34m.\u001b[0m\u001b[0mreshape\u001b[0m\u001b[0;34m(\u001b[0m\u001b[0;34m-\u001b[0m\u001b[0;36m1\u001b[0m\u001b[0;34m,\u001b[0m \u001b[0;36m1\u001b[0m\u001b[0;34m)\u001b[0m\u001b[0;34m\u001b[0m\u001b[0;34m\u001b[0m\u001b[0m\n",
            "\u001b[0;32m/usr/local/lib/python3.7/dist-packages/keras/saving/save.py\u001b[0m in \u001b[0;36mload_model\u001b[0;34m(filepath, custom_objects, compile, options)\u001b[0m\n\u001b[1;32m    203\u001b[0m         \u001b[0mfilepath\u001b[0m \u001b[0;34m=\u001b[0m \u001b[0mpath_to_string\u001b[0m\u001b[0;34m(\u001b[0m\u001b[0mfilepath\u001b[0m\u001b[0;34m)\u001b[0m\u001b[0;34m\u001b[0m\u001b[0;34m\u001b[0m\u001b[0m\n\u001b[1;32m    204\u001b[0m         \u001b[0;32mif\u001b[0m \u001b[0misinstance\u001b[0m\u001b[0;34m(\u001b[0m\u001b[0mfilepath\u001b[0m\u001b[0;34m,\u001b[0m \u001b[0mstr\u001b[0m\u001b[0;34m)\u001b[0m\u001b[0;34m:\u001b[0m\u001b[0;34m\u001b[0m\u001b[0;34m\u001b[0m\u001b[0m\n\u001b[0;32m--> 205\u001b[0;31m           \u001b[0;32mreturn\u001b[0m \u001b[0msaved_model_load\u001b[0m\u001b[0;34m.\u001b[0m\u001b[0mload\u001b[0m\u001b[0;34m(\u001b[0m\u001b[0mfilepath\u001b[0m\u001b[0;34m,\u001b[0m \u001b[0mcompile\u001b[0m\u001b[0;34m,\u001b[0m \u001b[0moptions\u001b[0m\u001b[0;34m)\u001b[0m\u001b[0;34m\u001b[0m\u001b[0;34m\u001b[0m\u001b[0m\n\u001b[0m\u001b[1;32m    206\u001b[0m \u001b[0;34m\u001b[0m\u001b[0m\n\u001b[1;32m    207\u001b[0m   raise IOError(\n",
            "\u001b[0;32m/usr/local/lib/python3.7/dist-packages/keras/saving/saved_model/load.py\u001b[0m in \u001b[0;36mload\u001b[0;34m(path, compile, options)\u001b[0m\n\u001b[1;32m    106\u001b[0m   \u001b[0;31m# Look for metadata file or parse the SavedModel\u001b[0m\u001b[0;34m\u001b[0m\u001b[0;34m\u001b[0m\u001b[0;34m\u001b[0m\u001b[0m\n\u001b[1;32m    107\u001b[0m   \u001b[0mmetadata\u001b[0m \u001b[0;34m=\u001b[0m \u001b[0msaved_metadata_pb2\u001b[0m\u001b[0;34m.\u001b[0m\u001b[0mSavedMetadata\u001b[0m\u001b[0;34m(\u001b[0m\u001b[0;34m)\u001b[0m\u001b[0;34m\u001b[0m\u001b[0;34m\u001b[0m\u001b[0m\n\u001b[0;32m--> 108\u001b[0;31m   \u001b[0mmeta_graph_def\u001b[0m \u001b[0;34m=\u001b[0m \u001b[0mtf\u001b[0m\u001b[0;34m.\u001b[0m\u001b[0m__internal__\u001b[0m\u001b[0;34m.\u001b[0m\u001b[0msaved_model\u001b[0m\u001b[0;34m.\u001b[0m\u001b[0mparse_saved_model\u001b[0m\u001b[0;34m(\u001b[0m\u001b[0mpath\u001b[0m\u001b[0;34m)\u001b[0m\u001b[0;34m.\u001b[0m\u001b[0mmeta_graphs\u001b[0m\u001b[0;34m[\u001b[0m\u001b[0;36m0\u001b[0m\u001b[0;34m]\u001b[0m\u001b[0;34m\u001b[0m\u001b[0;34m\u001b[0m\u001b[0m\n\u001b[0m\u001b[1;32m    109\u001b[0m   \u001b[0mobject_graph_def\u001b[0m \u001b[0;34m=\u001b[0m \u001b[0mmeta_graph_def\u001b[0m\u001b[0;34m.\u001b[0m\u001b[0mobject_graph_def\u001b[0m\u001b[0;34m\u001b[0m\u001b[0;34m\u001b[0m\u001b[0m\n\u001b[1;32m    110\u001b[0m   \u001b[0mpath_to_metadata_pb\u001b[0m \u001b[0;34m=\u001b[0m \u001b[0mos\u001b[0m\u001b[0;34m.\u001b[0m\u001b[0mpath\u001b[0m\u001b[0;34m.\u001b[0m\u001b[0mjoin\u001b[0m\u001b[0;34m(\u001b[0m\u001b[0mpath\u001b[0m\u001b[0;34m,\u001b[0m \u001b[0mconstants\u001b[0m\u001b[0;34m.\u001b[0m\u001b[0mSAVED_METADATA_PATH\u001b[0m\u001b[0;34m)\u001b[0m\u001b[0;34m\u001b[0m\u001b[0;34m\u001b[0m\u001b[0m\n",
            "\u001b[0;32m/usr/local/lib/python3.7/dist-packages/tensorflow/python/saved_model/loader_impl.py\u001b[0m in \u001b[0;36mparse_saved_model\u001b[0;34m(export_dir)\u001b[0m\n\u001b[1;32m    119\u001b[0m         \u001b[0;34m\"SavedModel file does not exist at: %s%s{%s|%s}\"\u001b[0m \u001b[0;34m%\u001b[0m\u001b[0;34m\u001b[0m\u001b[0;34m\u001b[0m\u001b[0m\n\u001b[1;32m    120\u001b[0m         (export_dir, os.path.sep, constants.SAVED_MODEL_FILENAME_PBTXT,\n\u001b[0;32m--> 121\u001b[0;31m          constants.SAVED_MODEL_FILENAME_PB))\n\u001b[0m\u001b[1;32m    122\u001b[0m \u001b[0;34m\u001b[0m\u001b[0m\n\u001b[1;32m    123\u001b[0m \u001b[0;34m\u001b[0m\u001b[0m\n",
            "\u001b[0;31mOSError\u001b[0m: SavedModel file does not exist at: ./Bidirect_LSTM_model_1C.h5/{saved_model.pbtxt|saved_model.pb}"
          ]
        }
      ]
    },
    {
      "cell_type": "code",
      "metadata": {
        "id": "gwjrj211Sqdb"
      },
      "source": [
        ""
      ],
      "execution_count": null,
      "outputs": []
    },
    {
      "cell_type": "markdown",
      "metadata": {
        "id": "ZDXN-ycBSxqM"
      },
      "source": [
        "## Submit"
      ]
    },
    {
      "cell_type": "code",
      "metadata": {
        "id": "DvyxzESlS1FP"
      },
      "source": [
        "base_path"
      ],
      "execution_count": null,
      "outputs": []
    },
    {
      "cell_type": "code",
      "metadata": {
        "id": "keZHNoowTJgY"
      },
      "source": [
        "sample = pd.read_csv(base_path + 'sample_submission.csv')"
      ],
      "execution_count": null,
      "outputs": []
    },
    {
      "cell_type": "code",
      "metadata": {
        "id": "XxEjvHZiTJdZ"
      },
      "source": [
        ""
      ],
      "execution_count": null,
      "outputs": []
    },
    {
      "cell_type": "code",
      "metadata": {
        "id": "JfqkXt9_iscg"
      },
      "source": [
        "sample[\"pressure\"] = np.median(np.vstack(test_preds),axis=0)\n",
        "sample[\"pressure\"] = np.round((sample.pressure - P_MIN)/P_STEP) * P_STEP + P_MIN\n",
        "sample[\"pressure\"] = np.clip(sample.pressure, P_MIN, P_MAX)\n",
        "sample.to_csv(base_path + 'blg_tpu_median_submission.csv', index=False)\n",
        "sample.to_csv(base_path + 'blg_tpu_submission.csv', index=False)"
      ],
      "execution_count": null,
      "outputs": []
    },
    {
      "cell_type": "code",
      "metadata": {
        "id": "KWBrP2NMoguf"
      },
      "source": [
        ""
      ],
      "execution_count": null,
      "outputs": []
    },
    {
      "cell_type": "code",
      "metadata": {
        "id": "CBPBrSpn_CId"
      },
      "source": [
        ""
      ],
      "execution_count": null,
      "outputs": []
    },
    {
      "cell_type": "code",
      "metadata": {
        "id": "Yd_9ra93_CFb"
      },
      "source": [
        ""
      ],
      "execution_count": null,
      "outputs": []
    },
    {
      "cell_type": "code",
      "metadata": {
        "id": "BtPzB0ue_CCc"
      },
      "source": [
        ""
      ],
      "execution_count": null,
      "outputs": []
    },
    {
      "cell_type": "code",
      "metadata": {
        "id": "5fq_blP6_B_b"
      },
      "source": [
        ""
      ],
      "execution_count": null,
      "outputs": []
    }
  ]
}
