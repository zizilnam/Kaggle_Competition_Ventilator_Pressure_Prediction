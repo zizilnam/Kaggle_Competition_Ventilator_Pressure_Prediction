{
  "nbformat": 4,
  "nbformat_minor": 0,
  "metadata": {
    "kernelspec": {
      "language": "python",
      "display_name": "Python 3",
      "name": "python3"
    },
    "language_info": {
      "pygments_lexer": "ipython3",
      "nbconvert_exporter": "python",
      "version": "3.6.4",
      "file_extension": ".py",
      "codemirror_mode": {
        "name": "ipython",
        "version": 3
      },
      "name": "python",
      "mimetype": "text/x-python"
    },
    "colab": {
      "name": "conv1d-kibae.ipynb",
      "provenance": [],
      "include_colab_link": true
    }
  },
  "cells": [
    {
      "cell_type": "markdown",
      "metadata": {
        "id": "view-in-github",
        "colab_type": "text"
      },
      "source": [
        "<a href=\"https://colab.research.google.com/github/zizilnam/Kaggle_Competition_Ventilator_Pressure_Prediction/blob/main/conv1d_kibae.ipynb\" target=\"_parent\"><img src=\"https://colab.research.google.com/assets/colab-badge.svg\" alt=\"Open In Colab\"/></a>"
      ]
    },
    {
      "cell_type": "markdown",
      "metadata": {
        "id": "TDzC8_Cyi50P"
      },
      "source": [
        "# Bi-LSTM with GRU (TPU) \n",
        " - source: https://www.kaggle.com/hrshuvo/dnn-lstm-tpu \n",
        " - just added reduce memory codes for Saving RAM"
      ]
    },
    {
      "cell_type": "code",
      "metadata": {
        "execution": {
          "iopub.status.busy": "2021-11-03T10:11:25.27582Z",
          "iopub.execute_input": "2021-11-03T10:11:25.276242Z",
          "iopub.status.idle": "2021-11-03T10:11:25.306731Z",
          "shell.execute_reply.started": "2021-11-03T10:11:25.276142Z",
          "shell.execute_reply": "2021-11-03T10:11:25.306054Z"
        },
        "trusted": true,
        "id": "S8kX9Y-si50V"
      },
      "source": [
        "## base_path \n",
        "base_path = '../input/ventilator-pressure-prediction/'"
      ],
      "execution_count": null,
      "outputs": []
    },
    {
      "cell_type": "markdown",
      "metadata": {
        "id": "92bzJMPYi50W"
      },
      "source": [
        "## Import & base_path"
      ]
    },
    {
      "cell_type": "code",
      "metadata": {
        "_uuid": "8f2839f25d086af736a60e9eeb907d3b93b6e0e5",
        "_cell_guid": "b1076dfc-b9ad-4769-8c92-a6c4dae69d19",
        "execution": {
          "iopub.status.busy": "2021-11-03T10:11:25.319153Z",
          "iopub.execute_input": "2021-11-03T10:11:25.319489Z",
          "iopub.status.idle": "2021-11-03T10:11:31.848601Z",
          "shell.execute_reply.started": "2021-11-03T10:11:25.319455Z",
          "shell.execute_reply": "2021-11-03T10:11:31.847653Z"
        },
        "trusted": true,
        "id": "Hh83_Fbzi50X"
      },
      "source": [
        "import numpy as np\n",
        "import pandas as pd\n",
        "import gc\n",
        "import os\n",
        "\n",
        "from sklearn.model_selection import KFold\n",
        "from sklearn.preprocessing import RobustScaler, normalize\n",
        "from sklearn.metrics import mean_absolute_error\n",
        "\n",
        "import tensorflow as tf\n",
        "print(tf.__version__)\n",
        "\n",
        "from tensorflow.keras.callbacks import EarlyStopping, LearningRateScheduler, ModelCheckpoint, ReduceLROnPlateau\n",
        "from tensorflow.keras.optimizers.schedules import ExponentialDecay\n",
        "from tensorflow.keras.models import Model, load_model\n",
        "from tensorflow.keras.utils import plot_model\n",
        "from tensorflow.keras.layers import Bidirectional, LSTM, Multiply, Dense, Dropout, Input, Concatenate, Add, GRU, BatchNormalization\n",
        "\n",
        "from scipy.signal import butter, filtfilt\n",
        "from pickle import dump\n",
        "\n",
        "from IPython.display import display\n",
        "from warnings import filterwarnings\n",
        "filterwarnings('ignore')\n",
        "\n"
      ],
      "execution_count": null,
      "outputs": []
    },
    {
      "cell_type": "code",
      "metadata": {
        "execution": {
          "iopub.status.busy": "2021-11-03T10:11:31.850208Z",
          "iopub.execute_input": "2021-11-03T10:11:31.850509Z",
          "iopub.status.idle": "2021-11-03T10:11:31.858366Z",
          "shell.execute_reply.started": "2021-11-03T10:11:31.850464Z",
          "shell.execute_reply": "2021-11-03T10:11:31.857726Z"
        },
        "trusted": true,
        "id": "UpmgyEk_i50Y"
      },
      "source": [
        "num_workers = os.cpu_count()\n",
        "num_workers"
      ],
      "execution_count": null,
      "outputs": []
    },
    {
      "cell_type": "markdown",
      "metadata": {
        "id": "T77ruOQYi50Z"
      },
      "source": [
        "## Data "
      ]
    },
    {
      "cell_type": "code",
      "metadata": {
        "execution": {
          "iopub.status.busy": "2021-11-03T10:11:31.859675Z",
          "iopub.execute_input": "2021-11-03T10:11:31.860129Z",
          "iopub.status.idle": "2021-11-03T10:11:47.666399Z",
          "shell.execute_reply.started": "2021-11-03T10:11:31.860097Z",
          "shell.execute_reply": "2021-11-03T10:11:47.665367Z"
        },
        "trusted": true,
        "id": "6Gp9Zsnui50a"
      },
      "source": [
        "## data\n",
        "train_org = pd.read_csv(base_path + 'train.csv')\n",
        "test_org = pd.read_csv(base_path + 'test.csv')"
      ],
      "execution_count": null,
      "outputs": []
    },
    {
      "cell_type": "markdown",
      "metadata": {
        "id": "nDatQy0ti50b"
      },
      "source": [
        "## Save RAM"
      ]
    },
    {
      "cell_type": "code",
      "metadata": {
        "execution": {
          "iopub.status.busy": "2021-11-03T10:11:47.668852Z",
          "iopub.execute_input": "2021-11-03T10:11:47.669212Z",
          "iopub.status.idle": "2021-11-03T10:11:47.684259Z",
          "shell.execute_reply.started": "2021-11-03T10:11:47.66917Z",
          "shell.execute_reply": "2021-11-03T10:11:47.683135Z"
        },
        "trusted": true,
        "id": "aOOd9TaJi50b"
      },
      "source": [
        "## save ram\n",
        "# https://www.kaggle.com/dmitryuarov/tps-soft-voting-xgb-cb-lgbm#Basic-information\n",
        "# https://www.kaggle.com/rinnqd/reduce-memory-usage\n",
        "\n",
        "def save_ram(df, verbose=True):\n",
        "    numerics = ['int16', 'int32', 'int64', 'float16', 'float32', 'float64']\n",
        "    start_mem = df.memory_usage().sum() / 1024**2\n",
        "    for col in df.columns:\n",
        "        col_type = df[col].dtypes\n",
        "        if col_type in numerics:\n",
        "            c_min = df[col].min()\n",
        "            c_max = df[col].max()\n",
        "            if str(col_type)[:3] == 'int':\n",
        "                if c_min > np.iinfo(np.int8).min and c_max < np.iinfo(np.int8).max:\n",
        "                    df[col] = df[col].astype(np.int8)\n",
        "                elif c_min > np.iinfo(np.int16).min and c_max < np.iinfo(np.int16).max:\n",
        "                    df[col] = df[col].astype(np.int16)\n",
        "                elif c_min > np.iinfo(np.int32).min and c_max < np.iinfo(np.int32).max:\n",
        "                    df[col] = df[col].astype(np.int32)\n",
        "                elif c_min > np.iinfo(np.int64).min and c_max < np.iinfo(np.int64).max:\n",
        "                    df[col] = df[col].astype(np.int64)\n",
        "            else:\n",
        "                if c_min > np.finfo(np.float16).min and c_max < np.finfo(np.float16).max:\n",
        "                    df[col] = df[col].astype(np.float16)\n",
        "                elif c_min > np.finfo(np.float32).min and c_max < np.finfo(np.float32).max:\n",
        "                    df[col] = df[col].astype(np.float32)\n",
        "                else:\n",
        "                    df[col] = df[col].astype(np.float64)\n",
        "\n",
        "    end_mem = df.memory_usage().sum() / 1024**2\n",
        "\n",
        "    print(f\"After Diet: {round(end_mem, 2)}MB\")\n",
        "    print(f\"Percentage of How much Reduced: {round(100*(start_mem - end_mem)/(start_mem), 2)}%\")\n",
        "\n",
        "    return df"
      ],
      "execution_count": null,
      "outputs": []
    },
    {
      "cell_type": "markdown",
      "metadata": {
        "id": "eqgFpI2qi50c"
      },
      "source": [
        "## add_features"
      ]
    },
    {
      "cell_type": "code",
      "metadata": {
        "execution": {
          "iopub.status.busy": "2021-11-03T10:11:47.68569Z",
          "iopub.execute_input": "2021-11-03T10:11:47.685935Z",
          "iopub.status.idle": "2021-11-03T10:11:47.718515Z",
          "shell.execute_reply.started": "2021-11-03T10:11:47.685881Z",
          "shell.execute_reply": "2021-11-03T10:11:47.717556Z"
        },
        "trusted": true,
        "id": "xqQV8Z6Oi50d"
      },
      "source": [
        "## add_features\n",
        "\n",
        "def add_features(df):\n",
        "    df['cross']= df['u_in'] * df['u_out']\n",
        "    df['cross2']= df['time_step'] * df['u_out']\n",
        "    df['area'] = df['time_step'] * df['u_in']\n",
        "    df['area'] = df.groupby('breath_id')['area'].cumsum()\n",
        "    df['time_step_cumsum'] = df.groupby(['breath_id'])['time_step'].cumsum()\n",
        "    df['u_in_cumsum'] = (df['u_in']).groupby(df['breath_id']).cumsum()\n",
        "    print(\"Step-1 Completed\")\n",
        "    \n",
        "    df['u_in_lag1'] = df.groupby('breath_id')['u_in'].shift(1)\n",
        "    df['u_out_lag1'] = df.groupby('breath_id')['u_out'].shift(1)\n",
        "    df['u_in_lag_back1'] = df.groupby('breath_id')['u_in'].shift(-1)\n",
        "    df['u_out_lag_back1'] = df.groupby('breath_id')['u_out'].shift(-1)\n",
        "    df['u_in_lag2'] = df.groupby('breath_id')['u_in'].shift(2)\n",
        "    df['u_out_lag2'] = df.groupby('breath_id')['u_out'].shift(2)\n",
        "    df['u_in_lag_back2'] = df.groupby('breath_id')['u_in'].shift(-2)\n",
        "    df['u_out_lag_back2'] = df.groupby('breath_id')['u_out'].shift(-2)\n",
        "    df['u_in_lag3'] = df.groupby('breath_id')['u_in'].shift(3)\n",
        "    df['u_out_lag3'] = df.groupby('breath_id')['u_out'].shift(3)\n",
        "    df['u_in_lag_back3'] = df.groupby('breath_id')['u_in'].shift(-3)\n",
        "    df['u_out_lag_back3'] = df.groupby('breath_id')['u_out'].shift(-3)\n",
        "    df['u_in_lag4'] = df.groupby('breath_id')['u_in'].shift(4)\n",
        "    df['u_out_lag4'] = df.groupby('breath_id')['u_out'].shift(4)\n",
        "    df['u_in_lag_back4'] = df.groupby('breath_id')['u_in'].shift(-4)\n",
        "    df['u_out_lag_back4'] = df.groupby('breath_id')['u_out'].shift(-4)\n",
        "    df = df.fillna(0)\n",
        "    print(\"Step-2 Completed\")\n",
        "\n",
        "    df['breath_id__u_in__max'] = df.groupby(['breath_id'])['u_in'].transform('max')\n",
        "    df['breath_id__u_in__mean'] = df.groupby(['breath_id'])['u_in'].transform('mean')\n",
        "    df['breath_id__u_in__diffmax'] = df.groupby(['breath_id'])['u_in'].transform('max') - df['u_in']\n",
        "    df['breath_id__u_in__diffmean'] = df.groupby(['breath_id'])['u_in'].transform('mean') - df['u_in']\n",
        "    print(\"Step-3 Completed\")\n",
        "    \n",
        "    df['u_in_diff1'] = df['u_in'] - df['u_in_lag1']\n",
        "    df['u_out_diff1'] = df['u_out'] - df['u_out_lag1']\n",
        "    df['u_in_diff2'] = df['u_in'] - df['u_in_lag2']\n",
        "    df['u_out_diff2'] = df['u_out'] - df['u_out_lag2']\n",
        "    df['u_in_diff3'] = df['u_in'] - df['u_in_lag3']\n",
        "    df['u_out_diff3'] = df['u_out'] - df['u_out_lag3']\n",
        "    df['u_in_diff4'] = df['u_in'] - df['u_in_lag4']\n",
        "    df['u_out_diff4'] = df['u_out'] - df['u_out_lag4']\n",
        "    print(\"Step-4 Completed\")\n",
        "    \n",
        "    df['one'] = 1\n",
        "    df['count'] = (df['one']).groupby(df['breath_id']).cumsum()\n",
        "    df['u_in_cummean'] =df['u_in_cumsum'] /df['count']\n",
        "\n",
        "    df['breath_id_lag']=df['breath_id'].shift(1).fillna(0)\n",
        "    df['breath_id_lag2']=df['breath_id'].shift(2).fillna(0)\n",
        "    df['breath_id_lagsame']=np.select([df['breath_id_lag']==df['breath_id']],[1],0)\n",
        "    df['breath_id_lag2same']=np.select([df['breath_id_lag2']==df['breath_id']],[1],0)\n",
        "    df['breath_id__u_in_lag'] = df['u_in'].shift(1).fillna(0)\n",
        "    df['breath_id__u_in_lag'] = df['breath_id__u_in_lag'] * df['breath_id_lagsame']\n",
        "    df['breath_id__u_in_lag2'] = df['u_in'].shift(2).fillna(0)\n",
        "    df['breath_id__u_in_lag2'] = df['breath_id__u_in_lag2'] * df['breath_id_lag2same']\n",
        "    print(\"Step-5 Completed\")\n",
        "    \n",
        "    df['time_step_diff'] = df.groupby('breath_id')['time_step'].diff().fillna(0)\n",
        "\n",
        "    g = df.groupby('breath_id')['u_in'].apply(pd.Series)\n",
        "    \n",
        "    df['ewm_u_in_mean'] = g.ewm(halflife=9).mean()\\\n",
        "                           .reset_index(level=0, drop=True)\n",
        "    \n",
        "    df[[\"15_in_sum\",\"15_in_min\",\"15_in_max\",\"15_in_mean\"]] = (df\\\n",
        "                                                              .groupby('breath_id')['u_in']\\\n",
        "                                                              .rolling(window=15,min_periods=1)\\\n",
        "                                                              .agg({\"15_in_sum\":\"sum\",\n",
        "                                                                    \"15_in_min\":\"min\",\n",
        "                                                                    \"15_in_max\":\"max\",\n",
        "                                                                    \"15_in_mean\":\"mean\"})\\\n",
        "                                                               .reset_index(level=0,drop=True))\n",
        "    print(\"Step-6 Completed\")\n",
        "    \n",
        "    df['u_in_lagback_diff1'] = df['u_in'] - df['u_in_lag_back1']\n",
        "    df['u_out_lagback_diff1'] = df['u_out'] - df['u_out_lag_back1']\n",
        "    df['u_in_lagback_diff2'] = df['u_in'] - df['u_in_lag_back2']\n",
        "    df['u_out_lagback_diff2'] = df['u_out'] - df['u_out_lag_back2']\n",
        "    print(\"Step-7 Completed\")\n",
        "\n",
        "    df['R'] = df['R'].astype(str)\n",
        "    df['C'] = df['C'].astype(str)\n",
        "    df['R__C'] = df[\"R\"].astype(str) + '__' + df[\"C\"].astype(str)\n",
        "    df = pd.get_dummies(df)\n",
        "    print(\"All Completed\")\n",
        "    \n",
        "    return df"
      ],
      "execution_count": null,
      "outputs": []
    },
    {
      "cell_type": "code",
      "metadata": {
        "execution": {
          "iopub.status.busy": "2021-11-03T10:11:47.719775Z",
          "iopub.execute_input": "2021-11-03T10:11:47.720021Z",
          "iopub.status.idle": "2021-11-03T10:14:20.880013Z",
          "shell.execute_reply.started": "2021-11-03T10:11:47.719993Z",
          "shell.execute_reply": "2021-11-03T10:14:20.879089Z"
        },
        "trusted": true,
        "id": "o9OGdoyXi50e"
      },
      "source": [
        "train = add_features(train_org)\n",
        "test  = add_features(test_org)\n",
        "\n",
        "print(train.shape, test.shape)\n",
        "del train_org, test_org"
      ],
      "execution_count": null,
      "outputs": []
    },
    {
      "cell_type": "markdown",
      "metadata": {
        "id": "ZxS4fpE4i50f"
      },
      "source": [
        "## data on diet"
      ]
    },
    {
      "cell_type": "code",
      "metadata": {
        "execution": {
          "iopub.status.busy": "2021-11-03T10:14:20.881385Z",
          "iopub.execute_input": "2021-11-03T10:14:20.883079Z",
          "iopub.status.idle": "2021-11-03T10:14:35.70659Z",
          "shell.execute_reply.started": "2021-11-03T10:14:20.88303Z",
          "shell.execute_reply": "2021-11-03T10:14:35.705673Z"
        },
        "trusted": true,
        "id": "BLyN-TGui50f"
      },
      "source": [
        "train = save_ram(train, verbose=True)"
      ],
      "execution_count": null,
      "outputs": []
    },
    {
      "cell_type": "code",
      "metadata": {
        "execution": {
          "iopub.status.busy": "2021-11-03T10:14:35.707693Z",
          "iopub.execute_input": "2021-11-03T10:14:35.707924Z",
          "iopub.status.idle": "2021-11-03T10:14:35.741693Z",
          "shell.execute_reply.started": "2021-11-03T10:14:35.707882Z",
          "shell.execute_reply": "2021-11-03T10:14:35.740839Z"
        },
        "trusted": true,
        "id": "u03bGBn9i50f"
      },
      "source": [
        "train.head()"
      ],
      "execution_count": null,
      "outputs": []
    },
    {
      "cell_type": "code",
      "metadata": {
        "execution": {
          "iopub.status.busy": "2021-11-03T10:14:35.743167Z",
          "iopub.execute_input": "2021-11-03T10:14:35.743794Z",
          "iopub.status.idle": "2021-11-03T10:14:43.989679Z",
          "shell.execute_reply.started": "2021-11-03T10:14:35.743739Z",
          "shell.execute_reply": "2021-11-03T10:14:43.988682Z"
        },
        "trusted": true,
        "id": "7zGxEjbti50g"
      },
      "source": [
        "test = save_ram(test)"
      ],
      "execution_count": null,
      "outputs": []
    },
    {
      "cell_type": "code",
      "metadata": {
        "execution": {
          "iopub.status.busy": "2021-11-03T10:14:43.992542Z",
          "iopub.execute_input": "2021-11-03T10:14:43.992798Z",
          "iopub.status.idle": "2021-11-03T10:14:44.02999Z",
          "shell.execute_reply.started": "2021-11-03T10:14:43.992766Z",
          "shell.execute_reply": "2021-11-03T10:14:44.028927Z"
        },
        "trusted": true,
        "id": "cLetJznqi50g"
      },
      "source": [
        "test.head()"
      ],
      "execution_count": null,
      "outputs": []
    },
    {
      "cell_type": "markdown",
      "metadata": {
        "id": "Lonbvkf6i50g"
      },
      "source": [
        "## Drop useless features "
      ]
    },
    {
      "cell_type": "code",
      "metadata": {
        "execution": {
          "iopub.status.busy": "2021-11-03T10:14:44.03149Z",
          "iopub.execute_input": "2021-11-03T10:14:44.03181Z",
          "iopub.status.idle": "2021-11-03T10:14:44.583141Z",
          "shell.execute_reply.started": "2021-11-03T10:14:44.031757Z",
          "shell.execute_reply": "2021-11-03T10:14:44.582209Z"
        },
        "trusted": true,
        "id": "cJ3bKCEhi50g"
      },
      "source": [
        "## target\n",
        "targets = train[['pressure']].to_numpy().reshape(-1, 80)\n",
        "targets.shape"
      ],
      "execution_count": null,
      "outputs": []
    },
    {
      "cell_type": "code",
      "metadata": {
        "execution": {
          "iopub.status.busy": "2021-11-03T10:14:44.584272Z",
          "iopub.execute_input": "2021-11-03T10:14:44.584506Z",
          "iopub.status.idle": "2021-11-03T10:14:45.770278Z",
          "shell.execute_reply.started": "2021-11-03T10:14:44.58448Z",
          "shell.execute_reply": "2021-11-03T10:14:45.769459Z"
        },
        "trusted": true,
        "id": "8nRn1ECti50h"
      },
      "source": [
        "## train\n",
        "train.drop(['pressure', 'id', 'breath_id','one','count','breath_id_lag','breath_id_lag2','breath_id_lagsame',\n",
        "            'breath_id_lag2same'], axis=1, inplace=True)"
      ],
      "execution_count": null,
      "outputs": []
    },
    {
      "cell_type": "code",
      "metadata": {
        "execution": {
          "iopub.status.busy": "2021-11-03T10:14:45.771563Z",
          "iopub.execute_input": "2021-11-03T10:14:45.771786Z",
          "iopub.status.idle": "2021-11-03T10:14:45.796324Z",
          "shell.execute_reply.started": "2021-11-03T10:14:45.771761Z",
          "shell.execute_reply": "2021-11-03T10:14:45.795291Z"
        },
        "trusted": true,
        "id": "-4lIDFHYi50h"
      },
      "source": [
        "print(train.shape)\n",
        "train.head(1)"
      ],
      "execution_count": null,
      "outputs": []
    },
    {
      "cell_type": "code",
      "metadata": {
        "execution": {
          "iopub.status.busy": "2021-11-03T10:14:45.797762Z",
          "iopub.execute_input": "2021-11-03T10:14:45.798562Z",
          "iopub.status.idle": "2021-11-03T10:14:46.908716Z",
          "shell.execute_reply.started": "2021-11-03T10:14:45.798517Z",
          "shell.execute_reply": "2021-11-03T10:14:46.907821Z"
        },
        "trusted": true,
        "id": "4mvJJrGgi50h"
      },
      "source": [
        "## Test\n",
        "test = test.drop(['id', 'breath_id','one','count','breath_id_lag','breath_id_lag2','breath_id_lagsame',\n",
        "                  'breath_id_lag2same'], axis=1)"
      ],
      "execution_count": null,
      "outputs": []
    },
    {
      "cell_type": "code",
      "metadata": {
        "execution": {
          "iopub.status.busy": "2021-11-03T10:14:46.910082Z",
          "iopub.execute_input": "2021-11-03T10:14:46.910416Z",
          "iopub.status.idle": "2021-11-03T10:14:46.934813Z",
          "shell.execute_reply.started": "2021-11-03T10:14:46.910378Z",
          "shell.execute_reply": "2021-11-03T10:14:46.933637Z"
        },
        "trusted": true,
        "id": "u-rPobnIi50i"
      },
      "source": [
        "print(test.shape)\n",
        "test.head(1)"
      ],
      "execution_count": null,
      "outputs": []
    },
    {
      "cell_type": "code",
      "metadata": {
        "execution": {
          "iopub.status.busy": "2021-11-03T10:14:46.936379Z",
          "iopub.execute_input": "2021-11-03T10:14:46.936715Z",
          "iopub.status.idle": "2021-11-03T10:14:46.941417Z",
          "shell.execute_reply.started": "2021-11-03T10:14:46.93667Z",
          "shell.execute_reply": "2021-11-03T10:14:46.940453Z"
        },
        "trusted": true,
        "id": "YkIm3DFni50j"
      },
      "source": [
        "## 출처: https://www.kaggle.com/jmcslk/hybrid-cnn-enc-dec-sample-weights"
      ],
      "execution_count": null,
      "outputs": []
    },
    {
      "cell_type": "markdown",
      "metadata": {
        "id": "zwbJH0PTi50j"
      },
      "source": [
        "## Sample Weights Code\n"
      ]
    },
    {
      "cell_type": "code",
      "metadata": {
        "execution": {
          "iopub.status.busy": "2021-11-03T10:14:46.942755Z",
          "iopub.execute_input": "2021-11-03T10:14:46.943483Z",
          "iopub.status.idle": "2021-11-03T10:14:46.98479Z",
          "shell.execute_reply.started": "2021-11-03T10:14:46.943364Z",
          "shell.execute_reply": "2021-11-03T10:14:46.983943Z"
        },
        "trusted": true,
        "id": "BJFDb6nOi50k"
      },
      "source": [
        "### SAMPLE WEIGHTS ###\n",
        "def get_sample_weight_param(train, targets, u_out_1_weight):\n",
        "    cols = train.columns.tolist()\n",
        "    u_out_index = cols.index(\"u_out\")\n",
        "    cols = cols[u_out_index]\n",
        "    x_train = train[[cols]].values.reshape((-1, 80, len([cols])))\n",
        "\n",
        "    # GET SAMPLE WEIGHT\n",
        "    U_OUT_IDX = cols.index(\"u_out\")\n",
        "    y_weight = np.ones_like(targets)\n",
        "    u_out_values = x_train[:,:,U_OUT_IDX]\n",
        "\n",
        "    #DEFINE U_out == 1 samples weights, if 1 => sampling is turned off\n",
        "    y_weight[u_out_values==1] = u_out_1_weight\n",
        "    del x_train\n",
        "    return y_weight\n",
        "\n",
        "#set True to do sample weighting during training\n",
        "do_sample_weights = True\n",
        "\n",
        "if do_sample_weights == True:\n",
        "    y_weight = get_sample_weight_param(train, targets, 0.1)\n",
        "else:\n",
        "    pass"
      ],
      "execution_count": null,
      "outputs": []
    },
    {
      "cell_type": "markdown",
      "metadata": {
        "id": "nU-ikfBmi50k"
      },
      "source": [
        "## RobustScaler "
      ]
    },
    {
      "cell_type": "code",
      "metadata": {
        "execution": {
          "iopub.status.busy": "2021-11-03T10:14:46.986147Z",
          "iopub.execute_input": "2021-11-03T10:14:46.986402Z",
          "iopub.status.idle": "2021-11-03T10:15:26.088316Z",
          "shell.execute_reply.started": "2021-11-03T10:14:46.986367Z",
          "shell.execute_reply": "2021-11-03T10:15:26.087225Z"
        },
        "trusted": true,
        "id": "mFkBYm_Yi50l"
      },
      "source": [
        "sc = RobustScaler()\n",
        "train = sc.fit_transform(train)\n",
        "test = sc.transform(test) ## np.ndarray"
      ],
      "execution_count": null,
      "outputs": []
    },
    {
      "cell_type": "code",
      "metadata": {
        "execution": {
          "iopub.status.busy": "2021-11-03T10:15:26.089535Z",
          "iopub.execute_input": "2021-11-03T10:15:26.089761Z",
          "iopub.status.idle": "2021-11-03T10:15:26.096523Z",
          "shell.execute_reply.started": "2021-11-03T10:15:26.089736Z",
          "shell.execute_reply": "2021-11-03T10:15:26.09577Z"
        },
        "trusted": true,
        "id": "Wg5mG5z8i50l"
      },
      "source": [
        "train = train.reshape(-1, 80, train.shape[-1])\n",
        "train.shape"
      ],
      "execution_count": null,
      "outputs": []
    },
    {
      "cell_type": "code",
      "metadata": {
        "execution": {
          "iopub.status.busy": "2021-11-03T10:15:26.097809Z",
          "iopub.execute_input": "2021-11-03T10:15:26.098131Z",
          "iopub.status.idle": "2021-11-03T10:15:26.11007Z",
          "shell.execute_reply.started": "2021-11-03T10:15:26.098101Z",
          "shell.execute_reply": "2021-11-03T10:15:26.109099Z"
        },
        "trusted": true,
        "id": "Z3WWkB5vi50l"
      },
      "source": [
        "test = test.reshape(-1, 80, train.shape[-1])\n",
        "test.shape"
      ],
      "execution_count": null,
      "outputs": []
    },
    {
      "cell_type": "code",
      "metadata": {
        "execution": {
          "iopub.status.busy": "2021-11-03T10:15:26.111242Z",
          "iopub.execute_input": "2021-11-03T10:15:26.111505Z",
          "iopub.status.idle": "2021-11-03T10:15:26.126685Z",
          "shell.execute_reply.started": "2021-11-03T10:15:26.11147Z",
          "shell.execute_reply": "2021-11-03T10:15:26.125878Z"
        },
        "trusted": true,
        "id": "NxTpbAS4i50m"
      },
      "source": [
        "targets.shape"
      ],
      "execution_count": null,
      "outputs": []
    },
    {
      "cell_type": "markdown",
      "metadata": {
        "id": "nXRoKpHWi50m"
      },
      "source": [
        "## pressure"
      ]
    },
    {
      "cell_type": "code",
      "metadata": {
        "execution": {
          "iopub.status.busy": "2021-11-03T10:15:26.128053Z",
          "iopub.execute_input": "2021-11-03T10:15:26.128594Z",
          "iopub.status.idle": "2021-11-03T10:15:26.506784Z",
          "shell.execute_reply.started": "2021-11-03T10:15:26.128557Z",
          "shell.execute_reply": "2021-11-03T10:15:26.505709Z"
        },
        "trusted": true,
        "id": "gx2aHheSi50m"
      },
      "source": [
        "pressure = targets.squeeze().reshape(-1, 1).astype('float32')\n",
        "\n",
        "P_MIN = np.min(pressure)\n",
        "P_MAX = np.max(pressure)\n",
        "P_STEP = (pressure[1] -  pressure[0])[0]\n",
        "\n",
        "print(f\"MIN Pressure: {P_MIN}\")\n",
        "print(f\"MAX Pressure: {P_MAX}\")\n",
        "print(f\"Pressure step: {P_STEP}\")\n",
        "print(f\"Unique Values: {np.unique(pressure).shape[0]}\")"
      ],
      "execution_count": null,
      "outputs": []
    },
    {
      "cell_type": "code",
      "metadata": {
        "execution": {
          "iopub.status.busy": "2021-11-03T10:15:26.508123Z",
          "iopub.execute_input": "2021-11-03T10:15:26.508463Z",
          "iopub.status.idle": "2021-11-03T10:15:26.714152Z",
          "shell.execute_reply.started": "2021-11-03T10:15:26.50843Z",
          "shell.execute_reply": "2021-11-03T10:15:26.713142Z"
        },
        "trusted": true,
        "id": "4L60VkfEi50n"
      },
      "source": [
        "del pressure\n",
        "gc.collect()"
      ],
      "execution_count": null,
      "outputs": []
    },
    {
      "cell_type": "markdown",
      "metadata": {
        "id": "Irimrfhfi50n"
      },
      "source": [
        "## TPU or NOT"
      ]
    },
    {
      "cell_type": "code",
      "metadata": {
        "execution": {
          "iopub.status.busy": "2021-11-03T10:15:26.715507Z",
          "iopub.execute_input": "2021-11-03T10:15:26.715766Z",
          "iopub.status.idle": "2021-11-03T10:15:31.901418Z",
          "shell.execute_reply.started": "2021-11-03T10:15:26.715736Z",
          "shell.execute_reply": "2021-11-03T10:15:31.900623Z"
        },
        "trusted": true,
        "id": "qbJnbI93i50n"
      },
      "source": [
        "try:\n",
        "    tpu = tf.distribute.cluster_resolver.TPUClusterResolver()\n",
        "    tf.config.experimental_connect_to_cluster(tpu)\n",
        "    tf.tpu.experimental.initialize_tpu_system(tpu)\n",
        "    tpu_strategy = tf.distribute.experimental.TPUStrategy(tpu)\n",
        "    BATCH_SIZE = tpu_strategy.num_replicas_in_sync * 64\n",
        "    print(\"Running on TPU:\", tpu.master())\n",
        "    print(f\"Batch Size: {BATCH_SIZE}\")\n",
        "    \n",
        "except ValueError:\n",
        "    strategy = tf.distribute.get_strategy()\n",
        "    BATCH_SIZE = 512\n",
        "    print(f\"Running on {strategy.num_replicas_in_sync} replicas\")\n",
        "    print(f\"Batch Size: {BATCH_SIZE}\")"
      ],
      "execution_count": null,
      "outputs": []
    },
    {
      "cell_type": "markdown",
      "metadata": {
        "id": "iCd7OXmZi50o"
      },
      "source": [
        "## Define Model"
      ]
    },
    {
      "cell_type": "code",
      "metadata": {
        "execution": {
          "iopub.status.busy": "2021-11-03T10:15:31.902374Z",
          "iopub.execute_input": "2021-11-03T10:15:31.902632Z",
          "iopub.status.idle": "2021-11-03T10:15:31.915786Z",
          "shell.execute_reply.started": "2021-11-03T10:15:31.902601Z",
          "shell.execute_reply": "2021-11-03T10:15:31.914794Z"
        },
        "trusted": true,
        "id": "O9NdWm1Qi50o"
      },
      "source": [
        "def blgtpumodel():\n",
        "    \n",
        "    x_input = Input(shape=(train.shape[-2:]))\n",
        "    ## input: 80 * train.shape[-1]\n",
        "\n",
        "    x1 = Bidirectional(LSTM(units = 768, return_sequences = True))(x_input)\n",
        "    x2 = Bidirectional(LSTM(units = 512, return_sequences = True))(x1)\n",
        "\n",
        "    ## z2\n",
        "    x3 = Bidirectional(LSTM(units = 384, return_sequences = True))(x2)\n",
        "\n",
        "    ## z3\n",
        "    x4 = Bidirectional(LSTM(units = 256, return_sequences = True))(x3)\n",
        "\n",
        "    ## z4 \n",
        "    x5 = Bidirectional(LSTM(units=128, return_sequences=True))(x4)\n",
        "    \n",
        "    z2 = Bidirectional(GRU(units=384, return_sequences=True))(x2)\n",
        "    \n",
        "    z31 = Multiply()([x3, z2])\n",
        "    z31 = BatchNormalization()(z31)\n",
        "    z3 = Bidirectional(GRU(units=256, return_sequences=True))(z31)\n",
        "    \n",
        "    z41 = Multiply()([x4, z3])\n",
        "    z41 = BatchNormalization()(z41)\n",
        "    z4 = Bidirectional(GRU(units=128, return_sequences=True))(z41)\n",
        "    \n",
        "    z51 = Multiply()([x5, z4])\n",
        "    z51 = BatchNormalization()(z51)\n",
        "    z5 = Bidirectional(GRU(units=64, return_sequences=True))(z51)\n",
        "    \n",
        "    x = Concatenate(axis=2)([x5, z2, z3, z4, z5])\n",
        "    \n",
        "    x = Dense(units=128, activation='selu')(x)\n",
        "    \n",
        "    x_output = Dense(units=1)(x)\n",
        "\n",
        "    model = Model(inputs=x_input, outputs=x_output, name='BLG_Model')\n",
        "\n",
        "    return model"
      ],
      "execution_count": null,
      "outputs": []
    },
    {
      "cell_type": "markdown",
      "metadata": {
        "id": "vKg70tK3i50p"
      },
      "source": [
        "### Summary"
      ]
    },
    {
      "cell_type": "code",
      "metadata": {
        "execution": {
          "iopub.status.busy": "2021-11-03T10:15:31.91713Z",
          "iopub.execute_input": "2021-11-03T10:15:31.91766Z",
          "iopub.status.idle": "2021-11-03T10:15:37.974042Z",
          "shell.execute_reply.started": "2021-11-03T10:15:31.917629Z",
          "shell.execute_reply": "2021-11-03T10:15:37.973055Z"
        },
        "trusted": true,
        "id": "8hxqojzWi50p"
      },
      "source": [
        "model = blgtpumodel()\n",
        "model.summary()"
      ],
      "execution_count": null,
      "outputs": []
    },
    {
      "cell_type": "markdown",
      "metadata": {
        "id": "43azCl7ei50p"
      },
      "source": [
        "## Run"
      ]
    },
    {
      "cell_type": "code",
      "metadata": {
        "execution": {
          "iopub.status.busy": "2021-11-03T10:15:37.975623Z",
          "iopub.execute_input": "2021-11-03T10:15:37.975879Z"
        },
        "trusted": true,
        "id": "5UZ0Xdw2i50p"
      },
      "source": [
        "with tpu_strategy.scope():\n",
        "    \n",
        "    VERBOSE = 0\n",
        "    test_preds = []\n",
        "    kf = KFold(n_splits=7, shuffle=True, random_state=624)\n",
        "    \n",
        "    for fold, (train_idx, test_idx) in enumerate(kf.split(train, targets)):\n",
        "        X_train, X_valid = train[train_idx], train[test_idx]\n",
        "        y_train, y_valid = targets[train_idx], targets[test_idx]\n",
        "\n",
        "        if do_sample_weights == True:\n",
        "            y_w_train, y_w_valid = y_weight[train_idx], y_weight[test_idx]\n",
        "            y_w_train = y_w_train.reshape(y_w_train.shape[0], y_w_train.shape[1], 1)\n",
        "            y_w_valid = y_w_valid.reshape(y_w_valid.shape[0], y_w_valid.shape[1], 1)\n",
        "            print(y_train.shape, y_w_train.shape)\n",
        "        else:\n",
        "                pass\n",
        "        \n",
        "        model = blgtpumodel()\n",
        "        model.compile(optimizer=\"adam\", loss=\"mae\")\n",
        "\n",
        "        lr = ReduceLROnPlateau(monitor=\"val_loss\", factor=0.85, \n",
        "                               patience=7, verbose=VERBOSE)\n",
        "        \n",
        "        save_locally = tf.saved_model.SaveOptions(experimental_io_device='/job:localhost')\n",
        "        chk_point = ModelCheckpoint(f'./Bidirect_LSTM_model_{fold+1}C.h5', options=save_locally, \n",
        "                                    monitor='val_loss', verbose=VERBOSE, \n",
        "                                    save_best_only=True, mode='min')\n",
        "\n",
        "        es = EarlyStopping(monitor=\"val_loss\", patience=30, \n",
        "                           verbose=VERBOSE, mode=\"min\", \n",
        "                           restore_best_weights=True)\n",
        "        \n",
        "        if do_sample_weights == True:\n",
        "            val_data = (X_valid, y_valid, y_w_valid)\n",
        "            sw = y_w_train\n",
        "        else:\n",
        "            val_data = (X_valid, y_valid)\n",
        "            sw = None\n",
        "\n",
        "        model.fit(X_train, y_train, \n",
        "                  validation_data=val_data, \n",
        "                  sample_weight=sw,\n",
        "                #   validation_data=(X_valid, y_valid), \n",
        "                  epochs=400,\n",
        "                  verbose=VERBOSE,\n",
        "                  batch_size=BATCH_SIZE, \n",
        "                  callbacks=[lr, chk_point, es])\n",
        "        \n",
        "        load_locally = tf.saved_model.LoadOptions(experimental_io_device='/job:localhost')\n",
        "        # model = load_model(f'./Bidirect_LSTM_model_{fold+1}C.h5', options=load_locally)\n",
        "        \n",
        "        y_true = y_valid.squeeze().reshape(-1, 1)\n",
        "        y_pred = model.predict(X_valid, batch_size=BATCH_SIZE).squeeze().reshape(-1, 1)\n",
        "        score = mean_absolute_error(y_true, y_pred)\n",
        "        print(f\"Fold-{fold+1} - Score: {score}\")\n",
        "        \n",
        "        test_preds.append(model.predict(test, batch_size=BATCH_SIZE).squeeze().reshape(-1, 1).squeeze())\n",
        "\n",
        "        # if fold >= 1:\n",
        "            # break"
      ],
      "execution_count": null,
      "outputs": []
    },
    {
      "cell_type": "code",
      "metadata": {
        "id": "ckl-hGQVi50q"
      },
      "source": [
        "#    "
      ],
      "execution_count": null,
      "outputs": []
    },
    {
      "cell_type": "markdown",
      "metadata": {
        "id": "55P5w2ini50q"
      },
      "source": [
        "## Submit file"
      ]
    },
    {
      "cell_type": "code",
      "metadata": {
        "trusted": true,
        "id": "Jlv2irhri50q"
      },
      "source": [
        "## 이번에 오류가 안 나야하는 데 괜히\n",
        "## 17:10에 시작  "
      ],
      "execution_count": null,
      "outputs": []
    },
    {
      "cell_type": "code",
      "metadata": {
        "trusted": true,
        "id": "mpEKZpavi50r"
      },
      "source": [
        "sss = pd.read_csv(base_path + 'sample_submission.csv')"
      ],
      "execution_count": null,
      "outputs": []
    },
    {
      "cell_type": "code",
      "metadata": {
        "trusted": true,
        "id": "bqxiPiv_i50r"
      },
      "source": [
        "sss.head()"
      ],
      "execution_count": null,
      "outputs": []
    },
    {
      "cell_type": "code",
      "metadata": {
        "trusted": true,
        "id": "ccYyYdMmi50r"
      },
      "source": [
        "sss[\"pressure\"] = np.median(np.vstack(test_preds),axis=0)\n",
        "print(sss.shape)\n",
        "sss.head()"
      ],
      "execution_count": null,
      "outputs": []
    },
    {
      "cell_type": "code",
      "metadata": {
        "trusted": true,
        "id": "ZO1jd6i1i50s"
      },
      "source": [
        "sss[\"pressure\"] = np.round((sss.pressure - P_MIN)/P_STEP) * P_STEP + P_MIN\n",
        "print(sss.shape)\n",
        "sss.head()"
      ],
      "execution_count": null,
      "outputs": []
    },
    {
      "cell_type": "code",
      "metadata": {
        "trusted": true,
        "id": "jOMdpxtSi50s"
      },
      "source": [
        "sss[\"pressure\"] = np.clip(sss.pressure, P_MIN, P_MAX)\n",
        "print(sss.shape)\n",
        "sss.head()"
      ],
      "execution_count": null,
      "outputs": []
    },
    {
      "cell_type": "code",
      "metadata": {
        "trusted": true,
        "id": "8aDSSeBKi50s"
      },
      "source": [
        "sss.to_csv('blg_tpu_median_submission.csv', index=False)\n",
        "sss.to_csv('blg_tpu_sample_kb_submission.csv', index=False)"
      ],
      "execution_count": null,
      "outputs": []
    },
    {
      "cell_type": "code",
      "metadata": {
        "trusted": true,
        "id": "yFhMDNYpi50s"
      },
      "source": [
        "df_folds = pd.DataFrame(test_preds)\n",
        "df_folds = df_folds.T\n",
        "df_folds.columns = ['fold_1', 'fold_2', 'fold_3', 'fold_4', 'fold_5', 'fold_6', 'fold_7']\n",
        "df_folds.to_csv(base_path + 'rh_7folds.csv', index=False)\n",
        "df_folds.shape"
      ],
      "execution_count": null,
      "outputs": []
    },
    {
      "cell_type": "code",
      "metadata": {
        "id": "PtqWrA95i50s"
      },
      "source": [
        ""
      ],
      "execution_count": null,
      "outputs": []
    },
    {
      "cell_type": "code",
      "metadata": {
        "id": "DMuCj8p1i50t"
      },
      "source": [
        ""
      ],
      "execution_count": null,
      "outputs": []
    }
  ]
}